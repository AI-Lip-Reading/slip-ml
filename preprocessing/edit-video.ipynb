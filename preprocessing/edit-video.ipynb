{
 "cells": [
  {
   "cell_type": "code",
   "execution_count": null,
   "id": "51a84a84",
   "metadata": {},
   "outputs": [],
   "source": [
    "from moviepy.video.io.VideoFileClip import VideoFileClip\n",
    "import os"
   ]
  },
  {
   "cell_type": "markdown",
   "id": "d337d090",
   "metadata": {},
   "source": [
    "might need this\n",
    "```brew install ffmpeg```"
   ]
  },
  {
   "cell_type": "code",
   "execution_count": null,
   "id": "343727fe",
   "metadata": {},
   "outputs": [],
   "source": [
    "cwd = os.getcwd()\n",
    "video_folder = cwd + \"/downloads\"\n",
    "videos = os.listdir(video_folder)\n",
    "print(\"Videos in downloads folder:\")\n",
    "for i, video in enumerate(videos):\n",
    "    print(f\"{i}: {video}\")"
   ]
  },
  {
   "cell_type": "code",
   "execution_count": null,
   "id": "9a64c2ed",
   "metadata": {},
   "outputs": [],
   "source": [
    "# Load the video file\n",
    "video = VideoFileClip(video_folder + '/' + videos[0])"
   ]
  },
  {
   "cell_type": "code",
   "execution_count": null,
   "id": "126d64aa",
   "metadata": {},
   "outputs": [],
   "source": [
    "# Define the start and end times for the slice (in seconds)\n",
    "start_time = 0  # Start at 0 seconds\n",
    "end_time = 10    # End at 10 seconds\n",
    "\n",
    "# Slice the video\n",
    "sliced_video = video.subclipped(start_time, end_time)"
   ]
  },
  {
   "cell_type": "code",
   "execution_count": null,
   "id": "a7ca416a",
   "metadata": {},
   "outputs": [],
   "source": [
    "# seperate the audio from the video\n",
    "audio = sliced_video.audio\n",
    "video_only = sliced_video.without_audio()"
   ]
  },
  {
   "cell_type": "code",
   "execution_count": null,
   "id": "5cb4518d",
   "metadata": {},
   "outputs": [],
   "source": [
    "# Save the sliced video to a new file\n",
    "video_only.write_videofile(\"output_video.mp4\", codec=\"libx264\", audio_codec=\"aac\")\n",
    "audio.write_audiofile(\"output_audio.mp3\")"
   ]
  },
  {
   "cell_type": "code",
   "execution_count": null,
   "id": "99196729",
   "metadata": {},
   "outputs": [],
   "source": [
    "# Close the video objects\n",
    "video.close()\n",
    "sliced_video.close()\n",
    "audio.close()"
   ]
  },
  {
   "cell_type": "code",
   "execution_count": null,
   "id": "65ffa6d1",
   "metadata": {},
   "outputs": [],
   "source": []
  }
 ],
 "metadata": {
  "kernelspec": {
   "display_name": "slip-ml-D1sQfDoh",
   "language": "python",
   "name": "python3"
  },
  "language_info": {
   "codemirror_mode": {
    "name": "ipython",
    "version": 3
   },
   "file_extension": ".py",
   "mimetype": "text/x-python",
   "name": "python",
   "nbconvert_exporter": "python",
   "pygments_lexer": "ipython3",
   "version": "3.11.6"
  }
 },
 "nbformat": 4,
 "nbformat_minor": 5
}
