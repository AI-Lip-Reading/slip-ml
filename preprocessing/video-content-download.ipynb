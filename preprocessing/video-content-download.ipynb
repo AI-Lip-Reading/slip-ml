{
 "cells": [
  {
   "cell_type": "code",
   "execution_count": null,
   "id": "fae16eed",
   "metadata": {},
   "outputs": [],
   "source": [
    "import yt_dlp\n",
    "import os"
   ]
  },
  {
   "cell_type": "code",
   "execution_count": null,
   "id": "8e980947",
   "metadata": {},
   "outputs": [],
   "source": [
    "def download_youtube_video_yt_dlp(url, output_path=\"downloads\"):\n",
    "    ydl_opts = {\n",
    "        \"outtmpl\": f\"{output_path}/%(title)s.%(ext)s\",  # Output path and filename\n",
    "        \"format\": \"best\",  # Select the best single file (video + audio)\n",
    "        \"merge_output_format\": None,  # Avoid merging, stick to single stream\n",
    "    }\n",
    "    try:\n",
    "        # Create output directory if it doesn't exist\n",
    "        os.makedirs(output_path, exist_ok=True)\n",
    "\n",
    "        with yt_dlp.YoutubeDL(ydl_opts) as ydl:\n",
    "            ydl.download([url])\n",
    "        print(\"Download completed successfully!\")\n",
    "    except Exception as e:\n",
    "        print(f\"An error occurred: {e}\")"
   ]
  },
  {
   "cell_type": "code",
   "execution_count": null,
   "id": "33111f9f",
   "metadata": {},
   "outputs": [],
   "source": [
    "# Your video URL\n",
    "video_url = \"https://www.youtube.com/watch?v=35Pdoyi6ZoQ\"\n",
    "#download_youtube_video_yt_dlp(video_url)"
   ]
  },
  {
   "cell_type": "code",
   "execution_count": null,
   "id": "6f98ece7",
   "metadata": {},
   "outputs": [],
   "source": [
    "# 700 videos\n",
    "# 200k 'clips' that are transcribed\n",
    "# average 11 seconds per clip\n",
    "# average run time (in seconds) of videos 1,698 (28 minutes)"
   ]
  },
  {
   "cell_type": "code",
   "execution_count": null,
   "id": "3262ee2e",
   "metadata": {},
   "outputs": [],
   "source": [
    "# https://huggingface.co/datasets/jamescalam/youtube-transcriptions"
   ]
  },
  {
   "cell_type": "code",
   "execution_count": null,
   "id": "0110d367",
   "metadata": {},
   "outputs": [],
   "source": [
    "url = 'https://www.youtube.com/watch?v=fmnqnCi0j_8'\n",
    "download_youtube_video_yt_dlp(url)"
   ]
  }
 ],
 "metadata": {
  "kernelspec": {
   "display_name": "slip-ml-D1sQfDoh",
   "language": "python",
   "name": "python3"
  },
  "language_info": {
   "codemirror_mode": {
    "name": "ipython",
    "version": 3
   },
   "file_extension": ".py",
   "mimetype": "text/x-python",
   "name": "python",
   "nbconvert_exporter": "python",
   "pygments_lexer": "ipython3",
   "version": "3.11.6"
  }
 },
 "nbformat": 4,
 "nbformat_minor": 5
}
