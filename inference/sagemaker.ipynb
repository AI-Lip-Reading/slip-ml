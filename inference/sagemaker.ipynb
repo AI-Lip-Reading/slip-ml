{
 "cells": [
  {
   "cell_type": "code",
   "execution_count": null,
   "id": "6c1c7579",
   "metadata": {},
   "outputs": [],
   "source": [
    "from sagemaker.pytorch import PyTorchModel\n",
    "from sagemaker import Session\n",
    "import json\n",
    "import sagemaker\n",
    "import yt_dlp\n",
    "from moviepy.video.io.VideoFileClip import VideoFileClip\n",
    "import boto3\n",
    "import os"
   ]
  },
  {
   "cell_type": "code",
   "execution_count": null,
   "id": "92e997e8",
   "metadata": {},
   "outputs": [],
   "source": [
    "session = Session()\n",
    "instance_type = \"ml.g5.2xlarge\"\n",
    "bucket = 'slip-ml'"
   ]
  },
  {
   "cell_type": "code",
   "execution_count": null,
   "id": "5d910a86",
   "metadata": {},
   "outputs": [],
   "source": [
    "image_uri = sagemaker.image_uris.retrieve(framework='pytorch',\n",
    "                             region=session.boto_region_name,\n",
    "                             instance_type=instance_type,\n",
    "                             image_scope='training')\n",
    "print(image_uri)"
   ]
  },
  {
   "cell_type": "code",
   "execution_count": null,
   "id": "46710da4",
   "metadata": {},
   "outputs": [],
   "source": [
    "model = PyTorchModel(\n",
    "    model_data=\"s3://slip-ml/models/llama_model.tar.gz\",  # Dummy, as models are loaded from S3 in serve.py\n",
    "    role=\"arn:aws:iam::438465160412:role/SageMakerRole\",\n",
    "    entry_point=\"serve.py\",\n",
    "    source_dir=\"source\",\n",
    "    image_uri=image_uri,\n",
    "    sagemaker_session=session,\n",
    "    env={\n",
    "        \"SM_DEFAULT_BUCKET\": f\"{bucket}\",\n",
    "        \"VALLR_S3_KEY\": \"s3://sagemaker-us-east-1-438465160412/pytorch-training-2025-05-13-18-29-30-872/output/model.tar.gz\",\n",
    "        \"LLAMA_S3_KEY\": \"models/llama_model.tar.gz\",\n",
    "    }\n",
    ")"
   ]
  },
  {
   "cell_type": "code",
   "execution_count": null,
   "id": "d42a1df3",
   "metadata": {},
   "outputs": [],
   "source": [
    "predictor = model.deploy(\n",
    "    initial_instance_count=1,\n",
    "    instance_type=instance_type,  # Single-GPU\n",
    "    endpoint_name=\"vallr-llama-endpoint\"\n",
    ")"
   ]
  },
  {
   "cell_type": "code",
   "execution_count": null,
   "id": "af483200",
   "metadata": {},
   "outputs": [],
   "source": [
    "def download_youtube_video_yt_dlp(url):\n",
    "    # extract video ID from the URL\n",
    "    video_id = url.split(\"v=\")[-1]\n",
    "    if \"&\" in video_id:\n",
    "        video_id = video_id.split(\"&\")[0]\n",
    "\n",
    "    ydl_opts = {\n",
    "        \"outtmpl\": f\"{video_id}.%(ext)s\",  # Output path and filename\n",
    "        \"format\": \"best\",  # Select the best single file (video + audio)\n",
    "        \"merge_output_format\": None,  # Avoid merging, stick to single stream\n",
    "    }\n",
    "\n",
    "    try:\n",
    "        with yt_dlp.YoutubeDL(ydl_opts) as ydl:\n",
    "            ydl.download([url])\n",
    "        print(\"Download completed successfully!\")\n",
    "        return f\"{video_id}.mp4\"\n",
    "    except Exception as e:\n",
    "        print(f\"An error occurred: {e}\")"
   ]
  },
  {
   "cell_type": "code",
   "execution_count": null,
   "id": "9449a8f5",
   "metadata": {},
   "outputs": [],
   "source": [
    "youtube_test = 'https://www.youtube.com/watch?v=ePRrIb1NCkw'\n",
    "video_file = download_youtube_video_yt_dlp(youtube_test)\n",
    "video = VideoFileClip(video_file)\n",
    "chunk = video.subclipped(30, 40)\n",
    "chunk_filename = f\"testing_vid.mp4\"\n",
    "chunk.write_videofile(chunk_filename, codec=\"libx264\")\n",
    "# upload the video to S3\n",
    "s3 = boto3.client('s3')\n",
    "s3.upload_file(chunk_filename, bucket, chunk_filename)\n",
    "# delete the local video file\n",
    "os.remove(video_file)"
   ]
  },
  {
   "cell_type": "code",
   "execution_count": null,
   "id": "0a5a5804",
   "metadata": {},
   "outputs": [],
   "source": [
    "response = predictor.predict({\n",
    "    \"input_s3_path\": f\"s3://{bucket}/{chunk_filename}\",\n",
    "}, accept=\"application/json\")\n",
    "print(json.loads(response))"
   ]
  }
 ],
 "metadata": {
  "kernelspec": {
   "display_name": "slip-ml-bXUTykFe",
   "language": "python",
   "name": "python3"
  },
  "language_info": {
   "codemirror_mode": {
    "name": "ipython",
    "version": 3
   },
   "file_extension": ".py",
   "mimetype": "text/x-python",
   "name": "python",
   "nbconvert_exporter": "python",
   "pygments_lexer": "ipython3",
   "version": "3.11.7"
  }
 },
 "nbformat": 4,
 "nbformat_minor": 5
}
