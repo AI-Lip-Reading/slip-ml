{
 "cells": [
  {
   "cell_type": "code",
   "execution_count": null,
   "id": "191c486d",
   "metadata": {},
   "outputs": [],
   "source": [
    "import torch\n",
    "from transformers import AutoModelForCausalLM, AutoTokenizer\n",
    "import re\n",
    "import json"
   ]
  },
  {
   "cell_type": "code",
   "execution_count": null,
   "id": "d01a80e2",
   "metadata": {},
   "outputs": [],
   "source": [
    "def remove_stress(phoneme):\n",
    "    return re.sub(r'[0-2]$', '', phoneme)"
   ]
  },
  {
   "cell_type": "code",
   "execution_count": null,
   "id": "56804be3",
   "metadata": {},
   "outputs": [],
   "source": [
    "# Function to preprocess phoneme input from dataset format\n",
    "def preprocess_phonemes(phoneme_list):\n",
    "    # Flatten list of phoneme strings and remove stress markers\n",
    "    phoneme_sequence = []\n",
    "    for phoneme_str in phoneme_list:\n",
    "        phonemes = phoneme_str.split()\n",
    "        phoneme_sequence.extend(remove_stress(p) for p in phonemes)\n",
    "    \n",
    "    # Convert to space-separated string (assumed format for phoneme-llama)\n",
    "    return ' '.join(phoneme_sequence)"
   ]
  },
  {
   "cell_type": "code",
   "execution_count": null,
   "id": "590f7ec3",
   "metadata": {},
   "outputs": [],
   "source": [
    "# Function to test phoneme-llama with a single phoneme sequence\n",
    "def test_phoneme_llama(model, tokenizer, phoneme_input, max_length=50):\n",
    "    try:\n",
    "        # Tokenize input\n",
    "        inputs = tokenizer(phoneme_input, return_tensors=\"pt\").to(model.device)\n",
    "        \n",
    "        # Generate sentence\n",
    "        with torch.no_grad():\n",
    "            outputs = model.generate(\n",
    "                inputs[\"input_ids\"],\n",
    "                max_length=max_length,\n",
    "                num_beams=5,\n",
    "                no_repeat_ngram_size=2,\n",
    "                early_stopping=True\n",
    "            )\n",
    "        \n",
    "        # Decode output\n",
    "        sentence = tokenizer.decode(outputs[0], skip_special_tokens=True)\n",
    "        return sentence\n",
    "    except Exception as e:\n",
    "        return f\"Error processing input '{phoneme_input}': {str(e)}\""
   ]
  },
  {
   "cell_type": "code",
   "execution_count": null,
   "id": "3fad359b",
   "metadata": {},
   "outputs": [],
   "source": [
    "# Set device\n",
    "device = torch.device(\"cuda\" if torch.cuda.is_available() else \"cpu\")\n",
    "print(f\"Using device: {device}\")\n",
    "\n",
    "# Load phoneme-llama model and tokenizer\n",
    "model_name = \"bbunzeck/phoneme-llama\"\n",
    "try:\n",
    "    print(f\"Loading model {model_name}...\")\n",
    "    model = AutoModelForCausalLM.from_pretrained(\n",
    "        model_name, torch_dtype=torch.float16 if device.type == \"cuda\" else torch.float32\n",
    "    ).to(device)\n",
    "    tokenizer = AutoTokenizer.from_pretrained(model_name)\n",
    "    model.eval()\n",
    "except Exception as e:\n",
    "    print(f\"Failed to load model: {str(e)}\")"
   ]
  },
  {
   "cell_type": "code",
   "execution_count": null,
   "id": "0ea658e5",
   "metadata": {},
   "outputs": [],
   "source": [
    "# Sample input from your dataset\n",
    "dataset_sample = {\n",
    "    \"video_id\": \"YPvP_C4qy0E\",\n",
    "    \"chunk_name\": \"12-1\",\n",
    "    \"text\": \"expensive at all.\",\n",
    "    \"phonemes\": [\n",
    "        \"IH0 K S P EH1 N S IH0 V\",\n",
    "        \"AE1 T\"\n",
    "    ]\n",
    "}"
   ]
  },
  {
   "cell_type": "code",
   "execution_count": null,
   "id": "d4abb905",
   "metadata": {},
   "outputs": [],
   "source": [
    "# Preprocess dataset sample\n",
    "phoneme_input = preprocess_phonemes(dataset_sample[\"phonemes\"])\n",
    "print(f\"\\nTesting dataset sample:\")\n",
    "print(f\"Input phonemes: {phoneme_input}\")\n",
    "print(f\"Expected text: {dataset_sample['text']}\")\n",
    "result = test_phoneme_llama(model, tokenizer, phoneme_input)\n",
    "print(f\"Generated sentence: {result}\")"
   ]
  }
 ],
 "metadata": {
  "language_info": {
   "name": "python"
  }
 },
 "nbformat": 4,
 "nbformat_minor": 5
}
