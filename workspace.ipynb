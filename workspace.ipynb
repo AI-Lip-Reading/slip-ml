{
 "cells": [
  {
   "cell_type": "code",
   "execution_count": 88,
   "id": "4ee97b69",
   "metadata": {},
   "outputs": [],
   "source": [
    "import yt_dlp\n",
    "import os\n",
    "from moviepy.video.io.VideoFileClip import VideoFileClip\n",
    "import torch\n",
    "from transformers import AutoModelForSpeechSeq2Seq, AutoProcessor, pipeline\n",
    "import json"
   ]
  },
  {
   "cell_type": "code",
   "execution_count": 89,
   "id": "d26b4778",
   "metadata": {},
   "outputs": [
    {
     "name": "stdout",
     "output_type": "stream",
     "text": [
      "Using mps device\n"
     ]
    }
   ],
   "source": [
    "device = torch.device(\n",
    "    \"cuda\"\n",
    "    if torch.cuda.is_available()\n",
    "    else \"mps\"\n",
    "    if torch.backends.mps.is_available()\n",
    "    else \"cpu\"\n",
    ")\n",
    "print(f\"Using {device} device\")"
   ]
  },
  {
   "cell_type": "code",
   "execution_count": 90,
   "id": "32fa846f",
   "metadata": {},
   "outputs": [
    {
     "name": "stdout",
     "output_type": "stream",
     "text": [
      "Using torch.float32 dtype\n"
     ]
    }
   ],
   "source": [
    "torch_dtype = torch.float16 if torch.cuda.is_available() else torch.float32\n",
    "print(f\"Using {torch_dtype} dtype\")"
   ]
  },
  {
   "cell_type": "code",
   "execution_count": 91,
   "id": "2db5472c",
   "metadata": {},
   "outputs": [],
   "source": [
    "model_id = \"openai/whisper-large-v3-turbo\"\n",
    "model = AutoModelForSpeechSeq2Seq.from_pretrained(model_id, torch_dtype=torch_dtype, low_cpu_mem_usage=True, use_safetensors=True)\n",
    "model.to(device)\n",
    "processor = AutoProcessor.from_pretrained(model_id)"
   ]
  },
  {
   "cell_type": "code",
   "execution_count": 92,
   "id": "b3e67953",
   "metadata": {},
   "outputs": [
    {
     "name": "stderr",
     "output_type": "stream",
     "text": [
      "Device set to use mps\n"
     ]
    }
   ],
   "source": [
    "pipe = pipeline(\n",
    "    \"automatic-speech-recognition\",\n",
    "    model=model,\n",
    "    tokenizer=processor.tokenizer,\n",
    "    feature_extractor=processor.feature_extractor,\n",
    "    torch_dtype=torch_dtype,\n",
    "    device=device,\n",
    ")"
   ]
  },
  {
   "cell_type": "code",
   "execution_count": 93,
   "id": "58289a05",
   "metadata": {},
   "outputs": [],
   "source": [
    "def download_youtube_video_yt_dlp(url):\n",
    "    # extract video ID from the URL\n",
    "    video_id = url.split(\"v=\")[-1]\n",
    "    if \"&\" in video_id:\n",
    "        video_id = video_id.split(\"&\")[0]\n",
    "\n",
    "    ydl_opts = {\n",
    "        \"outtmpl\": f\"{video_id}.%(ext)s\",  # Output path and filename\n",
    "        \"format\": \"best\",  # Select the best single file (video + audio)\n",
    "        \"merge_output_format\": None,  # Avoid merging, stick to single stream\n",
    "    }\n",
    "    try:\n",
    "        with yt_dlp.YoutubeDL(ydl_opts) as ydl:\n",
    "            ydl.download([url])\n",
    "        print(\"Download completed successfully!\")\n",
    "        return video_id\n",
    "    except Exception as e:\n",
    "        print(f\"An error occurred: {e}\")"
   ]
  },
  {
   "cell_type": "code",
   "execution_count": 94,
   "id": "1ef14e87",
   "metadata": {},
   "outputs": [],
   "source": [
    "def get_video_chunk_names(path):\n",
    "    # extract video ID from the filename\n",
    "    video_id = path.split('__')[0]\n",
    "    chunk_name = path.split('__')[2].split('.')[0]\n",
    "    return video_id, chunk_name"
   ]
  },
  {
   "cell_type": "code",
   "execution_count": 95,
   "id": "496cace7",
   "metadata": {},
   "outputs": [],
   "source": [
    "def split_audio_video(video_file):\n",
    "    try:\n",
    "        # extract video ID from the filename\n",
    "        video_id, chunk_name = get_video_chunk_names(video_file)\n",
    "        print(f\"Video ID: {video_id}, Chunk Name: {chunk_name}\")\n",
    "\n",
    "        # import video\n",
    "        video_chunk = VideoFileClip(video_file)\n",
    "\n",
    "        # Split audio and video\n",
    "        audio_path = os.path.join(f\"{video_id}__audio__{chunk_name}.mp3\")\n",
    "        video_path = os.path.join(f\"{video_id}__video__{chunk_name}.mp4\")\n",
    "        print(f\"Audio path: {audio_path}, Video path: {video_path}\")\n",
    "\n",
    "        # Write audio to file\n",
    "        video_chunk.audio.write_audiofile(audio_path)\n",
    "\n",
    "        # Write video to file\n",
    "        video_only = video_chunk.without_audio()\n",
    "        video_only.write_videofile(video_path, codec=\"libx264\", audio_codec=\"aac\")\n",
    "\n",
    "        # Close the video clip\n",
    "        video_chunk.close()\n",
    "        video_only.close()\n",
    "\n",
    "        # delete chunk video file\n",
    "        os.remove(video_file)\n",
    "\n",
    "        print(\"Audio and video split successfully!\")\n",
    "        return audio_path\n",
    "    except Exception as e:\n",
    "        print(f\"An error occurred: {e}\")"
   ]
  },
  {
   "cell_type": "code",
   "execution_count": 96,
   "id": "f14024e6",
   "metadata": {},
   "outputs": [],
   "source": [
    "def clip_video_into_chunks(video_id, chunk_length=10):\n",
    "    input_file = video_id + '.mp4'\n",
    "    try:\n",
    "        video = VideoFileClip(input_file)\n",
    "        duration = int(video.duration)\n",
    "        chunks = []\n",
    "\n",
    "        for start in range(0, duration, chunk_length):\n",
    "            end = min(start + chunk_length, duration)\n",
    "            chunk = video.subclipped(start, end)\n",
    "            chunk_filename = f\"{video_id}__chunk__{start // chunk_length}.mp4\"\n",
    "            chunk.write_videofile(chunk_filename, codec=\"libx264\")\n",
    "            chunks.append(chunk_filename)\n",
    "\n",
    "        video.close()\n",
    "\n",
    "        # detele original video file\n",
    "        os.remove(input_file)\n",
    "\n",
    "        return chunks\n",
    "    except Exception as e:\n",
    "        print(f\"An error occurred while splitting the video: {e}\")\n",
    "        return []"
   ]
  },
  {
   "cell_type": "code",
   "execution_count": 97,
   "id": "28c30946",
   "metadata": {},
   "outputs": [],
   "source": [
    "def audio_to_text(audio_file):\n",
    "    result = pipe(audio_file)\n",
    "    text = result[\"text\"]\n",
    "    # extract video ID from the filename\n",
    "    video_id, chunk_name = get_video_chunk_names(audio_file)\n",
    "    # save text to JSON file\n",
    "    data = {\n",
    "        \"video_id\": video_id,\n",
    "        \"chunk_name\": chunk_name,\n",
    "        \"text\": text\n",
    "    }\n",
    "\n",
    "    # Save the data to a JSON file\n",
    "    json_file = f\"{video_id}__text__{chunk_name}.json\"\n",
    "    with open(json_file, \"w\") as f:\n",
    "        json.dump(data, f, indent=4)\n",
    "\n",
    "    print(f\"Text saved to {json_file}\")\n",
    "\n",
    "    # remove audio file\n",
    "    os.remove(audio_file)"
   ]
  },
  {
   "cell_type": "code",
   "execution_count": 98,
   "id": "0b4d86ba",
   "metadata": {},
   "outputs": [],
   "source": [
    "# get list of YT video urls\n",
    "videos = ['https://www.youtube.com/watch?v=fmnqnCi0j_8']"
   ]
  },
  {
   "cell_type": "code",
   "execution_count": 99,
   "id": "3976ba6c",
   "metadata": {},
   "outputs": [
    {
     "name": "stdout",
     "output_type": "stream",
     "text": [
      "[youtube] Extracting URL: https://www.youtube.com/watch?v=fmnqnCi0j_8\n",
      "[youtube] fmnqnCi0j_8: Downloading webpage\n",
      "[youtube] fmnqnCi0j_8: Downloading tv client config\n",
      "[youtube] fmnqnCi0j_8: Downloading player 9a279502-main\n",
      "[youtube] fmnqnCi0j_8: Downloading tv player API JSON\n",
      "[youtube] fmnqnCi0j_8: Downloading ios player API JSON\n",
      "[youtube] fmnqnCi0j_8: Downloading m3u8 information\n",
      "[info] fmnqnCi0j_8: Downloading 1 format(s): 18\n",
      "[download] Destination: fmnqnCi0j_8.mp4\n",
      "[download] 100% of    8.68MiB in 00:00:00 at 17.29MiB/s    \n",
      "Download completed successfully!\n",
      "{'video_found': True, 'audio_found': True, 'metadata': {'major_brand': 'mp42', 'minor_version': '0', 'compatible_brands': 'isommp42', 'creation_time': '2017-04-13T10:02:49.000000Z'}, 'inputs': [{'streams': [{'input_number': 0, 'stream_number': 0, 'stream_type': 'video', 'language': None, 'default': True, 'size': [640, 360], 'bitrate': 233, 'fps': 29.97002997002997, 'codec_name': 'h264', 'profile': '(Main)', 'metadata': {'Metadata': '', 'creation_time': '2017-04-13T10:02:49.000000Z', 'handler_name': 'ISO Media file produced by Google Inc. Created on: 04/13/2017.', 'vendor_id': '[0][0][0][0]'}}, {'input_number': 0, 'stream_number': 1, 'stream_type': 'audio', 'language': None, 'default': True, 'fps': 44100, 'bitrate': 125, 'metadata': {'Metadata': '', 'creation_time': '2017-04-13T10:02:49.000000Z', 'handler_name': 'ISO Media file produced by Google Inc. Created on: 04/13/2017.', 'vendor_id': '[0][0][0][0]'}}], 'input_number': 0}], 'duration': 200.71, 'bitrate': 362, 'start': 0.0, 'default_video_input_number': 0, 'default_video_stream_number': 0, 'video_codec_name': 'h264', 'video_profile': '(Main)', 'video_size': [640, 360], 'video_bitrate': 233, 'video_fps': 29.97002997002997, 'default_audio_input_number': 0, 'default_audio_stream_number': 1, 'audio_fps': 44100, 'audio_bitrate': 125, 'video_duration': 200.71, 'video_n_frames': 6015}\n",
      "/Users/emmettstorts/.local/share/virtualenvs/slip-ml-D1sQfDoh/lib/python3.11/site-packages/imageio_ffmpeg/binaries/ffmpeg-macos-aarch64-v7.1 -i fmnqnCi0j_8.mp4 -loglevel error -f image2pipe -vf scale=640:360 -sws_flags bicubic -pix_fmt rgb24 -vcodec rawvideo -\n",
      "MoviePy - Building video fmnqnCi0j_8__chunk__0.mp4.\n",
      "MoviePy - Writing audio in fmnqnCi0j_8__chunk__0TEMP_MPY_wvf_snd.mp3\n"
     ]
    },
    {
     "name": "stderr",
     "output_type": "stream",
     "text": [
      "                                                        \r"
     ]
    },
    {
     "name": "stdout",
     "output_type": "stream",
     "text": [
      "MoviePy - Done.\n",
      "MoviePy - Writing video fmnqnCi0j_8__chunk__0.mp4\n",
      "\n"
     ]
    },
    {
     "name": "stderr",
     "output_type": "stream",
     "text": [
      "                                                                         \r"
     ]
    },
    {
     "name": "stdout",
     "output_type": "stream",
     "text": [
      "MoviePy - Done !\n",
      "MoviePy - video ready fmnqnCi0j_8__chunk__0.mp4\n",
      "MoviePy - Building video fmnqnCi0j_8__chunk__1.mp4.\n",
      "MoviePy - Writing audio in fmnqnCi0j_8__chunk__1TEMP_MPY_wvf_snd.mp3\n"
     ]
    },
    {
     "name": "stderr",
     "output_type": "stream",
     "text": [
      "                                                        \r"
     ]
    },
    {
     "name": "stdout",
     "output_type": "stream",
     "text": [
      "MoviePy - Done.\n",
      "MoviePy - Writing video fmnqnCi0j_8__chunk__1.mp4\n",
      "\n"
     ]
    },
    {
     "name": "stderr",
     "output_type": "stream",
     "text": [
      "                                                                         \r"
     ]
    },
    {
     "name": "stdout",
     "output_type": "stream",
     "text": [
      "MoviePy - Done !\n",
      "MoviePy - video ready fmnqnCi0j_8__chunk__1.mp4\n",
      "MoviePy - Building video fmnqnCi0j_8__chunk__2.mp4.\n",
      "MoviePy - Writing audio in fmnqnCi0j_8__chunk__2TEMP_MPY_wvf_snd.mp3\n"
     ]
    },
    {
     "name": "stderr",
     "output_type": "stream",
     "text": [
      "                                                        \r"
     ]
    },
    {
     "name": "stdout",
     "output_type": "stream",
     "text": [
      "MoviePy - Done.\n",
      "MoviePy - Writing video fmnqnCi0j_8__chunk__2.mp4\n",
      "\n"
     ]
    },
    {
     "name": "stderr",
     "output_type": "stream",
     "text": [
      "                                                                         \r"
     ]
    },
    {
     "name": "stdout",
     "output_type": "stream",
     "text": [
      "MoviePy - Done !\n",
      "MoviePy - video ready fmnqnCi0j_8__chunk__2.mp4\n",
      "MoviePy - Building video fmnqnCi0j_8__chunk__3.mp4.\n",
      "MoviePy - Writing audio in fmnqnCi0j_8__chunk__3TEMP_MPY_wvf_snd.mp3\n"
     ]
    },
    {
     "name": "stderr",
     "output_type": "stream",
     "text": [
      "                                                        \r"
     ]
    },
    {
     "name": "stdout",
     "output_type": "stream",
     "text": [
      "MoviePy - Done.\n",
      "MoviePy - Writing video fmnqnCi0j_8__chunk__3.mp4\n",
      "\n"
     ]
    },
    {
     "name": "stderr",
     "output_type": "stream",
     "text": [
      "                                                                         \r"
     ]
    },
    {
     "name": "stdout",
     "output_type": "stream",
     "text": [
      "MoviePy - Done !\n",
      "MoviePy - video ready fmnqnCi0j_8__chunk__3.mp4\n",
      "MoviePy - Building video fmnqnCi0j_8__chunk__4.mp4.\n",
      "MoviePy - Writing audio in fmnqnCi0j_8__chunk__4TEMP_MPY_wvf_snd.mp3\n"
     ]
    },
    {
     "name": "stderr",
     "output_type": "stream",
     "text": [
      "                                                        \r"
     ]
    },
    {
     "name": "stdout",
     "output_type": "stream",
     "text": [
      "MoviePy - Done.\n",
      "MoviePy - Writing video fmnqnCi0j_8__chunk__4.mp4\n",
      "\n"
     ]
    },
    {
     "name": "stderr",
     "output_type": "stream",
     "text": [
      "                                                                         \r"
     ]
    },
    {
     "name": "stdout",
     "output_type": "stream",
     "text": [
      "MoviePy - Done !\n",
      "MoviePy - video ready fmnqnCi0j_8__chunk__4.mp4\n",
      "MoviePy - Building video fmnqnCi0j_8__chunk__5.mp4.\n",
      "MoviePy - Writing audio in fmnqnCi0j_8__chunk__5TEMP_MPY_wvf_snd.mp3\n"
     ]
    },
    {
     "name": "stderr",
     "output_type": "stream",
     "text": [
      "                                                                    \r"
     ]
    },
    {
     "name": "stdout",
     "output_type": "stream",
     "text": [
      "MoviePy - Done.\n",
      "MoviePy - Writing video fmnqnCi0j_8__chunk__5.mp4\n",
      "\n"
     ]
    },
    {
     "name": "stderr",
     "output_type": "stream",
     "text": [
      "                                                                         \r"
     ]
    },
    {
     "name": "stdout",
     "output_type": "stream",
     "text": [
      "MoviePy - Done !\n",
      "MoviePy - video ready fmnqnCi0j_8__chunk__5.mp4\n",
      "MoviePy - Building video fmnqnCi0j_8__chunk__6.mp4.\n",
      "MoviePy - Writing audio in fmnqnCi0j_8__chunk__6TEMP_MPY_wvf_snd.mp3\n"
     ]
    },
    {
     "name": "stderr",
     "output_type": "stream",
     "text": [
      "                                                        \r"
     ]
    },
    {
     "name": "stdout",
     "output_type": "stream",
     "text": [
      "MoviePy - Done.\n",
      "MoviePy - Writing video fmnqnCi0j_8__chunk__6.mp4\n",
      "\n"
     ]
    },
    {
     "name": "stderr",
     "output_type": "stream",
     "text": [
      "                                                                         \r"
     ]
    },
    {
     "name": "stdout",
     "output_type": "stream",
     "text": [
      "MoviePy - Done !\n",
      "MoviePy - video ready fmnqnCi0j_8__chunk__6.mp4\n",
      "MoviePy - Building video fmnqnCi0j_8__chunk__7.mp4.\n",
      "MoviePy - Writing audio in fmnqnCi0j_8__chunk__7TEMP_MPY_wvf_snd.mp3\n"
     ]
    },
    {
     "name": "stderr",
     "output_type": "stream",
     "text": [
      "                                                        \r"
     ]
    },
    {
     "name": "stdout",
     "output_type": "stream",
     "text": [
      "MoviePy - Done.\n",
      "MoviePy - Writing video fmnqnCi0j_8__chunk__7.mp4\n",
      "\n"
     ]
    },
    {
     "name": "stderr",
     "output_type": "stream",
     "text": [
      "                                                                         \r"
     ]
    },
    {
     "name": "stdout",
     "output_type": "stream",
     "text": [
      "MoviePy - Done !\n",
      "MoviePy - video ready fmnqnCi0j_8__chunk__7.mp4\n",
      "MoviePy - Building video fmnqnCi0j_8__chunk__8.mp4.\n",
      "MoviePy - Writing audio in fmnqnCi0j_8__chunk__8TEMP_MPY_wvf_snd.mp3\n"
     ]
    },
    {
     "name": "stderr",
     "output_type": "stream",
     "text": [
      "                                                                    \r"
     ]
    },
    {
     "name": "stdout",
     "output_type": "stream",
     "text": [
      "MoviePy - Done.\n",
      "MoviePy - Writing video fmnqnCi0j_8__chunk__8.mp4\n",
      "\n"
     ]
    },
    {
     "name": "stderr",
     "output_type": "stream",
     "text": [
      "                                                                         \r"
     ]
    },
    {
     "name": "stdout",
     "output_type": "stream",
     "text": [
      "MoviePy - Done !\n",
      "MoviePy - video ready fmnqnCi0j_8__chunk__8.mp4\n",
      "MoviePy - Building video fmnqnCi0j_8__chunk__9.mp4.\n",
      "MoviePy - Writing audio in fmnqnCi0j_8__chunk__9TEMP_MPY_wvf_snd.mp3\n"
     ]
    },
    {
     "name": "stderr",
     "output_type": "stream",
     "text": [
      "                                                        \r"
     ]
    },
    {
     "name": "stdout",
     "output_type": "stream",
     "text": [
      "MoviePy - Done.\n",
      "MoviePy - Writing video fmnqnCi0j_8__chunk__9.mp4\n",
      "\n"
     ]
    },
    {
     "name": "stderr",
     "output_type": "stream",
     "text": [
      "                                                                         \r"
     ]
    },
    {
     "name": "stdout",
     "output_type": "stream",
     "text": [
      "MoviePy - Done !\n",
      "MoviePy - video ready fmnqnCi0j_8__chunk__9.mp4\n",
      "MoviePy - Building video fmnqnCi0j_8__chunk__10.mp4.\n",
      "MoviePy - Writing audio in fmnqnCi0j_8__chunk__10TEMP_MPY_wvf_snd.mp3\n"
     ]
    },
    {
     "name": "stderr",
     "output_type": "stream",
     "text": [
      "                                                        \r"
     ]
    },
    {
     "name": "stdout",
     "output_type": "stream",
     "text": [
      "MoviePy - Done.\n",
      "MoviePy - Writing video fmnqnCi0j_8__chunk__10.mp4\n",
      "\n"
     ]
    },
    {
     "name": "stderr",
     "output_type": "stream",
     "text": [
      "                                                                         \r"
     ]
    },
    {
     "name": "stdout",
     "output_type": "stream",
     "text": [
      "MoviePy - Done !\n",
      "MoviePy - video ready fmnqnCi0j_8__chunk__10.mp4\n",
      "MoviePy - Building video fmnqnCi0j_8__chunk__11.mp4.\n",
      "MoviePy - Writing audio in fmnqnCi0j_8__chunk__11TEMP_MPY_wvf_snd.mp3\n"
     ]
    },
    {
     "name": "stderr",
     "output_type": "stream",
     "text": [
      "                                                                   \r"
     ]
    },
    {
     "name": "stdout",
     "output_type": "stream",
     "text": [
      "MoviePy - Done.\n",
      "MoviePy - Writing video fmnqnCi0j_8__chunk__11.mp4\n",
      "\n"
     ]
    },
    {
     "name": "stderr",
     "output_type": "stream",
     "text": [
      "                                                                         \r"
     ]
    },
    {
     "name": "stdout",
     "output_type": "stream",
     "text": [
      "MoviePy - Done !\n",
      "MoviePy - video ready fmnqnCi0j_8__chunk__11.mp4\n",
      "MoviePy - Building video fmnqnCi0j_8__chunk__12.mp4.\n",
      "MoviePy - Writing audio in fmnqnCi0j_8__chunk__12TEMP_MPY_wvf_snd.mp3\n"
     ]
    },
    {
     "name": "stderr",
     "output_type": "stream",
     "text": [
      "                                                        \r"
     ]
    },
    {
     "name": "stdout",
     "output_type": "stream",
     "text": [
      "MoviePy - Done.\n",
      "MoviePy - Writing video fmnqnCi0j_8__chunk__12.mp4\n",
      "\n"
     ]
    },
    {
     "name": "stderr",
     "output_type": "stream",
     "text": [
      "                                                                         \r"
     ]
    },
    {
     "name": "stdout",
     "output_type": "stream",
     "text": [
      "MoviePy - Done !\n",
      "MoviePy - video ready fmnqnCi0j_8__chunk__12.mp4\n",
      "MoviePy - Building video fmnqnCi0j_8__chunk__13.mp4.\n",
      "MoviePy - Writing audio in fmnqnCi0j_8__chunk__13TEMP_MPY_wvf_snd.mp3\n"
     ]
    },
    {
     "name": "stderr",
     "output_type": "stream",
     "text": [
      "                                                        \r"
     ]
    },
    {
     "name": "stdout",
     "output_type": "stream",
     "text": [
      "MoviePy - Done.\n",
      "MoviePy - Writing video fmnqnCi0j_8__chunk__13.mp4\n",
      "\n"
     ]
    },
    {
     "name": "stderr",
     "output_type": "stream",
     "text": [
      "                                                                         \r"
     ]
    },
    {
     "name": "stdout",
     "output_type": "stream",
     "text": [
      "MoviePy - Done !\n",
      "MoviePy - video ready fmnqnCi0j_8__chunk__13.mp4\n",
      "MoviePy - Building video fmnqnCi0j_8__chunk__14.mp4.\n",
      "MoviePy - Writing audio in fmnqnCi0j_8__chunk__14TEMP_MPY_wvf_snd.mp3\n"
     ]
    },
    {
     "name": "stderr",
     "output_type": "stream",
     "text": [
      "                                                        \r"
     ]
    },
    {
     "name": "stdout",
     "output_type": "stream",
     "text": [
      "MoviePy - Done.\n",
      "MoviePy - Writing video fmnqnCi0j_8__chunk__14.mp4\n",
      "\n"
     ]
    },
    {
     "name": "stderr",
     "output_type": "stream",
     "text": [
      "                                                                         \r"
     ]
    },
    {
     "name": "stdout",
     "output_type": "stream",
     "text": [
      "MoviePy - Done !\n",
      "MoviePy - video ready fmnqnCi0j_8__chunk__14.mp4\n",
      "MoviePy - Building video fmnqnCi0j_8__chunk__15.mp4.\n",
      "MoviePy - Writing audio in fmnqnCi0j_8__chunk__15TEMP_MPY_wvf_snd.mp3\n"
     ]
    },
    {
     "name": "stderr",
     "output_type": "stream",
     "text": [
      "                                                        \r"
     ]
    },
    {
     "name": "stdout",
     "output_type": "stream",
     "text": [
      "MoviePy - Done.\n",
      "MoviePy - Writing video fmnqnCi0j_8__chunk__15.mp4\n",
      "\n"
     ]
    },
    {
     "name": "stderr",
     "output_type": "stream",
     "text": [
      "                                                                         \r"
     ]
    },
    {
     "name": "stdout",
     "output_type": "stream",
     "text": [
      "MoviePy - Done !\n",
      "MoviePy - video ready fmnqnCi0j_8__chunk__15.mp4\n",
      "MoviePy - Building video fmnqnCi0j_8__chunk__16.mp4.\n",
      "MoviePy - Writing audio in fmnqnCi0j_8__chunk__16TEMP_MPY_wvf_snd.mp3\n"
     ]
    },
    {
     "name": "stderr",
     "output_type": "stream",
     "text": [
      "                                                        \r"
     ]
    },
    {
     "name": "stdout",
     "output_type": "stream",
     "text": [
      "MoviePy - Done.\n",
      "MoviePy - Writing video fmnqnCi0j_8__chunk__16.mp4\n",
      "\n"
     ]
    },
    {
     "name": "stderr",
     "output_type": "stream",
     "text": [
      "                                                                         \r"
     ]
    },
    {
     "name": "stdout",
     "output_type": "stream",
     "text": [
      "MoviePy - Done !\n",
      "MoviePy - video ready fmnqnCi0j_8__chunk__16.mp4\n",
      "MoviePy - Building video fmnqnCi0j_8__chunk__17.mp4.\n",
      "MoviePy - Writing audio in fmnqnCi0j_8__chunk__17TEMP_MPY_wvf_snd.mp3\n"
     ]
    },
    {
     "name": "stderr",
     "output_type": "stream",
     "text": [
      "                                                        \r"
     ]
    },
    {
     "name": "stdout",
     "output_type": "stream",
     "text": [
      "MoviePy - Done.\n",
      "MoviePy - Writing video fmnqnCi0j_8__chunk__17.mp4\n",
      "\n"
     ]
    },
    {
     "name": "stderr",
     "output_type": "stream",
     "text": [
      "                                                                         \r"
     ]
    },
    {
     "name": "stdout",
     "output_type": "stream",
     "text": [
      "MoviePy - Done !\n",
      "MoviePy - video ready fmnqnCi0j_8__chunk__17.mp4\n",
      "MoviePy - Building video fmnqnCi0j_8__chunk__18.mp4.\n",
      "MoviePy - Writing audio in fmnqnCi0j_8__chunk__18TEMP_MPY_wvf_snd.mp3\n"
     ]
    },
    {
     "name": "stderr",
     "output_type": "stream",
     "text": [
      "                                                        \r"
     ]
    },
    {
     "name": "stdout",
     "output_type": "stream",
     "text": [
      "MoviePy - Done.\n",
      "MoviePy - Writing video fmnqnCi0j_8__chunk__18.mp4\n",
      "\n"
     ]
    },
    {
     "name": "stderr",
     "output_type": "stream",
     "text": [
      "                                                                         \r"
     ]
    },
    {
     "name": "stdout",
     "output_type": "stream",
     "text": [
      "MoviePy - Done !\n",
      "MoviePy - video ready fmnqnCi0j_8__chunk__18.mp4\n",
      "MoviePy - Building video fmnqnCi0j_8__chunk__19.mp4.\n",
      "MoviePy - Writing audio in fmnqnCi0j_8__chunk__19TEMP_MPY_wvf_snd.mp3\n"
     ]
    },
    {
     "name": "stderr",
     "output_type": "stream",
     "text": [
      "                                                        \r"
     ]
    },
    {
     "name": "stdout",
     "output_type": "stream",
     "text": [
      "MoviePy - Done.\n",
      "MoviePy - Writing video fmnqnCi0j_8__chunk__19.mp4\n",
      "\n"
     ]
    },
    {
     "name": "stderr",
     "output_type": "stream",
     "text": [
      "                                                                         \r"
     ]
    },
    {
     "name": "stdout",
     "output_type": "stream",
     "text": [
      "MoviePy - Done !\n",
      "MoviePy - video ready fmnqnCi0j_8__chunk__19.mp4\n",
      "Video ID: fmnqnCi0j_8, Chunk Name: 0\n",
      "{'video_found': True, 'audio_found': True, 'metadata': {'major_brand': 'isom', 'minor_version': '512', 'compatible_brands': 'isomiso2avc1mp41', 'encoder': 'Lavf61.7.100'}, 'inputs': [{'streams': [{'input_number': 0, 'stream_number': 0, 'stream_type': 'video', 'language': None, 'default': True, 'size': [640, 360], 'bitrate': 366, 'fps': 29.97002997002997, 'codec_name': 'h264', 'profile': '(High)', 'metadata': {'Metadata': '', 'handler_name': 'VideoHandler', 'vendor_id': '[0][0][0][0]', 'encoder': 'Lavc61.19.100 libx264'}}, {'input_number': 0, 'stream_number': 1, 'stream_type': 'audio', 'language': None, 'default': True, 'fps': 44100, 'bitrate': 127, 'metadata': {'Metadata': '', 'handler_name': 'SoundHandler', 'vendor_id': '[0][0][0][0]'}}], 'input_number': 0}], 'duration': 10.01, 'bitrate': 502, 'start': 0.0, 'default_video_input_number': 0, 'default_video_stream_number': 0, 'video_codec_name': 'h264', 'video_profile': '(High)', 'video_size': [640, 360], 'video_bitrate': 366, 'video_fps': 29.97002997002997, 'default_audio_input_number': 0, 'default_audio_stream_number': 1, 'audio_fps': 44100, 'audio_bitrate': 127, 'video_duration': 10.01, 'video_n_frames': 300}\n",
      "/Users/emmettstorts/.local/share/virtualenvs/slip-ml-D1sQfDoh/lib/python3.11/site-packages/imageio_ffmpeg/binaries/ffmpeg-macos-aarch64-v7.1 -i fmnqnCi0j_8__chunk__0.mp4 -loglevel error -f image2pipe -vf scale=640:360 -sws_flags bicubic -pix_fmt rgb24 -vcodec rawvideo -\n",
      "Audio path: fmnqnCi0j_8__audio__0.mp3, Video path: fmnqnCi0j_8__video__0.mp4\n",
      "MoviePy - Writing audio in fmnqnCi0j_8__audio__0.mp3\n"
     ]
    },
    {
     "name": "stderr",
     "output_type": "stream",
     "text": [
      "                                                        \r"
     ]
    },
    {
     "name": "stdout",
     "output_type": "stream",
     "text": [
      "MoviePy - Done.\n",
      "MoviePy - Building video fmnqnCi0j_8__video__0.mp4.\n",
      "MoviePy - Writing video fmnqnCi0j_8__video__0.mp4\n",
      "\n"
     ]
    },
    {
     "name": "stderr",
     "output_type": "stream",
     "text": [
      "frame_index:  83%|████████▎ | 249/300 [00:00<00:00, 691.01it/s, now=None]/Users/emmettstorts/.local/share/virtualenvs/slip-ml-D1sQfDoh/lib/python3.11/site-packages/moviepy/video/io/ffmpeg_reader.py:178: UserWarning: In file fmnqnCi0j_8__chunk__0.mp4, 691200 bytes wanted but 0 bytes read at frame index 299 (out of a total 300 frames), at time 9.98/10.01 sec. Using the last valid frame instead.\n",
      "  warnings.warn(\n",
      "                                                                         \r"
     ]
    },
    {
     "name": "stdout",
     "output_type": "stream",
     "text": [
      "MoviePy - Done !\n",
      "MoviePy - video ready fmnqnCi0j_8__video__0.mp4\n",
      "Audio and video split successfully!\n"
     ]
    },
    {
     "name": "stderr",
     "output_type": "stream",
     "text": [
      "/Users/emmettstorts/.local/share/virtualenvs/slip-ml-D1sQfDoh/lib/python3.11/site-packages/transformers/models/whisper/generation_whisper.py:573: FutureWarning: The input name `inputs` is deprecated. Please make sure to use `input_features` instead.\n",
      "  warnings.warn(\n"
     ]
    },
    {
     "name": "stdout",
     "output_type": "stream",
     "text": [
      "Text saved to fmnqnCi0j_8__text__0.json\n",
      "Video ID: fmnqnCi0j_8, Chunk Name: 1\n",
      "{'video_found': True, 'audio_found': True, 'metadata': {'major_brand': 'isom', 'minor_version': '512', 'compatible_brands': 'isomiso2avc1mp41', 'encoder': 'Lavf61.7.100'}, 'inputs': [{'streams': [{'input_number': 0, 'stream_number': 0, 'stream_type': 'video', 'language': None, 'default': True, 'size': [640, 360], 'bitrate': 331, 'fps': 29.97002997002997, 'codec_name': 'h264', 'profile': '(High)', 'metadata': {'Metadata': '', 'handler_name': 'VideoHandler', 'vendor_id': '[0][0][0][0]', 'encoder': 'Lavc61.19.100 libx264'}}, {'input_number': 0, 'stream_number': 1, 'stream_type': 'audio', 'language': None, 'default': True, 'fps': 44100, 'bitrate': 127, 'metadata': {'Metadata': '', 'handler_name': 'SoundHandler', 'vendor_id': '[0][0][0][0]'}}], 'input_number': 0}], 'duration': 10.01, 'bitrate': 467, 'start': 0.0, 'default_video_input_number': 0, 'default_video_stream_number': 0, 'video_codec_name': 'h264', 'video_profile': '(High)', 'video_size': [640, 360], 'video_bitrate': 331, 'video_fps': 29.97002997002997, 'default_audio_input_number': 0, 'default_audio_stream_number': 1, 'audio_fps': 44100, 'audio_bitrate': 127, 'video_duration': 10.01, 'video_n_frames': 300}\n",
      "/Users/emmettstorts/.local/share/virtualenvs/slip-ml-D1sQfDoh/lib/python3.11/site-packages/imageio_ffmpeg/binaries/ffmpeg-macos-aarch64-v7.1 -i fmnqnCi0j_8__chunk__1.mp4 -loglevel error -f image2pipe -vf scale=640:360 -sws_flags bicubic -pix_fmt rgb24 -vcodec rawvideo -\n",
      "Audio path: fmnqnCi0j_8__audio__1.mp3, Video path: fmnqnCi0j_8__video__1.mp4\n",
      "MoviePy - Writing audio in fmnqnCi0j_8__audio__1.mp3\n"
     ]
    },
    {
     "name": "stderr",
     "output_type": "stream",
     "text": [
      "                                                        \r"
     ]
    },
    {
     "name": "stdout",
     "output_type": "stream",
     "text": [
      "MoviePy - Done.\n",
      "MoviePy - Building video fmnqnCi0j_8__video__1.mp4.\n",
      "MoviePy - Writing video fmnqnCi0j_8__video__1.mp4\n",
      "\n"
     ]
    },
    {
     "name": "stderr",
     "output_type": "stream",
     "text": [
      "frame_index:  72%|███████▏  | 215/300 [00:00<00:00, 561.90it/s, now=None]/Users/emmettstorts/.local/share/virtualenvs/slip-ml-D1sQfDoh/lib/python3.11/site-packages/moviepy/video/io/ffmpeg_reader.py:178: UserWarning: In file fmnqnCi0j_8__chunk__1.mp4, 691200 bytes wanted but 0 bytes read at frame index 299 (out of a total 300 frames), at time 9.98/10.01 sec. Using the last valid frame instead.\n",
      "  warnings.warn(\n",
      "                                                                         \r"
     ]
    },
    {
     "name": "stdout",
     "output_type": "stream",
     "text": [
      "MoviePy - Done !\n",
      "MoviePy - video ready fmnqnCi0j_8__video__1.mp4\n",
      "Audio and video split successfully!\n"
     ]
    },
    {
     "name": "stderr",
     "output_type": "stream",
     "text": [
      "/Users/emmettstorts/.local/share/virtualenvs/slip-ml-D1sQfDoh/lib/python3.11/site-packages/transformers/models/whisper/generation_whisper.py:573: FutureWarning: The input name `inputs` is deprecated. Please make sure to use `input_features` instead.\n",
      "  warnings.warn(\n"
     ]
    },
    {
     "name": "stdout",
     "output_type": "stream",
     "text": [
      "Text saved to fmnqnCi0j_8__text__1.json\n",
      "Video ID: fmnqnCi0j_8, Chunk Name: 2\n",
      "{'video_found': True, 'audio_found': True, 'metadata': {'major_brand': 'isom', 'minor_version': '512', 'compatible_brands': 'isomiso2avc1mp41', 'encoder': 'Lavf61.7.100'}, 'inputs': [{'streams': [{'input_number': 0, 'stream_number': 0, 'stream_type': 'video', 'language': None, 'default': True, 'size': [640, 360], 'bitrate': 348, 'fps': 29.97002997002997, 'codec_name': 'h264', 'profile': '(High)', 'metadata': {'Metadata': '', 'handler_name': 'VideoHandler', 'vendor_id': '[0][0][0][0]', 'encoder': 'Lavc61.19.100 libx264'}}, {'input_number': 0, 'stream_number': 1, 'stream_type': 'audio', 'language': None, 'default': True, 'fps': 44100, 'bitrate': 127, 'metadata': {'Metadata': '', 'handler_name': 'SoundHandler', 'vendor_id': '[0][0][0][0]'}}], 'input_number': 0}], 'duration': 10.01, 'bitrate': 484, 'start': 0.0, 'default_video_input_number': 0, 'default_video_stream_number': 0, 'video_codec_name': 'h264', 'video_profile': '(High)', 'video_size': [640, 360], 'video_bitrate': 348, 'video_fps': 29.97002997002997, 'default_audio_input_number': 0, 'default_audio_stream_number': 1, 'audio_fps': 44100, 'audio_bitrate': 127, 'video_duration': 10.01, 'video_n_frames': 300}\n",
      "/Users/emmettstorts/.local/share/virtualenvs/slip-ml-D1sQfDoh/lib/python3.11/site-packages/imageio_ffmpeg/binaries/ffmpeg-macos-aarch64-v7.1 -i fmnqnCi0j_8__chunk__2.mp4 -loglevel error -f image2pipe -vf scale=640:360 -sws_flags bicubic -pix_fmt rgb24 -vcodec rawvideo -\n",
      "Audio path: fmnqnCi0j_8__audio__2.mp3, Video path: fmnqnCi0j_8__video__2.mp4\n",
      "MoviePy - Writing audio in fmnqnCi0j_8__audio__2.mp3\n"
     ]
    },
    {
     "name": "stderr",
     "output_type": "stream",
     "text": [
      "                                                                    \r"
     ]
    },
    {
     "name": "stdout",
     "output_type": "stream",
     "text": [
      "MoviePy - Done.\n",
      "MoviePy - Building video fmnqnCi0j_8__video__2.mp4.\n",
      "MoviePy - Writing video fmnqnCi0j_8__video__2.mp4\n",
      "\n"
     ]
    },
    {
     "name": "stderr",
     "output_type": "stream",
     "text": [
      "frame_index:  77%|███████▋  | 231/300 [00:00<00:00, 668.10it/s, now=None]/Users/emmettstorts/.local/share/virtualenvs/slip-ml-D1sQfDoh/lib/python3.11/site-packages/moviepy/video/io/ffmpeg_reader.py:178: UserWarning: In file fmnqnCi0j_8__chunk__2.mp4, 691200 bytes wanted but 0 bytes read at frame index 299 (out of a total 300 frames), at time 9.98/10.01 sec. Using the last valid frame instead.\n",
      "  warnings.warn(\n",
      "/Users/emmettstorts/.local/share/virtualenvs/slip-ml-D1sQfDoh/lib/python3.11/site-packages/transformers/models/whisper/generation_whisper.py:573: FutureWarning: The input name `inputs` is deprecated. Please make sure to use `input_features` instead.\n",
      "  warnings.warn(\n"
     ]
    },
    {
     "name": "stdout",
     "output_type": "stream",
     "text": [
      "MoviePy - Done !\n",
      "MoviePy - video ready fmnqnCi0j_8__video__2.mp4\n",
      "Audio and video split successfully!\n",
      "Text saved to fmnqnCi0j_8__text__2.json\n",
      "Video ID: fmnqnCi0j_8, Chunk Name: 3\n",
      "{'video_found': True, 'audio_found': True, 'metadata': {'major_brand': 'isom', 'minor_version': '512', 'compatible_brands': 'isomiso2avc1mp41', 'encoder': 'Lavf61.7.100'}, 'inputs': [{'streams': [{'input_number': 0, 'stream_number': 0, 'stream_type': 'video', 'language': None, 'default': True, 'size': [640, 360], 'bitrate': 342, 'fps': 29.97002997002997, 'codec_name': 'h264', 'profile': '(High)', 'metadata': {'Metadata': '', 'handler_name': 'VideoHandler', 'vendor_id': '[0][0][0][0]', 'encoder': 'Lavc61.19.100 libx264'}}, {'input_number': 0, 'stream_number': 1, 'stream_type': 'audio', 'language': None, 'default': True, 'fps': 44100, 'bitrate': 127, 'metadata': {'Metadata': '', 'handler_name': 'SoundHandler', 'vendor_id': '[0][0][0][0]'}}], 'input_number': 0}], 'duration': 10.01, 'bitrate': 478, 'start': 0.0, 'default_video_input_number': 0, 'default_video_stream_number': 0, 'video_codec_name': 'h264', 'video_profile': '(High)', 'video_size': [640, 360], 'video_bitrate': 342, 'video_fps': 29.97002997002997, 'default_audio_input_number': 0, 'default_audio_stream_number': 1, 'audio_fps': 44100, 'audio_bitrate': 127, 'video_duration': 10.01, 'video_n_frames': 300}\n",
      "/Users/emmettstorts/.local/share/virtualenvs/slip-ml-D1sQfDoh/lib/python3.11/site-packages/imageio_ffmpeg/binaries/ffmpeg-macos-aarch64-v7.1 -i fmnqnCi0j_8__chunk__3.mp4 -loglevel error -f image2pipe -vf scale=640:360 -sws_flags bicubic -pix_fmt rgb24 -vcodec rawvideo -\n",
      "Audio path: fmnqnCi0j_8__audio__3.mp3, Video path: fmnqnCi0j_8__video__3.mp4\n",
      "MoviePy - Writing audio in fmnqnCi0j_8__audio__3.mp3\n"
     ]
    },
    {
     "name": "stderr",
     "output_type": "stream",
     "text": [
      "                                                        "
     ]
    },
    {
     "name": "stdout",
     "output_type": "stream",
     "text": [
      "MoviePy - Done.\n",
      "MoviePy - Building video fmnqnCi0j_8__video__3.mp4.\n",
      "MoviePy - Writing video fmnqnCi0j_8__video__3.mp4\n",
      "\n"
     ]
    },
    {
     "name": "stderr",
     "output_type": "stream",
     "text": [
      "frame_index:  92%|█████████▏| 277/300 [00:00<00:00, 228.99it/s, now=None]/Users/emmettstorts/.local/share/virtualenvs/slip-ml-D1sQfDoh/lib/python3.11/site-packages/moviepy/video/io/ffmpeg_reader.py:178: UserWarning: In file fmnqnCi0j_8__chunk__3.mp4, 691200 bytes wanted but 0 bytes read at frame index 299 (out of a total 300 frames), at time 9.98/10.01 sec. Using the last valid frame instead.\n",
      "  warnings.warn(\n",
      "                                                                         \r"
     ]
    },
    {
     "name": "stdout",
     "output_type": "stream",
     "text": [
      "MoviePy - Done !\n",
      "MoviePy - video ready fmnqnCi0j_8__video__3.mp4\n",
      "Audio and video split successfully!\n"
     ]
    },
    {
     "name": "stderr",
     "output_type": "stream",
     "text": [
      "/Users/emmettstorts/.local/share/virtualenvs/slip-ml-D1sQfDoh/lib/python3.11/site-packages/transformers/models/whisper/generation_whisper.py:573: FutureWarning: The input name `inputs` is deprecated. Please make sure to use `input_features` instead.\n",
      "  warnings.warn(\n"
     ]
    },
    {
     "name": "stdout",
     "output_type": "stream",
     "text": [
      "Text saved to fmnqnCi0j_8__text__3.json\n",
      "Video ID: fmnqnCi0j_8, Chunk Name: 4\n",
      "{'video_found': True, 'audio_found': True, 'metadata': {'major_brand': 'isom', 'minor_version': '512', 'compatible_brands': 'isomiso2avc1mp41', 'encoder': 'Lavf61.7.100'}, 'inputs': [{'streams': [{'input_number': 0, 'stream_number': 0, 'stream_type': 'video', 'language': None, 'default': True, 'size': [640, 360], 'bitrate': 347, 'fps': 29.97002997002997, 'codec_name': 'h264', 'profile': '(High)', 'metadata': {'Metadata': '', 'handler_name': 'VideoHandler', 'vendor_id': '[0][0][0][0]', 'encoder': 'Lavc61.19.100 libx264'}}, {'input_number': 0, 'stream_number': 1, 'stream_type': 'audio', 'language': None, 'default': True, 'fps': 44100, 'bitrate': 127, 'metadata': {'Metadata': '', 'handler_name': 'SoundHandler', 'vendor_id': '[0][0][0][0]'}}], 'input_number': 0}], 'duration': 10.01, 'bitrate': 483, 'start': 0.0, 'default_video_input_number': 0, 'default_video_stream_number': 0, 'video_codec_name': 'h264', 'video_profile': '(High)', 'video_size': [640, 360], 'video_bitrate': 347, 'video_fps': 29.97002997002997, 'default_audio_input_number': 0, 'default_audio_stream_number': 1, 'audio_fps': 44100, 'audio_bitrate': 127, 'video_duration': 10.01, 'video_n_frames': 300}\n",
      "/Users/emmettstorts/.local/share/virtualenvs/slip-ml-D1sQfDoh/lib/python3.11/site-packages/imageio_ffmpeg/binaries/ffmpeg-macos-aarch64-v7.1 -i fmnqnCi0j_8__chunk__4.mp4 -loglevel error -f image2pipe -vf scale=640:360 -sws_flags bicubic -pix_fmt rgb24 -vcodec rawvideo -\n"
     ]
    },
    {
     "name": "stderr",
     "output_type": "stream",
     "text": [
      "Python(67214) MallocStackLogging: can't turn off malloc stack logging because it was not enabled.\n",
      "Python(67218) MallocStackLogging: can't turn off malloc stack logging because it was not enabled.\n",
      "Python(67219) MallocStackLogging: can't turn off malloc stack logging because it was not enabled.\n",
      "Python(67220) MallocStackLogging: can't turn off malloc stack logging because it was not enabled.\n",
      "Python(67221) MallocStackLogging: can't turn off malloc stack logging because it was not enabled.\n"
     ]
    },
    {
     "name": "stdout",
     "output_type": "stream",
     "text": [
      "Audio path: fmnqnCi0j_8__audio__4.mp3, Video path: fmnqnCi0j_8__video__4.mp4\n",
      "MoviePy - Writing audio in fmnqnCi0j_8__audio__4.mp3\n"
     ]
    },
    {
     "name": "stderr",
     "output_type": "stream",
     "text": [
      "Python(67222) MallocStackLogging: can't turn off malloc stack logging because it was not enabled.\n"
     ]
    },
    {
     "name": "stdout",
     "output_type": "stream",
     "text": [
      "MoviePy - Done.\n",
      "MoviePy - Building video fmnqnCi0j_8__video__4.mp4.\n",
      "MoviePy - Writing video fmnqnCi0j_8__video__4.mp4\n",
      "\n"
     ]
    },
    {
     "name": "stderr",
     "output_type": "stream",
     "text": [
      "frame_index:  94%|█████████▍| 282/300 [00:00<00:00, 552.22it/s, now=None]/Users/emmettstorts/.local/share/virtualenvs/slip-ml-D1sQfDoh/lib/python3.11/site-packages/moviepy/video/io/ffmpeg_reader.py:178: UserWarning: In file fmnqnCi0j_8__chunk__4.mp4, 691200 bytes wanted but 0 bytes read at frame index 299 (out of a total 300 frames), at time 9.98/10.01 sec. Using the last valid frame instead.\n",
      "  warnings.warn(\n",
      "Python(67225) MallocStackLogging: can't turn off malloc stack logging because it was not enabled.\n"
     ]
    },
    {
     "name": "stdout",
     "output_type": "stream",
     "text": [
      "MoviePy - Done !\n",
      "MoviePy - video ready fmnqnCi0j_8__video__4.mp4\n",
      "Audio and video split successfully!\n"
     ]
    },
    {
     "name": "stderr",
     "output_type": "stream",
     "text": [
      "/Users/emmettstorts/.local/share/virtualenvs/slip-ml-D1sQfDoh/lib/python3.11/site-packages/transformers/models/whisper/generation_whisper.py:573: FutureWarning: The input name `inputs` is deprecated. Please make sure to use `input_features` instead.\n",
      "  warnings.warn(\n",
      "Python(67251) MallocStackLogging: can't turn off malloc stack logging because it was not enabled.\n",
      "Python(67252) MallocStackLogging: can't turn off malloc stack logging because it was not enabled.\n",
      "Python(67253) MallocStackLogging: can't turn off malloc stack logging because it was not enabled.\n",
      "Python(67254) MallocStackLogging: can't turn off malloc stack logging because it was not enabled.\n",
      "Python(67255) MallocStackLogging: can't turn off malloc stack logging because it was not enabled.\n"
     ]
    },
    {
     "name": "stdout",
     "output_type": "stream",
     "text": [
      "Text saved to fmnqnCi0j_8__text__4.json\n",
      "Video ID: fmnqnCi0j_8, Chunk Name: 5\n",
      "{'video_found': True, 'audio_found': True, 'metadata': {'major_brand': 'isom', 'minor_version': '512', 'compatible_brands': 'isomiso2avc1mp41', 'encoder': 'Lavf61.7.100'}, 'inputs': [{'streams': [{'input_number': 0, 'stream_number': 0, 'stream_type': 'video', 'language': None, 'default': True, 'size': [640, 360], 'bitrate': 296, 'fps': 29.97002997002997, 'codec_name': 'h264', 'profile': '(High)', 'metadata': {'Metadata': '', 'handler_name': 'VideoHandler', 'vendor_id': '[0][0][0][0]', 'encoder': 'Lavc61.19.100 libx264'}}, {'input_number': 0, 'stream_number': 1, 'stream_type': 'audio', 'language': None, 'default': True, 'fps': 44100, 'bitrate': 127, 'metadata': {'Metadata': '', 'handler_name': 'SoundHandler', 'vendor_id': '[0][0][0][0]'}}], 'input_number': 0}], 'duration': 10.01, 'bitrate': 432, 'start': 0.0, 'default_video_input_number': 0, 'default_video_stream_number': 0, 'video_codec_name': 'h264', 'video_profile': '(High)', 'video_size': [640, 360], 'video_bitrate': 296, 'video_fps': 29.97002997002997, 'default_audio_input_number': 0, 'default_audio_stream_number': 1, 'audio_fps': 44100, 'audio_bitrate': 127, 'video_duration': 10.01, 'video_n_frames': 300}\n",
      "/Users/emmettstorts/.local/share/virtualenvs/slip-ml-D1sQfDoh/lib/python3.11/site-packages/imageio_ffmpeg/binaries/ffmpeg-macos-aarch64-v7.1 -i fmnqnCi0j_8__chunk__5.mp4 -loglevel error -f image2pipe -vf scale=640:360 -sws_flags bicubic -pix_fmt rgb24 -vcodec rawvideo -\n",
      "Audio path: fmnqnCi0j_8__audio__5.mp3, Video path: fmnqnCi0j_8__video__5.mp4\n",
      "MoviePy - Writing audio in fmnqnCi0j_8__audio__5.mp3\n"
     ]
    },
    {
     "name": "stderr",
     "output_type": "stream",
     "text": [
      "Python(67256) MallocStackLogging: can't turn off malloc stack logging because it was not enabled.\n"
     ]
    },
    {
     "name": "stdout",
     "output_type": "stream",
     "text": [
      "MoviePy - Done.\n",
      "MoviePy - Building video fmnqnCi0j_8__video__5.mp4.\n",
      "MoviePy - Writing video fmnqnCi0j_8__video__5.mp4\n",
      "\n"
     ]
    },
    {
     "name": "stderr",
     "output_type": "stream",
     "text": [
      "frame_index:  72%|███████▏  | 217/300 [00:00<00:00, 569.87it/s, now=None]/Users/emmettstorts/.local/share/virtualenvs/slip-ml-D1sQfDoh/lib/python3.11/site-packages/moviepy/video/io/ffmpeg_reader.py:178: UserWarning: In file fmnqnCi0j_8__chunk__5.mp4, 691200 bytes wanted but 0 bytes read at frame index 299 (out of a total 300 frames), at time 9.98/10.01 sec. Using the last valid frame instead.\n",
      "  warnings.warn(\n",
      "Python(67257) MallocStackLogging: can't turn off malloc stack logging because it was not enabled.\n",
      "/Users/emmettstorts/.local/share/virtualenvs/slip-ml-D1sQfDoh/lib/python3.11/site-packages/transformers/models/whisper/generation_whisper.py:573: FutureWarning: The input name `inputs` is deprecated. Please make sure to use `input_features` instead.\n",
      "  warnings.warn(\n"
     ]
    },
    {
     "name": "stdout",
     "output_type": "stream",
     "text": [
      "MoviePy - Done !\n",
      "MoviePy - video ready fmnqnCi0j_8__video__5.mp4\n",
      "Audio and video split successfully!\n"
     ]
    },
    {
     "name": "stderr",
     "output_type": "stream",
     "text": [
      "Python(67276) MallocStackLogging: can't turn off malloc stack logging because it was not enabled.\n",
      "Python(67277) MallocStackLogging: can't turn off malloc stack logging because it was not enabled.\n",
      "Python(67278) MallocStackLogging: can't turn off malloc stack logging because it was not enabled.\n",
      "Python(67279) MallocStackLogging: can't turn off malloc stack logging because it was not enabled.\n",
      "Python(67280) MallocStackLogging: can't turn off malloc stack logging because it was not enabled.\n"
     ]
    },
    {
     "name": "stdout",
     "output_type": "stream",
     "text": [
      "Text saved to fmnqnCi0j_8__text__5.json\n",
      "Video ID: fmnqnCi0j_8, Chunk Name: 6\n",
      "{'video_found': True, 'audio_found': True, 'metadata': {'major_brand': 'isom', 'minor_version': '512', 'compatible_brands': 'isomiso2avc1mp41', 'encoder': 'Lavf61.7.100'}, 'inputs': [{'streams': [{'input_number': 0, 'stream_number': 0, 'stream_type': 'video', 'language': None, 'default': True, 'size': [640, 360], 'bitrate': 334, 'fps': 29.97002997002997, 'codec_name': 'h264', 'profile': '(High)', 'metadata': {'Metadata': '', 'handler_name': 'VideoHandler', 'vendor_id': '[0][0][0][0]', 'encoder': 'Lavc61.19.100 libx264'}}, {'input_number': 0, 'stream_number': 1, 'stream_type': 'audio', 'language': None, 'default': True, 'fps': 44100, 'bitrate': 127, 'metadata': {'Metadata': '', 'handler_name': 'SoundHandler', 'vendor_id': '[0][0][0][0]'}}], 'input_number': 0}], 'duration': 10.01, 'bitrate': 470, 'start': 0.0, 'default_video_input_number': 0, 'default_video_stream_number': 0, 'video_codec_name': 'h264', 'video_profile': '(High)', 'video_size': [640, 360], 'video_bitrate': 334, 'video_fps': 29.97002997002997, 'default_audio_input_number': 0, 'default_audio_stream_number': 1, 'audio_fps': 44100, 'audio_bitrate': 127, 'video_duration': 10.01, 'video_n_frames': 300}\n",
      "/Users/emmettstorts/.local/share/virtualenvs/slip-ml-D1sQfDoh/lib/python3.11/site-packages/imageio_ffmpeg/binaries/ffmpeg-macos-aarch64-v7.1 -i fmnqnCi0j_8__chunk__6.mp4 -loglevel error -f image2pipe -vf scale=640:360 -sws_flags bicubic -pix_fmt rgb24 -vcodec rawvideo -\n",
      "Audio path: fmnqnCi0j_8__audio__6.mp3, Video path: fmnqnCi0j_8__video__6.mp4\n",
      "MoviePy - Writing audio in fmnqnCi0j_8__audio__6.mp3\n"
     ]
    },
    {
     "name": "stderr",
     "output_type": "stream",
     "text": [
      "Python(67281) MallocStackLogging: can't turn off malloc stack logging because it was not enabled.\n"
     ]
    },
    {
     "name": "stdout",
     "output_type": "stream",
     "text": [
      "MoviePy - Done.\n",
      "MoviePy - Building video fmnqnCi0j_8__video__6.mp4.\n",
      "MoviePy - Writing video fmnqnCi0j_8__video__6.mp4\n",
      "\n"
     ]
    },
    {
     "name": "stderr",
     "output_type": "stream",
     "text": [
      "frame_index:  80%|███████▉  | 239/300 [00:00<00:00, 494.85it/s, now=None]/Users/emmettstorts/.local/share/virtualenvs/slip-ml-D1sQfDoh/lib/python3.11/site-packages/moviepy/video/io/ffmpeg_reader.py:178: UserWarning: In file fmnqnCi0j_8__chunk__6.mp4, 691200 bytes wanted but 0 bytes read at frame index 299 (out of a total 300 frames), at time 9.98/10.01 sec. Using the last valid frame instead.\n",
      "  warnings.warn(\n",
      "Python(67288) MallocStackLogging: can't turn off malloc stack logging because it was not enabled.\n",
      "/Users/emmettstorts/.local/share/virtualenvs/slip-ml-D1sQfDoh/lib/python3.11/site-packages/transformers/models/whisper/generation_whisper.py:573: FutureWarning: The input name `inputs` is deprecated. Please make sure to use `input_features` instead.\n",
      "  warnings.warn(\n"
     ]
    },
    {
     "name": "stdout",
     "output_type": "stream",
     "text": [
      "MoviePy - Done !\n",
      "MoviePy - video ready fmnqnCi0j_8__video__6.mp4\n",
      "Audio and video split successfully!\n"
     ]
    },
    {
     "name": "stderr",
     "output_type": "stream",
     "text": [
      "Python(67308) MallocStackLogging: can't turn off malloc stack logging because it was not enabled.\n",
      "Python(67309) MallocStackLogging: can't turn off malloc stack logging because it was not enabled.\n",
      "Python(67310) MallocStackLogging: can't turn off malloc stack logging because it was not enabled.\n",
      "Python(67311) MallocStackLogging: can't turn off malloc stack logging because it was not enabled.\n",
      "Python(67312) MallocStackLogging: can't turn off malloc stack logging because it was not enabled.\n"
     ]
    },
    {
     "name": "stdout",
     "output_type": "stream",
     "text": [
      "Text saved to fmnqnCi0j_8__text__6.json\n",
      "Video ID: fmnqnCi0j_8, Chunk Name: 7\n",
      "{'video_found': True, 'audio_found': True, 'metadata': {'major_brand': 'isom', 'minor_version': '512', 'compatible_brands': 'isomiso2avc1mp41', 'encoder': 'Lavf61.7.100'}, 'inputs': [{'streams': [{'input_number': 0, 'stream_number': 0, 'stream_type': 'video', 'language': None, 'default': True, 'size': [640, 360], 'bitrate': 277, 'fps': 29.97002997002997, 'codec_name': 'h264', 'profile': '(High)', 'metadata': {'Metadata': '', 'handler_name': 'VideoHandler', 'vendor_id': '[0][0][0][0]', 'encoder': 'Lavc61.19.100 libx264'}}, {'input_number': 0, 'stream_number': 1, 'stream_type': 'audio', 'language': None, 'default': True, 'fps': 44100, 'bitrate': 127, 'metadata': {'Metadata': '', 'handler_name': 'SoundHandler', 'vendor_id': '[0][0][0][0]'}}], 'input_number': 0}], 'duration': 10.01, 'bitrate': 413, 'start': 0.0, 'default_video_input_number': 0, 'default_video_stream_number': 0, 'video_codec_name': 'h264', 'video_profile': '(High)', 'video_size': [640, 360], 'video_bitrate': 277, 'video_fps': 29.97002997002997, 'default_audio_input_number': 0, 'default_audio_stream_number': 1, 'audio_fps': 44100, 'audio_bitrate': 127, 'video_duration': 10.01, 'video_n_frames': 300}\n",
      "/Users/emmettstorts/.local/share/virtualenvs/slip-ml-D1sQfDoh/lib/python3.11/site-packages/imageio_ffmpeg/binaries/ffmpeg-macos-aarch64-v7.1 -i fmnqnCi0j_8__chunk__7.mp4 -loglevel error -f image2pipe -vf scale=640:360 -sws_flags bicubic -pix_fmt rgb24 -vcodec rawvideo -\n",
      "Audio path: fmnqnCi0j_8__audio__7.mp3, Video path: fmnqnCi0j_8__video__7.mp4\n",
      "MoviePy - Writing audio in fmnqnCi0j_8__audio__7.mp3\n"
     ]
    },
    {
     "name": "stderr",
     "output_type": "stream",
     "text": [
      "Python(67313) MallocStackLogging: can't turn off malloc stack logging because it was not enabled.\n"
     ]
    },
    {
     "name": "stdout",
     "output_type": "stream",
     "text": [
      "MoviePy - Done.\n",
      "MoviePy - Building video fmnqnCi0j_8__video__7.mp4.\n",
      "MoviePy - Writing video fmnqnCi0j_8__video__7.mp4\n",
      "\n"
     ]
    },
    {
     "name": "stderr",
     "output_type": "stream",
     "text": [
      "frame_index:  75%|███████▌  | 225/300 [00:00<00:00, 718.11it/s, now=None]/Users/emmettstorts/.local/share/virtualenvs/slip-ml-D1sQfDoh/lib/python3.11/site-packages/moviepy/video/io/ffmpeg_reader.py:178: UserWarning: In file fmnqnCi0j_8__chunk__7.mp4, 691200 bytes wanted but 0 bytes read at frame index 299 (out of a total 300 frames), at time 9.98/10.01 sec. Using the last valid frame instead.\n",
      "  warnings.warn(\n",
      "Python(67320) MallocStackLogging: can't turn off malloc stack logging because it was not enabled.\n",
      "/Users/emmettstorts/.local/share/virtualenvs/slip-ml-D1sQfDoh/lib/python3.11/site-packages/transformers/models/whisper/generation_whisper.py:573: FutureWarning: The input name `inputs` is deprecated. Please make sure to use `input_features` instead.\n",
      "  warnings.warn(\n"
     ]
    },
    {
     "name": "stdout",
     "output_type": "stream",
     "text": [
      "MoviePy - Done !\n",
      "MoviePy - video ready fmnqnCi0j_8__video__7.mp4\n",
      "Audio and video split successfully!\n"
     ]
    },
    {
     "name": "stderr",
     "output_type": "stream",
     "text": [
      "Python(67336) MallocStackLogging: can't turn off malloc stack logging because it was not enabled.\n",
      "Python(67337) MallocStackLogging: can't turn off malloc stack logging because it was not enabled.\n",
      "Python(67338) MallocStackLogging: can't turn off malloc stack logging because it was not enabled.\n",
      "Python(67339) MallocStackLogging: can't turn off malloc stack logging because it was not enabled.\n",
      "Python(67340) MallocStackLogging: can't turn off malloc stack logging because it was not enabled.\n"
     ]
    },
    {
     "name": "stdout",
     "output_type": "stream",
     "text": [
      "Text saved to fmnqnCi0j_8__text__7.json\n",
      "Video ID: fmnqnCi0j_8, Chunk Name: 8\n",
      "{'video_found': True, 'audio_found': True, 'metadata': {'major_brand': 'isom', 'minor_version': '512', 'compatible_brands': 'isomiso2avc1mp41', 'encoder': 'Lavf61.7.100'}, 'inputs': [{'streams': [{'input_number': 0, 'stream_number': 0, 'stream_type': 'video', 'language': None, 'default': True, 'size': [640, 360], 'bitrate': 308, 'fps': 29.97002997002997, 'codec_name': 'h264', 'profile': '(High)', 'metadata': {'Metadata': '', 'handler_name': 'VideoHandler', 'vendor_id': '[0][0][0][0]', 'encoder': 'Lavc61.19.100 libx264'}}, {'input_number': 0, 'stream_number': 1, 'stream_type': 'audio', 'language': None, 'default': True, 'fps': 44100, 'bitrate': 127, 'metadata': {'Metadata': '', 'handler_name': 'SoundHandler', 'vendor_id': '[0][0][0][0]'}}], 'input_number': 0}], 'duration': 10.01, 'bitrate': 444, 'start': 0.0, 'default_video_input_number': 0, 'default_video_stream_number': 0, 'video_codec_name': 'h264', 'video_profile': '(High)', 'video_size': [640, 360], 'video_bitrate': 308, 'video_fps': 29.97002997002997, 'default_audio_input_number': 0, 'default_audio_stream_number': 1, 'audio_fps': 44100, 'audio_bitrate': 127, 'video_duration': 10.01, 'video_n_frames': 300}\n",
      "/Users/emmettstorts/.local/share/virtualenvs/slip-ml-D1sQfDoh/lib/python3.11/site-packages/imageio_ffmpeg/binaries/ffmpeg-macos-aarch64-v7.1 -i fmnqnCi0j_8__chunk__8.mp4 -loglevel error -f image2pipe -vf scale=640:360 -sws_flags bicubic -pix_fmt rgb24 -vcodec rawvideo -\n",
      "Audio path: fmnqnCi0j_8__audio__8.mp3, Video path: fmnqnCi0j_8__video__8.mp4\n",
      "MoviePy - Writing audio in fmnqnCi0j_8__audio__8.mp3\n"
     ]
    },
    {
     "name": "stderr",
     "output_type": "stream",
     "text": [
      "Python(67341) MallocStackLogging: can't turn off malloc stack logging because it was not enabled.\n"
     ]
    },
    {
     "name": "stdout",
     "output_type": "stream",
     "text": [
      "MoviePy - Done.\n",
      "MoviePy - Building video fmnqnCi0j_8__video__8.mp4.\n",
      "MoviePy - Writing video fmnqnCi0j_8__video__8.mp4\n",
      "\n"
     ]
    },
    {
     "name": "stderr",
     "output_type": "stream",
     "text": [
      "frame_index:  88%|████████▊ | 263/300 [00:00<00:00, 592.46it/s, now=None]/Users/emmettstorts/.local/share/virtualenvs/slip-ml-D1sQfDoh/lib/python3.11/site-packages/moviepy/video/io/ffmpeg_reader.py:178: UserWarning: In file fmnqnCi0j_8__chunk__8.mp4, 691200 bytes wanted but 0 bytes read at frame index 299 (out of a total 300 frames), at time 9.98/10.01 sec. Using the last valid frame instead.\n",
      "  warnings.warn(\n",
      "Python(67352) MallocStackLogging: can't turn off malloc stack logging because it was not enabled.\n",
      "/Users/emmettstorts/.local/share/virtualenvs/slip-ml-D1sQfDoh/lib/python3.11/site-packages/transformers/models/whisper/generation_whisper.py:573: FutureWarning: The input name `inputs` is deprecated. Please make sure to use `input_features` instead.\n",
      "  warnings.warn(\n"
     ]
    },
    {
     "name": "stdout",
     "output_type": "stream",
     "text": [
      "MoviePy - Done !\n",
      "MoviePy - video ready fmnqnCi0j_8__video__8.mp4\n",
      "Audio and video split successfully!\n"
     ]
    },
    {
     "name": "stderr",
     "output_type": "stream",
     "text": [
      "Python(67376) MallocStackLogging: can't turn off malloc stack logging because it was not enabled.\n",
      "Python(67377) MallocStackLogging: can't turn off malloc stack logging because it was not enabled.\n",
      "Python(67378) MallocStackLogging: can't turn off malloc stack logging because it was not enabled.\n",
      "Python(67379) MallocStackLogging: can't turn off malloc stack logging because it was not enabled.\n",
      "Python(67380) MallocStackLogging: can't turn off malloc stack logging because it was not enabled.\n"
     ]
    },
    {
     "name": "stdout",
     "output_type": "stream",
     "text": [
      "Text saved to fmnqnCi0j_8__text__8.json\n",
      "Video ID: fmnqnCi0j_8, Chunk Name: 9\n",
      "{'video_found': True, 'audio_found': True, 'metadata': {'major_brand': 'isom', 'minor_version': '512', 'compatible_brands': 'isomiso2avc1mp41', 'encoder': 'Lavf61.7.100'}, 'inputs': [{'streams': [{'input_number': 0, 'stream_number': 0, 'stream_type': 'video', 'language': None, 'default': True, 'size': [640, 360], 'bitrate': 351, 'fps': 29.97002997002997, 'codec_name': 'h264', 'profile': '(High)', 'metadata': {'Metadata': '', 'handler_name': 'VideoHandler', 'vendor_id': '[0][0][0][0]', 'encoder': 'Lavc61.19.100 libx264'}}, {'input_number': 0, 'stream_number': 1, 'stream_type': 'audio', 'language': None, 'default': True, 'fps': 44100, 'bitrate': 127, 'metadata': {'Metadata': '', 'handler_name': 'SoundHandler', 'vendor_id': '[0][0][0][0]'}}], 'input_number': 0}], 'duration': 10.01, 'bitrate': 486, 'start': 0.0, 'default_video_input_number': 0, 'default_video_stream_number': 0, 'video_codec_name': 'h264', 'video_profile': '(High)', 'video_size': [640, 360], 'video_bitrate': 351, 'video_fps': 29.97002997002997, 'default_audio_input_number': 0, 'default_audio_stream_number': 1, 'audio_fps': 44100, 'audio_bitrate': 127, 'video_duration': 10.01, 'video_n_frames': 300}\n",
      "/Users/emmettstorts/.local/share/virtualenvs/slip-ml-D1sQfDoh/lib/python3.11/site-packages/imageio_ffmpeg/binaries/ffmpeg-macos-aarch64-v7.1 -i fmnqnCi0j_8__chunk__9.mp4 -loglevel error -f image2pipe -vf scale=640:360 -sws_flags bicubic -pix_fmt rgb24 -vcodec rawvideo -\n",
      "Audio path: fmnqnCi0j_8__audio__9.mp3, Video path: fmnqnCi0j_8__video__9.mp4\n",
      "MoviePy - Writing audio in fmnqnCi0j_8__audio__9.mp3\n"
     ]
    },
    {
     "name": "stderr",
     "output_type": "stream",
     "text": [
      "Python(67381) MallocStackLogging: can't turn off malloc stack logging because it was not enabled.\n"
     ]
    },
    {
     "name": "stdout",
     "output_type": "stream",
     "text": [
      "MoviePy - Done.\n",
      "MoviePy - Building video fmnqnCi0j_8__video__9.mp4.\n",
      "MoviePy - Writing video fmnqnCi0j_8__video__9.mp4\n",
      "\n"
     ]
    },
    {
     "name": "stderr",
     "output_type": "stream",
     "text": [
      "frame_index:  97%|█████████▋| 290/300 [00:00<00:00, 632.93it/s, now=None]/Users/emmettstorts/.local/share/virtualenvs/slip-ml-D1sQfDoh/lib/python3.11/site-packages/moviepy/video/io/ffmpeg_reader.py:178: UserWarning: In file fmnqnCi0j_8__chunk__9.mp4, 691200 bytes wanted but 0 bytes read at frame index 299 (out of a total 300 frames), at time 9.98/10.01 sec. Using the last valid frame instead.\n",
      "  warnings.warn(\n",
      "Python(67385) MallocStackLogging: can't turn off malloc stack logging because it was not enabled.\n",
      "/Users/emmettstorts/.local/share/virtualenvs/slip-ml-D1sQfDoh/lib/python3.11/site-packages/transformers/models/whisper/generation_whisper.py:573: FutureWarning: The input name `inputs` is deprecated. Please make sure to use `input_features` instead.\n",
      "  warnings.warn(\n"
     ]
    },
    {
     "name": "stdout",
     "output_type": "stream",
     "text": [
      "MoviePy - Done !\n",
      "MoviePy - video ready fmnqnCi0j_8__video__9.mp4\n",
      "Audio and video split successfully!\n"
     ]
    },
    {
     "name": "stderr",
     "output_type": "stream",
     "text": [
      "Python(67412) MallocStackLogging: can't turn off malloc stack logging because it was not enabled.\n",
      "Python(67414) MallocStackLogging: can't turn off malloc stack logging because it was not enabled.\n",
      "Python(67415) MallocStackLogging: can't turn off malloc stack logging because it was not enabled.\n",
      "Python(67416) MallocStackLogging: can't turn off malloc stack logging because it was not enabled.\n",
      "Python(67417) MallocStackLogging: can't turn off malloc stack logging because it was not enabled.\n"
     ]
    },
    {
     "name": "stdout",
     "output_type": "stream",
     "text": [
      "Text saved to fmnqnCi0j_8__text__9.json\n",
      "Video ID: fmnqnCi0j_8, Chunk Name: 10\n",
      "{'video_found': True, 'audio_found': True, 'metadata': {'major_brand': 'isom', 'minor_version': '512', 'compatible_brands': 'isomiso2avc1mp41', 'encoder': 'Lavf61.7.100'}, 'inputs': [{'streams': [{'input_number': 0, 'stream_number': 0, 'stream_type': 'video', 'language': None, 'default': True, 'size': [640, 360], 'bitrate': 309, 'fps': 29.97002997002997, 'codec_name': 'h264', 'profile': '(High)', 'metadata': {'Metadata': '', 'handler_name': 'VideoHandler', 'vendor_id': '[0][0][0][0]', 'encoder': 'Lavc61.19.100 libx264'}}, {'input_number': 0, 'stream_number': 1, 'stream_type': 'audio', 'language': None, 'default': True, 'fps': 44100, 'bitrate': 127, 'metadata': {'Metadata': '', 'handler_name': 'SoundHandler', 'vendor_id': '[0][0][0][0]'}}], 'input_number': 0}], 'duration': 10.01, 'bitrate': 445, 'start': 0.0, 'default_video_input_number': 0, 'default_video_stream_number': 0, 'video_codec_name': 'h264', 'video_profile': '(High)', 'video_size': [640, 360], 'video_bitrate': 309, 'video_fps': 29.97002997002997, 'default_audio_input_number': 0, 'default_audio_stream_number': 1, 'audio_fps': 44100, 'audio_bitrate': 127, 'video_duration': 10.01, 'video_n_frames': 300}\n",
      "/Users/emmettstorts/.local/share/virtualenvs/slip-ml-D1sQfDoh/lib/python3.11/site-packages/imageio_ffmpeg/binaries/ffmpeg-macos-aarch64-v7.1 -i fmnqnCi0j_8__chunk__10.mp4 -loglevel error -f image2pipe -vf scale=640:360 -sws_flags bicubic -pix_fmt rgb24 -vcodec rawvideo -\n",
      "Audio path: fmnqnCi0j_8__audio__10.mp3, Video path: fmnqnCi0j_8__video__10.mp4\n",
      "MoviePy - Writing audio in fmnqnCi0j_8__audio__10.mp3\n"
     ]
    },
    {
     "name": "stderr",
     "output_type": "stream",
     "text": [
      "Python(67418) MallocStackLogging: can't turn off malloc stack logging because it was not enabled.\n"
     ]
    },
    {
     "name": "stdout",
     "output_type": "stream",
     "text": [
      "MoviePy - Done.\n",
      "MoviePy - Building video fmnqnCi0j_8__video__10.mp4.\n",
      "MoviePy - Writing video fmnqnCi0j_8__video__10.mp4\n",
      "\n"
     ]
    },
    {
     "name": "stderr",
     "output_type": "stream",
     "text": [
      "frame_index:  91%|█████████ | 273/300 [00:00<00:00, 607.41it/s, now=None]/Users/emmettstorts/.local/share/virtualenvs/slip-ml-D1sQfDoh/lib/python3.11/site-packages/moviepy/video/io/ffmpeg_reader.py:178: UserWarning: In file fmnqnCi0j_8__chunk__10.mp4, 691200 bytes wanted but 0 bytes read at frame index 299 (out of a total 300 frames), at time 9.98/10.01 sec. Using the last valid frame instead.\n",
      "  warnings.warn(\n",
      "Python(67419) MallocStackLogging: can't turn off malloc stack logging because it was not enabled.\n",
      "/Users/emmettstorts/.local/share/virtualenvs/slip-ml-D1sQfDoh/lib/python3.11/site-packages/transformers/models/whisper/generation_whisper.py:573: FutureWarning: The input name `inputs` is deprecated. Please make sure to use `input_features` instead.\n",
      "  warnings.warn(\n"
     ]
    },
    {
     "name": "stdout",
     "output_type": "stream",
     "text": [
      "MoviePy - Done !\n",
      "MoviePy - video ready fmnqnCi0j_8__video__10.mp4\n",
      "Audio and video split successfully!\n"
     ]
    },
    {
     "name": "stderr",
     "output_type": "stream",
     "text": [
      "Python(67450) MallocStackLogging: can't turn off malloc stack logging because it was not enabled.\n",
      "Python(67451) MallocStackLogging: can't turn off malloc stack logging because it was not enabled.\n",
      "Python(67452) MallocStackLogging: can't turn off malloc stack logging because it was not enabled.\n",
      "Python(67453) MallocStackLogging: can't turn off malloc stack logging because it was not enabled.\n",
      "Python(67454) MallocStackLogging: can't turn off malloc stack logging because it was not enabled.\n"
     ]
    },
    {
     "name": "stdout",
     "output_type": "stream",
     "text": [
      "Text saved to fmnqnCi0j_8__text__10.json\n",
      "Video ID: fmnqnCi0j_8, Chunk Name: 11\n",
      "{'video_found': True, 'audio_found': True, 'metadata': {'major_brand': 'isom', 'minor_version': '512', 'compatible_brands': 'isomiso2avc1mp41', 'encoder': 'Lavf61.7.100'}, 'inputs': [{'streams': [{'input_number': 0, 'stream_number': 0, 'stream_type': 'video', 'language': None, 'default': True, 'size': [640, 360], 'bitrate': 290, 'fps': 29.97002997002997, 'codec_name': 'h264', 'profile': '(High)', 'metadata': {'Metadata': '', 'handler_name': 'VideoHandler', 'vendor_id': '[0][0][0][0]', 'encoder': 'Lavc61.19.100 libx264'}}, {'input_number': 0, 'stream_number': 1, 'stream_type': 'audio', 'language': None, 'default': True, 'fps': 44100, 'bitrate': 127, 'metadata': {'Metadata': '', 'handler_name': 'SoundHandler', 'vendor_id': '[0][0][0][0]'}}], 'input_number': 0}], 'duration': 10.01, 'bitrate': 426, 'start': 0.0, 'default_video_input_number': 0, 'default_video_stream_number': 0, 'video_codec_name': 'h264', 'video_profile': '(High)', 'video_size': [640, 360], 'video_bitrate': 290, 'video_fps': 29.97002997002997, 'default_audio_input_number': 0, 'default_audio_stream_number': 1, 'audio_fps': 44100, 'audio_bitrate': 127, 'video_duration': 10.01, 'video_n_frames': 300}\n",
      "/Users/emmettstorts/.local/share/virtualenvs/slip-ml-D1sQfDoh/lib/python3.11/site-packages/imageio_ffmpeg/binaries/ffmpeg-macos-aarch64-v7.1 -i fmnqnCi0j_8__chunk__11.mp4 -loglevel error -f image2pipe -vf scale=640:360 -sws_flags bicubic -pix_fmt rgb24 -vcodec rawvideo -\n",
      "Audio path: fmnqnCi0j_8__audio__11.mp3, Video path: fmnqnCi0j_8__video__11.mp4\n",
      "MoviePy - Writing audio in fmnqnCi0j_8__audio__11.mp3\n"
     ]
    },
    {
     "name": "stderr",
     "output_type": "stream",
     "text": [
      "Python(67455) MallocStackLogging: can't turn off malloc stack logging because it was not enabled.\n"
     ]
    },
    {
     "name": "stdout",
     "output_type": "stream",
     "text": [
      "MoviePy - Done.\n",
      "MoviePy - Building video fmnqnCi0j_8__video__11.mp4.\n",
      "MoviePy - Writing video fmnqnCi0j_8__video__11.mp4\n",
      "\n"
     ]
    },
    {
     "name": "stderr",
     "output_type": "stream",
     "text": [
      "frame_index:  86%|████████▋ | 259/300 [00:00<00:00, 587.68it/s, now=None]/Users/emmettstorts/.local/share/virtualenvs/slip-ml-D1sQfDoh/lib/python3.11/site-packages/moviepy/video/io/ffmpeg_reader.py:178: UserWarning: In file fmnqnCi0j_8__chunk__11.mp4, 691200 bytes wanted but 0 bytes read at frame index 299 (out of a total 300 frames), at time 9.98/10.01 sec. Using the last valid frame instead.\n",
      "  warnings.warn(\n",
      "Python(67456) MallocStackLogging: can't turn off malloc stack logging because it was not enabled.\n",
      "/Users/emmettstorts/.local/share/virtualenvs/slip-ml-D1sQfDoh/lib/python3.11/site-packages/transformers/models/whisper/generation_whisper.py:573: FutureWarning: The input name `inputs` is deprecated. Please make sure to use `input_features` instead.\n",
      "  warnings.warn(\n"
     ]
    },
    {
     "name": "stdout",
     "output_type": "stream",
     "text": [
      "MoviePy - Done !\n",
      "MoviePy - video ready fmnqnCi0j_8__video__11.mp4\n",
      "Audio and video split successfully!\n"
     ]
    },
    {
     "name": "stderr",
     "output_type": "stream",
     "text": [
      "Python(67479) MallocStackLogging: can't turn off malloc stack logging because it was not enabled.\n",
      "Python(67483) MallocStackLogging: can't turn off malloc stack logging because it was not enabled.\n",
      "Python(67484) MallocStackLogging: can't turn off malloc stack logging because it was not enabled.\n",
      "Python(67486) MallocStackLogging: can't turn off malloc stack logging because it was not enabled.\n",
      "Python(67487) MallocStackLogging: can't turn off malloc stack logging because it was not enabled.\n"
     ]
    },
    {
     "name": "stdout",
     "output_type": "stream",
     "text": [
      "Text saved to fmnqnCi0j_8__text__11.json\n",
      "Video ID: fmnqnCi0j_8, Chunk Name: 12\n",
      "{'video_found': True, 'audio_found': True, 'metadata': {'major_brand': 'isom', 'minor_version': '512', 'compatible_brands': 'isomiso2avc1mp41', 'encoder': 'Lavf61.7.100'}, 'inputs': [{'streams': [{'input_number': 0, 'stream_number': 0, 'stream_type': 'video', 'language': None, 'default': True, 'size': [640, 360], 'bitrate': 356, 'fps': 29.97002997002997, 'codec_name': 'h264', 'profile': '(High)', 'metadata': {'Metadata': '', 'handler_name': 'VideoHandler', 'vendor_id': '[0][0][0][0]', 'encoder': 'Lavc61.19.100 libx264'}}, {'input_number': 0, 'stream_number': 1, 'stream_type': 'audio', 'language': None, 'default': True, 'fps': 44100, 'bitrate': 127, 'metadata': {'Metadata': '', 'handler_name': 'SoundHandler', 'vendor_id': '[0][0][0][0]'}}], 'input_number': 0}], 'duration': 10.01, 'bitrate': 492, 'start': 0.0, 'default_video_input_number': 0, 'default_video_stream_number': 0, 'video_codec_name': 'h264', 'video_profile': '(High)', 'video_size': [640, 360], 'video_bitrate': 356, 'video_fps': 29.97002997002997, 'default_audio_input_number': 0, 'default_audio_stream_number': 1, 'audio_fps': 44100, 'audio_bitrate': 127, 'video_duration': 10.01, 'video_n_frames': 300}\n",
      "/Users/emmettstorts/.local/share/virtualenvs/slip-ml-D1sQfDoh/lib/python3.11/site-packages/imageio_ffmpeg/binaries/ffmpeg-macos-aarch64-v7.1 -i fmnqnCi0j_8__chunk__12.mp4 -loglevel error -f image2pipe -vf scale=640:360 -sws_flags bicubic -pix_fmt rgb24 -vcodec rawvideo -\n",
      "Audio path: fmnqnCi0j_8__audio__12.mp3, Video path: fmnqnCi0j_8__video__12.mp4\n",
      "MoviePy - Writing audio in fmnqnCi0j_8__audio__12.mp3\n"
     ]
    },
    {
     "name": "stderr",
     "output_type": "stream",
     "text": [
      "Python(67491) MallocStackLogging: can't turn off malloc stack logging because it was not enabled.\n"
     ]
    },
    {
     "name": "stdout",
     "output_type": "stream",
     "text": [
      "MoviePy - Done.\n",
      "MoviePy - Building video fmnqnCi0j_8__video__12.mp4.\n",
      "MoviePy - Writing video fmnqnCi0j_8__video__12.mp4\n",
      "\n"
     ]
    },
    {
     "name": "stderr",
     "output_type": "stream",
     "text": [
      "frame_index:  94%|█████████▎| 281/300 [00:00<00:00, 686.67it/s, now=None]/Users/emmettstorts/.local/share/virtualenvs/slip-ml-D1sQfDoh/lib/python3.11/site-packages/moviepy/video/io/ffmpeg_reader.py:178: UserWarning: In file fmnqnCi0j_8__chunk__12.mp4, 691200 bytes wanted but 0 bytes read at frame index 299 (out of a total 300 frames), at time 9.98/10.01 sec. Using the last valid frame instead.\n",
      "  warnings.warn(\n",
      "Python(67492) MallocStackLogging: can't turn off malloc stack logging because it was not enabled.\n",
      "/Users/emmettstorts/.local/share/virtualenvs/slip-ml-D1sQfDoh/lib/python3.11/site-packages/transformers/models/whisper/generation_whisper.py:573: FutureWarning: The input name `inputs` is deprecated. Please make sure to use `input_features` instead.\n",
      "  warnings.warn(\n"
     ]
    },
    {
     "name": "stdout",
     "output_type": "stream",
     "text": [
      "MoviePy - Done !\n",
      "MoviePy - video ready fmnqnCi0j_8__video__12.mp4\n",
      "Audio and video split successfully!\n"
     ]
    },
    {
     "name": "stderr",
     "output_type": "stream",
     "text": [
      "Python(67514) MallocStackLogging: can't turn off malloc stack logging because it was not enabled.\n",
      "Python(67515) MallocStackLogging: can't turn off malloc stack logging because it was not enabled.\n",
      "Python(67516) MallocStackLogging: can't turn off malloc stack logging because it was not enabled.\n",
      "Python(67517) MallocStackLogging: can't turn off malloc stack logging because it was not enabled.\n",
      "Python(67518) MallocStackLogging: can't turn off malloc stack logging because it was not enabled.\n"
     ]
    },
    {
     "name": "stdout",
     "output_type": "stream",
     "text": [
      "Text saved to fmnqnCi0j_8__text__12.json\n",
      "Video ID: fmnqnCi0j_8, Chunk Name: 13\n",
      "{'video_found': True, 'audio_found': True, 'metadata': {'major_brand': 'isom', 'minor_version': '512', 'compatible_brands': 'isomiso2avc1mp41', 'encoder': 'Lavf61.7.100'}, 'inputs': [{'streams': [{'input_number': 0, 'stream_number': 0, 'stream_type': 'video', 'language': None, 'default': True, 'size': [640, 360], 'bitrate': 324, 'fps': 29.97002997002997, 'codec_name': 'h264', 'profile': '(High)', 'metadata': {'Metadata': '', 'handler_name': 'VideoHandler', 'vendor_id': '[0][0][0][0]', 'encoder': 'Lavc61.19.100 libx264'}}, {'input_number': 0, 'stream_number': 1, 'stream_type': 'audio', 'language': None, 'default': True, 'fps': 44100, 'bitrate': 127, 'metadata': {'Metadata': '', 'handler_name': 'SoundHandler', 'vendor_id': '[0][0][0][0]'}}], 'input_number': 0}], 'duration': 10.01, 'bitrate': 460, 'start': 0.0, 'default_video_input_number': 0, 'default_video_stream_number': 0, 'video_codec_name': 'h264', 'video_profile': '(High)', 'video_size': [640, 360], 'video_bitrate': 324, 'video_fps': 29.97002997002997, 'default_audio_input_number': 0, 'default_audio_stream_number': 1, 'audio_fps': 44100, 'audio_bitrate': 127, 'video_duration': 10.01, 'video_n_frames': 300}\n",
      "/Users/emmettstorts/.local/share/virtualenvs/slip-ml-D1sQfDoh/lib/python3.11/site-packages/imageio_ffmpeg/binaries/ffmpeg-macos-aarch64-v7.1 -i fmnqnCi0j_8__chunk__13.mp4 -loglevel error -f image2pipe -vf scale=640:360 -sws_flags bicubic -pix_fmt rgb24 -vcodec rawvideo -\n",
      "Audio path: fmnqnCi0j_8__audio__13.mp3, Video path: fmnqnCi0j_8__video__13.mp4\n",
      "MoviePy - Writing audio in fmnqnCi0j_8__audio__13.mp3\n"
     ]
    },
    {
     "name": "stderr",
     "output_type": "stream",
     "text": [
      "Python(67519) MallocStackLogging: can't turn off malloc stack logging because it was not enabled.\n"
     ]
    },
    {
     "name": "stdout",
     "output_type": "stream",
     "text": [
      "MoviePy - Done.\n",
      "MoviePy - Building video fmnqnCi0j_8__video__13.mp4.\n",
      "MoviePy - Writing video fmnqnCi0j_8__video__13.mp4\n",
      "\n"
     ]
    },
    {
     "name": "stderr",
     "output_type": "stream",
     "text": [
      "frame_index:  95%|█████████▌| 286/300 [00:00<00:00, 539.72it/s, now=None]/Users/emmettstorts/.local/share/virtualenvs/slip-ml-D1sQfDoh/lib/python3.11/site-packages/moviepy/video/io/ffmpeg_reader.py:178: UserWarning: In file fmnqnCi0j_8__chunk__13.mp4, 691200 bytes wanted but 0 bytes read at frame index 299 (out of a total 300 frames), at time 9.98/10.01 sec. Using the last valid frame instead.\n",
      "  warnings.warn(\n",
      "Python(67520) MallocStackLogging: can't turn off malloc stack logging because it was not enabled.\n",
      "/Users/emmettstorts/.local/share/virtualenvs/slip-ml-D1sQfDoh/lib/python3.11/site-packages/transformers/models/whisper/generation_whisper.py:573: FutureWarning: The input name `inputs` is deprecated. Please make sure to use `input_features` instead.\n",
      "  warnings.warn(\n"
     ]
    },
    {
     "name": "stdout",
     "output_type": "stream",
     "text": [
      "MoviePy - Done !\n",
      "MoviePy - video ready fmnqnCi0j_8__video__13.mp4\n",
      "Audio and video split successfully!\n"
     ]
    },
    {
     "name": "stderr",
     "output_type": "stream",
     "text": [
      "Python(67545) MallocStackLogging: can't turn off malloc stack logging because it was not enabled.\n",
      "Python(67546) MallocStackLogging: can't turn off malloc stack logging because it was not enabled.\n",
      "Python(67547) MallocStackLogging: can't turn off malloc stack logging because it was not enabled.\n",
      "Python(67548) MallocStackLogging: can't turn off malloc stack logging because it was not enabled.\n",
      "Python(67552) MallocStackLogging: can't turn off malloc stack logging because it was not enabled.\n"
     ]
    },
    {
     "name": "stdout",
     "output_type": "stream",
     "text": [
      "Text saved to fmnqnCi0j_8__text__13.json\n",
      "Video ID: fmnqnCi0j_8, Chunk Name: 14\n",
      "{'video_found': True, 'audio_found': True, 'metadata': {'major_brand': 'isom', 'minor_version': '512', 'compatible_brands': 'isomiso2avc1mp41', 'encoder': 'Lavf61.7.100'}, 'inputs': [{'streams': [{'input_number': 0, 'stream_number': 0, 'stream_type': 'video', 'language': None, 'default': True, 'size': [640, 360], 'bitrate': 345, 'fps': 29.97002997002997, 'codec_name': 'h264', 'profile': '(High)', 'metadata': {'Metadata': '', 'handler_name': 'VideoHandler', 'vendor_id': '[0][0][0][0]', 'encoder': 'Lavc61.19.100 libx264'}}, {'input_number': 0, 'stream_number': 1, 'stream_type': 'audio', 'language': None, 'default': True, 'fps': 44100, 'bitrate': 127, 'metadata': {'Metadata': '', 'handler_name': 'SoundHandler', 'vendor_id': '[0][0][0][0]'}}], 'input_number': 0}], 'duration': 10.01, 'bitrate': 481, 'start': 0.0, 'default_video_input_number': 0, 'default_video_stream_number': 0, 'video_codec_name': 'h264', 'video_profile': '(High)', 'video_size': [640, 360], 'video_bitrate': 345, 'video_fps': 29.97002997002997, 'default_audio_input_number': 0, 'default_audio_stream_number': 1, 'audio_fps': 44100, 'audio_bitrate': 127, 'video_duration': 10.01, 'video_n_frames': 300}\n",
      "/Users/emmettstorts/.local/share/virtualenvs/slip-ml-D1sQfDoh/lib/python3.11/site-packages/imageio_ffmpeg/binaries/ffmpeg-macos-aarch64-v7.1 -i fmnqnCi0j_8__chunk__14.mp4 -loglevel error -f image2pipe -vf scale=640:360 -sws_flags bicubic -pix_fmt rgb24 -vcodec rawvideo -\n",
      "Audio path: fmnqnCi0j_8__audio__14.mp3, Video path: fmnqnCi0j_8__video__14.mp4\n",
      "MoviePy - Writing audio in fmnqnCi0j_8__audio__14.mp3\n"
     ]
    },
    {
     "name": "stderr",
     "output_type": "stream",
     "text": [
      "Python(67553) MallocStackLogging: can't turn off malloc stack logging because it was not enabled.\n"
     ]
    },
    {
     "name": "stdout",
     "output_type": "stream",
     "text": [
      "MoviePy - Done.\n",
      "MoviePy - Building video fmnqnCi0j_8__video__14.mp4.\n",
      "MoviePy - Writing video fmnqnCi0j_8__video__14.mp4\n",
      "\n"
     ]
    },
    {
     "name": "stderr",
     "output_type": "stream",
     "text": [
      "frame_index:  91%|█████████ | 273/300 [00:00<00:00, 593.85it/s, now=None]/Users/emmettstorts/.local/share/virtualenvs/slip-ml-D1sQfDoh/lib/python3.11/site-packages/moviepy/video/io/ffmpeg_reader.py:178: UserWarning: In file fmnqnCi0j_8__chunk__14.mp4, 691200 bytes wanted but 0 bytes read at frame index 299 (out of a total 300 frames), at time 9.98/10.01 sec. Using the last valid frame instead.\n",
      "  warnings.warn(\n",
      "Python(67554) MallocStackLogging: can't turn off malloc stack logging because it was not enabled.\n",
      "/Users/emmettstorts/.local/share/virtualenvs/slip-ml-D1sQfDoh/lib/python3.11/site-packages/transformers/models/whisper/generation_whisper.py:573: FutureWarning: The input name `inputs` is deprecated. Please make sure to use `input_features` instead.\n",
      "  warnings.warn(\n"
     ]
    },
    {
     "name": "stdout",
     "output_type": "stream",
     "text": [
      "MoviePy - Done !\n",
      "MoviePy - video ready fmnqnCi0j_8__video__14.mp4\n",
      "Audio and video split successfully!\n"
     ]
    },
    {
     "name": "stderr",
     "output_type": "stream",
     "text": [
      "Python(67571) MallocStackLogging: can't turn off malloc stack logging because it was not enabled.\n",
      "Python(67572) MallocStackLogging: can't turn off malloc stack logging because it was not enabled.\n",
      "Python(67573) MallocStackLogging: can't turn off malloc stack logging because it was not enabled.\n",
      "Python(67574) MallocStackLogging: can't turn off malloc stack logging because it was not enabled.\n",
      "Python(67575) MallocStackLogging: can't turn off malloc stack logging because it was not enabled.\n"
     ]
    },
    {
     "name": "stdout",
     "output_type": "stream",
     "text": [
      "Text saved to fmnqnCi0j_8__text__14.json\n",
      "Video ID: fmnqnCi0j_8, Chunk Name: 15\n",
      "{'video_found': True, 'audio_found': True, 'metadata': {'major_brand': 'isom', 'minor_version': '512', 'compatible_brands': 'isomiso2avc1mp41', 'encoder': 'Lavf61.7.100'}, 'inputs': [{'streams': [{'input_number': 0, 'stream_number': 0, 'stream_type': 'video', 'language': None, 'default': True, 'size': [640, 360], 'bitrate': 345, 'fps': 29.97002997002997, 'codec_name': 'h264', 'profile': '(High)', 'metadata': {'Metadata': '', 'handler_name': 'VideoHandler', 'vendor_id': '[0][0][0][0]', 'encoder': 'Lavc61.19.100 libx264'}}, {'input_number': 0, 'stream_number': 1, 'stream_type': 'audio', 'language': None, 'default': True, 'fps': 44100, 'bitrate': 127, 'metadata': {'Metadata': '', 'handler_name': 'SoundHandler', 'vendor_id': '[0][0][0][0]'}}], 'input_number': 0}], 'duration': 10.01, 'bitrate': 480, 'start': 0.0, 'default_video_input_number': 0, 'default_video_stream_number': 0, 'video_codec_name': 'h264', 'video_profile': '(High)', 'video_size': [640, 360], 'video_bitrate': 345, 'video_fps': 29.97002997002997, 'default_audio_input_number': 0, 'default_audio_stream_number': 1, 'audio_fps': 44100, 'audio_bitrate': 127, 'video_duration': 10.01, 'video_n_frames': 300}\n",
      "/Users/emmettstorts/.local/share/virtualenvs/slip-ml-D1sQfDoh/lib/python3.11/site-packages/imageio_ffmpeg/binaries/ffmpeg-macos-aarch64-v7.1 -i fmnqnCi0j_8__chunk__15.mp4 -loglevel error -f image2pipe -vf scale=640:360 -sws_flags bicubic -pix_fmt rgb24 -vcodec rawvideo -\n",
      "Audio path: fmnqnCi0j_8__audio__15.mp3, Video path: fmnqnCi0j_8__video__15.mp4\n",
      "MoviePy - Writing audio in fmnqnCi0j_8__audio__15.mp3\n"
     ]
    },
    {
     "name": "stderr",
     "output_type": "stream",
     "text": [
      "Python(67579) MallocStackLogging: can't turn off malloc stack logging because it was not enabled.\n"
     ]
    },
    {
     "name": "stdout",
     "output_type": "stream",
     "text": [
      "MoviePy - Done.\n",
      "MoviePy - Building video fmnqnCi0j_8__video__15.mp4.\n",
      "MoviePy - Writing video fmnqnCi0j_8__video__15.mp4\n",
      "\n"
     ]
    },
    {
     "name": "stderr",
     "output_type": "stream",
     "text": [
      "frame_index:  98%|█████████▊| 293/300 [00:00<00:00, 578.73it/s, now=None]/Users/emmettstorts/.local/share/virtualenvs/slip-ml-D1sQfDoh/lib/python3.11/site-packages/moviepy/video/io/ffmpeg_reader.py:178: UserWarning: In file fmnqnCi0j_8__chunk__15.mp4, 691200 bytes wanted but 0 bytes read at frame index 299 (out of a total 300 frames), at time 9.98/10.01 sec. Using the last valid frame instead.\n",
      "  warnings.warn(\n",
      "Python(67583) MallocStackLogging: can't turn off malloc stack logging because it was not enabled.\n",
      "/Users/emmettstorts/.local/share/virtualenvs/slip-ml-D1sQfDoh/lib/python3.11/site-packages/transformers/models/whisper/generation_whisper.py:573: FutureWarning: The input name `inputs` is deprecated. Please make sure to use `input_features` instead.\n",
      "  warnings.warn(\n"
     ]
    },
    {
     "name": "stdout",
     "output_type": "stream",
     "text": [
      "MoviePy - Done !\n",
      "MoviePy - video ready fmnqnCi0j_8__video__15.mp4\n",
      "Audio and video split successfully!\n"
     ]
    },
    {
     "name": "stderr",
     "output_type": "stream",
     "text": [
      "Python(67596) MallocStackLogging: can't turn off malloc stack logging because it was not enabled.\n",
      "Python(67597) MallocStackLogging: can't turn off malloc stack logging because it was not enabled.\n",
      "Python(67598) MallocStackLogging: can't turn off malloc stack logging because it was not enabled.\n",
      "Python(67599) MallocStackLogging: can't turn off malloc stack logging because it was not enabled.\n",
      "Python(67600) MallocStackLogging: can't turn off malloc stack logging because it was not enabled.\n"
     ]
    },
    {
     "name": "stdout",
     "output_type": "stream",
     "text": [
      "Text saved to fmnqnCi0j_8__text__15.json\n",
      "Video ID: fmnqnCi0j_8, Chunk Name: 16\n",
      "{'video_found': True, 'audio_found': True, 'metadata': {'major_brand': 'isom', 'minor_version': '512', 'compatible_brands': 'isomiso2avc1mp41', 'encoder': 'Lavf61.7.100'}, 'inputs': [{'streams': [{'input_number': 0, 'stream_number': 0, 'stream_type': 'video', 'language': None, 'default': True, 'size': [640, 360], 'bitrate': 277, 'fps': 29.97002997002997, 'codec_name': 'h264', 'profile': '(High)', 'metadata': {'Metadata': '', 'handler_name': 'VideoHandler', 'vendor_id': '[0][0][0][0]', 'encoder': 'Lavc61.19.100 libx264'}}, {'input_number': 0, 'stream_number': 1, 'stream_type': 'audio', 'language': None, 'default': True, 'fps': 44100, 'bitrate': 127, 'metadata': {'Metadata': '', 'handler_name': 'SoundHandler', 'vendor_id': '[0][0][0][0]'}}], 'input_number': 0}], 'duration': 10.01, 'bitrate': 413, 'start': 0.0, 'default_video_input_number': 0, 'default_video_stream_number': 0, 'video_codec_name': 'h264', 'video_profile': '(High)', 'video_size': [640, 360], 'video_bitrate': 277, 'video_fps': 29.97002997002997, 'default_audio_input_number': 0, 'default_audio_stream_number': 1, 'audio_fps': 44100, 'audio_bitrate': 127, 'video_duration': 10.01, 'video_n_frames': 300}\n",
      "/Users/emmettstorts/.local/share/virtualenvs/slip-ml-D1sQfDoh/lib/python3.11/site-packages/imageio_ffmpeg/binaries/ffmpeg-macos-aarch64-v7.1 -i fmnqnCi0j_8__chunk__16.mp4 -loglevel error -f image2pipe -vf scale=640:360 -sws_flags bicubic -pix_fmt rgb24 -vcodec rawvideo -\n",
      "Audio path: fmnqnCi0j_8__audio__16.mp3, Video path: fmnqnCi0j_8__video__16.mp4\n",
      "MoviePy - Writing audio in fmnqnCi0j_8__audio__16.mp3\n"
     ]
    },
    {
     "name": "stderr",
     "output_type": "stream",
     "text": [
      "Python(67601) MallocStackLogging: can't turn off malloc stack logging because it was not enabled.\n"
     ]
    },
    {
     "name": "stdout",
     "output_type": "stream",
     "text": [
      "MoviePy - Done.\n",
      "MoviePy - Building video fmnqnCi0j_8__video__16.mp4.\n",
      "MoviePy - Writing video fmnqnCi0j_8__video__16.mp4\n",
      "\n"
     ]
    },
    {
     "name": "stderr",
     "output_type": "stream",
     "text": [
      "frame_index:  79%|███████▉  | 238/300 [00:00<00:00, 708.45it/s, now=None]/Users/emmettstorts/.local/share/virtualenvs/slip-ml-D1sQfDoh/lib/python3.11/site-packages/moviepy/video/io/ffmpeg_reader.py:178: UserWarning: In file fmnqnCi0j_8__chunk__16.mp4, 691200 bytes wanted but 0 bytes read at frame index 299 (out of a total 300 frames), at time 9.98/10.01 sec. Using the last valid frame instead.\n",
      "  warnings.warn(\n",
      "Python(67605) MallocStackLogging: can't turn off malloc stack logging because it was not enabled.\n",
      "/Users/emmettstorts/.local/share/virtualenvs/slip-ml-D1sQfDoh/lib/python3.11/site-packages/transformers/models/whisper/generation_whisper.py:573: FutureWarning: The input name `inputs` is deprecated. Please make sure to use `input_features` instead.\n",
      "  warnings.warn(\n"
     ]
    },
    {
     "name": "stdout",
     "output_type": "stream",
     "text": [
      "MoviePy - Done !\n",
      "MoviePy - video ready fmnqnCi0j_8__video__16.mp4\n",
      "Audio and video split successfully!\n"
     ]
    },
    {
     "name": "stderr",
     "output_type": "stream",
     "text": [
      "Python(67616) MallocStackLogging: can't turn off malloc stack logging because it was not enabled.\n",
      "Python(67617) MallocStackLogging: can't turn off malloc stack logging because it was not enabled.\n",
      "Python(67618) MallocStackLogging: can't turn off malloc stack logging because it was not enabled.\n",
      "Python(67619) MallocStackLogging: can't turn off malloc stack logging because it was not enabled.\n",
      "Python(67620) MallocStackLogging: can't turn off malloc stack logging because it was not enabled.\n"
     ]
    },
    {
     "name": "stdout",
     "output_type": "stream",
     "text": [
      "Text saved to fmnqnCi0j_8__text__16.json\n",
      "Video ID: fmnqnCi0j_8, Chunk Name: 17\n",
      "{'video_found': True, 'audio_found': True, 'metadata': {'major_brand': 'isom', 'minor_version': '512', 'compatible_brands': 'isomiso2avc1mp41', 'encoder': 'Lavf61.7.100'}, 'inputs': [{'streams': [{'input_number': 0, 'stream_number': 0, 'stream_type': 'video', 'language': None, 'default': True, 'size': [640, 360], 'bitrate': 281, 'fps': 29.97002997002997, 'codec_name': 'h264', 'profile': '(High)', 'metadata': {'Metadata': '', 'handler_name': 'VideoHandler', 'vendor_id': '[0][0][0][0]', 'encoder': 'Lavc61.19.100 libx264'}}, {'input_number': 0, 'stream_number': 1, 'stream_type': 'audio', 'language': None, 'default': True, 'fps': 44100, 'bitrate': 127, 'metadata': {'Metadata': '', 'handler_name': 'SoundHandler', 'vendor_id': '[0][0][0][0]'}}], 'input_number': 0}], 'duration': 10.01, 'bitrate': 417, 'start': 0.0, 'default_video_input_number': 0, 'default_video_stream_number': 0, 'video_codec_name': 'h264', 'video_profile': '(High)', 'video_size': [640, 360], 'video_bitrate': 281, 'video_fps': 29.97002997002997, 'default_audio_input_number': 0, 'default_audio_stream_number': 1, 'audio_fps': 44100, 'audio_bitrate': 127, 'video_duration': 10.01, 'video_n_frames': 300}\n",
      "/Users/emmettstorts/.local/share/virtualenvs/slip-ml-D1sQfDoh/lib/python3.11/site-packages/imageio_ffmpeg/binaries/ffmpeg-macos-aarch64-v7.1 -i fmnqnCi0j_8__chunk__17.mp4 -loglevel error -f image2pipe -vf scale=640:360 -sws_flags bicubic -pix_fmt rgb24 -vcodec rawvideo -\n",
      "Audio path: fmnqnCi0j_8__audio__17.mp3, Video path: fmnqnCi0j_8__video__17.mp4\n",
      "MoviePy - Writing audio in fmnqnCi0j_8__audio__17.mp3\n"
     ]
    },
    {
     "name": "stderr",
     "output_type": "stream",
     "text": [
      "Python(67621) MallocStackLogging: can't turn off malloc stack logging because it was not enabled.\n"
     ]
    },
    {
     "name": "stdout",
     "output_type": "stream",
     "text": [
      "MoviePy - Done.\n",
      "MoviePy - Building video fmnqnCi0j_8__video__17.mp4.\n",
      "MoviePy - Writing video fmnqnCi0j_8__video__17.mp4\n",
      "\n"
     ]
    },
    {
     "name": "stderr",
     "output_type": "stream",
     "text": [
      "frame_index:  72%|███████▏  | 217/300 [00:00<00:00, 616.23it/s, now=None]/Users/emmettstorts/.local/share/virtualenvs/slip-ml-D1sQfDoh/lib/python3.11/site-packages/moviepy/video/io/ffmpeg_reader.py:178: UserWarning: In file fmnqnCi0j_8__chunk__17.mp4, 691200 bytes wanted but 0 bytes read at frame index 299 (out of a total 300 frames), at time 9.98/10.01 sec. Using the last valid frame instead.\n",
      "  warnings.warn(\n",
      "Python(67627) MallocStackLogging: can't turn off malloc stack logging because it was not enabled.\n",
      "/Users/emmettstorts/.local/share/virtualenvs/slip-ml-D1sQfDoh/lib/python3.11/site-packages/transformers/models/whisper/generation_whisper.py:573: FutureWarning: The input name `inputs` is deprecated. Please make sure to use `input_features` instead.\n",
      "  warnings.warn(\n"
     ]
    },
    {
     "name": "stdout",
     "output_type": "stream",
     "text": [
      "MoviePy - Done !\n",
      "MoviePy - video ready fmnqnCi0j_8__video__17.mp4\n",
      "Audio and video split successfully!\n"
     ]
    },
    {
     "name": "stderr",
     "output_type": "stream",
     "text": [
      "Python(67642) MallocStackLogging: can't turn off malloc stack logging because it was not enabled.\n",
      "Python(67643) MallocStackLogging: can't turn off malloc stack logging because it was not enabled.\n",
      "Python(67644) MallocStackLogging: can't turn off malloc stack logging because it was not enabled.\n",
      "Python(67645) MallocStackLogging: can't turn off malloc stack logging because it was not enabled.\n",
      "Python(67646) MallocStackLogging: can't turn off malloc stack logging because it was not enabled.\n"
     ]
    },
    {
     "name": "stdout",
     "output_type": "stream",
     "text": [
      "Text saved to fmnqnCi0j_8__text__17.json\n",
      "Video ID: fmnqnCi0j_8, Chunk Name: 18\n",
      "{'video_found': True, 'audio_found': True, 'metadata': {'major_brand': 'isom', 'minor_version': '512', 'compatible_brands': 'isomiso2avc1mp41', 'encoder': 'Lavf61.7.100'}, 'inputs': [{'streams': [{'input_number': 0, 'stream_number': 0, 'stream_type': 'video', 'language': None, 'default': True, 'size': [640, 360], 'bitrate': 277, 'fps': 29.97002997002997, 'codec_name': 'h264', 'profile': '(High)', 'metadata': {'Metadata': '', 'handler_name': 'VideoHandler', 'vendor_id': '[0][0][0][0]', 'encoder': 'Lavc61.19.100 libx264'}}, {'input_number': 0, 'stream_number': 1, 'stream_type': 'audio', 'language': None, 'default': True, 'fps': 44100, 'bitrate': 127, 'metadata': {'Metadata': '', 'handler_name': 'SoundHandler', 'vendor_id': '[0][0][0][0]'}}], 'input_number': 0}], 'duration': 10.01, 'bitrate': 413, 'start': 0.0, 'default_video_input_number': 0, 'default_video_stream_number': 0, 'video_codec_name': 'h264', 'video_profile': '(High)', 'video_size': [640, 360], 'video_bitrate': 277, 'video_fps': 29.97002997002997, 'default_audio_input_number': 0, 'default_audio_stream_number': 1, 'audio_fps': 44100, 'audio_bitrate': 127, 'video_duration': 10.01, 'video_n_frames': 300}\n",
      "/Users/emmettstorts/.local/share/virtualenvs/slip-ml-D1sQfDoh/lib/python3.11/site-packages/imageio_ffmpeg/binaries/ffmpeg-macos-aarch64-v7.1 -i fmnqnCi0j_8__chunk__18.mp4 -loglevel error -f image2pipe -vf scale=640:360 -sws_flags bicubic -pix_fmt rgb24 -vcodec rawvideo -\n",
      "Audio path: fmnqnCi0j_8__audio__18.mp3, Video path: fmnqnCi0j_8__video__18.mp4\n",
      "MoviePy - Writing audio in fmnqnCi0j_8__audio__18.mp3\n"
     ]
    },
    {
     "name": "stderr",
     "output_type": "stream",
     "text": [
      "Python(67652) MallocStackLogging: can't turn off malloc stack logging because it was not enabled.\n"
     ]
    },
    {
     "name": "stdout",
     "output_type": "stream",
     "text": [
      "MoviePy - Done.\n",
      "MoviePy - Building video fmnqnCi0j_8__video__18.mp4.\n",
      "MoviePy - Writing video fmnqnCi0j_8__video__18.mp4\n",
      "\n"
     ]
    },
    {
     "name": "stderr",
     "output_type": "stream",
     "text": [
      "frame_index:  78%|███████▊  | 235/300 [00:00<00:00, 662.60it/s, now=None]/Users/emmettstorts/.local/share/virtualenvs/slip-ml-D1sQfDoh/lib/python3.11/site-packages/moviepy/video/io/ffmpeg_reader.py:178: UserWarning: In file fmnqnCi0j_8__chunk__18.mp4, 691200 bytes wanted but 0 bytes read at frame index 299 (out of a total 300 frames), at time 9.98/10.01 sec. Using the last valid frame instead.\n",
      "  warnings.warn(\n",
      "Python(67665) MallocStackLogging: can't turn off malloc stack logging because it was not enabled.\n"
     ]
    },
    {
     "name": "stdout",
     "output_type": "stream",
     "text": [
      "MoviePy - Done !\n",
      "MoviePy - video ready fmnqnCi0j_8__video__18.mp4\n",
      "Audio and video split successfully!\n"
     ]
    },
    {
     "name": "stderr",
     "output_type": "stream",
     "text": [
      "/Users/emmettstorts/.local/share/virtualenvs/slip-ml-D1sQfDoh/lib/python3.11/site-packages/transformers/models/whisper/generation_whisper.py:573: FutureWarning: The input name `inputs` is deprecated. Please make sure to use `input_features` instead.\n",
      "  warnings.warn(\n",
      "Python(67690) MallocStackLogging: can't turn off malloc stack logging because it was not enabled.\n",
      "Python(67691) MallocStackLogging: can't turn off malloc stack logging because it was not enabled.\n",
      "Python(67692) MallocStackLogging: can't turn off malloc stack logging because it was not enabled.\n",
      "Python(67693) MallocStackLogging: can't turn off malloc stack logging because it was not enabled.\n",
      "Python(67694) MallocStackLogging: can't turn off malloc stack logging because it was not enabled.\n"
     ]
    },
    {
     "name": "stdout",
     "output_type": "stream",
     "text": [
      "Text saved to fmnqnCi0j_8__text__18.json\n",
      "Video ID: fmnqnCi0j_8, Chunk Name: 19\n",
      "{'video_found': True, 'audio_found': True, 'metadata': {'major_brand': 'isom', 'minor_version': '512', 'compatible_brands': 'isomiso2avc1mp41', 'encoder': 'Lavf61.7.100'}, 'inputs': [{'streams': [{'input_number': 0, 'stream_number': 0, 'stream_type': 'video', 'language': None, 'default': True, 'size': [640, 360], 'bitrate': 343, 'fps': 29.97002997002997, 'codec_name': 'h264', 'profile': '(High)', 'metadata': {'Metadata': '', 'handler_name': 'VideoHandler', 'vendor_id': '[0][0][0][0]', 'encoder': 'Lavc61.19.100 libx264'}}, {'input_number': 0, 'stream_number': 1, 'stream_type': 'audio', 'language': None, 'default': True, 'fps': 44100, 'bitrate': 127, 'metadata': {'Metadata': '', 'handler_name': 'SoundHandler', 'vendor_id': '[0][0][0][0]'}}], 'input_number': 0}], 'duration': 10.01, 'bitrate': 479, 'start': 0.0, 'default_video_input_number': 0, 'default_video_stream_number': 0, 'video_codec_name': 'h264', 'video_profile': '(High)', 'video_size': [640, 360], 'video_bitrate': 343, 'video_fps': 29.97002997002997, 'default_audio_input_number': 0, 'default_audio_stream_number': 1, 'audio_fps': 44100, 'audio_bitrate': 127, 'video_duration': 10.01, 'video_n_frames': 300}\n",
      "/Users/emmettstorts/.local/share/virtualenvs/slip-ml-D1sQfDoh/lib/python3.11/site-packages/imageio_ffmpeg/binaries/ffmpeg-macos-aarch64-v7.1 -i fmnqnCi0j_8__chunk__19.mp4 -loglevel error -f image2pipe -vf scale=640:360 -sws_flags bicubic -pix_fmt rgb24 -vcodec rawvideo -\n",
      "Audio path: fmnqnCi0j_8__audio__19.mp3, Video path: fmnqnCi0j_8__video__19.mp4\n",
      "MoviePy - Writing audio in fmnqnCi0j_8__audio__19.mp3\n"
     ]
    },
    {
     "name": "stderr",
     "output_type": "stream",
     "text": [
      "Python(67695) MallocStackLogging: can't turn off malloc stack logging because it was not enabled.\n"
     ]
    },
    {
     "name": "stdout",
     "output_type": "stream",
     "text": [
      "MoviePy - Done.\n",
      "MoviePy - Building video fmnqnCi0j_8__video__19.mp4.\n",
      "MoviePy - Writing video fmnqnCi0j_8__video__19.mp4\n",
      "\n"
     ]
    },
    {
     "name": "stderr",
     "output_type": "stream",
     "text": [
      "frame_index:  91%|█████████ | 272/300 [00:00<00:00, 594.10it/s, now=None]/Users/emmettstorts/.local/share/virtualenvs/slip-ml-D1sQfDoh/lib/python3.11/site-packages/moviepy/video/io/ffmpeg_reader.py:178: UserWarning: In file fmnqnCi0j_8__chunk__19.mp4, 691200 bytes wanted but 0 bytes read at frame index 299 (out of a total 300 frames), at time 9.98/10.01 sec. Using the last valid frame instead.\n",
      "  warnings.warn(\n",
      "Python(67704) MallocStackLogging: can't turn off malloc stack logging because it was not enabled.\n",
      "/Users/emmettstorts/.local/share/virtualenvs/slip-ml-D1sQfDoh/lib/python3.11/site-packages/transformers/models/whisper/generation_whisper.py:573: FutureWarning: The input name `inputs` is deprecated. Please make sure to use `input_features` instead.\n",
      "  warnings.warn(\n"
     ]
    },
    {
     "name": "stdout",
     "output_type": "stream",
     "text": [
      "MoviePy - Done !\n",
      "MoviePy - video ready fmnqnCi0j_8__video__19.mp4\n",
      "Audio and video split successfully!\n",
      "Text saved to fmnqnCi0j_8__text__19.json\n"
     ]
    }
   ],
   "source": [
    "for url in videos:\n",
    "    video_name = download_youtube_video_yt_dlp(url)\n",
    "    video_chunks = clip_video_into_chunks(video_name, chunk_length=10)\n",
    "    for chunk in video_chunks:\n",
    "        audio_path = split_audio_video(chunk)\n",
    "        audio_to_text(audio_path)"
   ]
  },
  {
   "cell_type": "code",
   "execution_count": null,
   "id": "290c4967",
   "metadata": {},
   "outputs": [],
   "source": []
  }
 ],
 "metadata": {
  "kernelspec": {
   "display_name": "slip-ml-D1sQfDoh",
   "language": "python",
   "name": "python3"
  },
  "language_info": {
   "codemirror_mode": {
    "name": "ipython",
    "version": 3
   },
   "file_extension": ".py",
   "mimetype": "text/x-python",
   "name": "python",
   "nbconvert_exporter": "python",
   "pygments_lexer": "ipython3",
   "version": "3.11.6"
  }
 },
 "nbformat": 4,
 "nbformat_minor": 5
}
