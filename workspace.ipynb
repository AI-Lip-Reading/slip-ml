{
 "cells": [
  {
   "cell_type": "code",
   "execution_count": 18,
   "id": "4ee97b69",
   "metadata": {},
   "outputs": [],
   "source": [
    "import yt_dlp\n",
    "import os\n",
    "from moviepy.video.io.VideoFileClip import VideoFileClip\n",
    "import torch\n",
    "from transformers import AutoModelForSpeechSeq2Seq, AutoProcessor, pipeline\n",
    "import json\n",
    "import boto3\n",
    "from googleapiclient.discovery import build\n",
    "from googleapiclient.errors import HttpError"
   ]
  },
  {
   "cell_type": "code",
   "execution_count": 19,
   "id": "39c45e4b",
   "metadata": {},
   "outputs": [],
   "source": [
    "secret_name = \"youtube\"\n",
    "region_name = \"us-east-1\"\n",
    "\n",
    "# Create a Secrets Manager client\n",
    "session = boto3.session.Session()\n",
    "secretsmanager = session.client(service_name='secretsmanager', region_name=region_name)\n",
    "\n",
    "get_secret_value_response = secretsmanager.get_secret_value(SecretId=secret_name)\n",
    "\n",
    "secret = get_secret_value_response['SecretString']\n",
    "api_key = json.loads(secret)[\"API_KEY\"]\n"
   ]
  },
  {
   "cell_type": "code",
   "execution_count": 20,
   "id": "c86497ff",
   "metadata": {},
   "outputs": [],
   "source": [
    "total_duration = 0"
   ]
  },
  {
   "cell_type": "code",
   "execution_count": 21,
   "id": "3b683a69",
   "metadata": {},
   "outputs": [],
   "source": [
    "s3_client = boto3.client('s3')\n",
    "bucket = 'slip-ml'"
   ]
  },
  {
   "cell_type": "code",
   "execution_count": 22,
   "id": "d26b4778",
   "metadata": {},
   "outputs": [
    {
     "name": "stdout",
     "output_type": "stream",
     "text": [
      "Using mps device\n"
     ]
    }
   ],
   "source": [
    "device = torch.device(\n",
    "    \"cuda\"\n",
    "    if torch.cuda.is_available()\n",
    "    else \"mps\"\n",
    "    if torch.backends.mps.is_available()\n",
    "    else \"cpu\"\n",
    ")\n",
    "print(f\"Using {device} device\")"
   ]
  },
  {
   "cell_type": "code",
   "execution_count": 23,
   "id": "32fa846f",
   "metadata": {},
   "outputs": [
    {
     "name": "stdout",
     "output_type": "stream",
     "text": [
      "Using torch.float32 dtype\n"
     ]
    }
   ],
   "source": [
    "torch_dtype = torch.float16 if torch.cuda.is_available() else torch.float32\n",
    "print(f\"Using {torch_dtype} dtype\")"
   ]
  },
  {
   "cell_type": "code",
   "execution_count": 24,
   "id": "2db5472c",
   "metadata": {},
   "outputs": [],
   "source": [
    "model_id = \"openai/whisper-large-v3-turbo\"\n",
    "model = AutoModelForSpeechSeq2Seq.from_pretrained(model_id, torch_dtype=torch_dtype, low_cpu_mem_usage=True, use_safetensors=True)\n",
    "model.to(device)\n",
    "processor = AutoProcessor.from_pretrained(model_id)"
   ]
  },
  {
   "cell_type": "code",
   "execution_count": 25,
   "id": "b3e67953",
   "metadata": {},
   "outputs": [
    {
     "name": "stderr",
     "output_type": "stream",
     "text": [
      "Device set to use mps\n"
     ]
    }
   ],
   "source": [
    "pipe = pipeline(\n",
    "    \"automatic-speech-recognition\",\n",
    "    model=model,\n",
    "    tokenizer=processor.tokenizer,\n",
    "    feature_extractor=processor.feature_extractor,\n",
    "    torch_dtype=torch_dtype,\n",
    "    device=device,\n",
    ")"
   ]
  },
  {
   "cell_type": "code",
   "execution_count": 26,
   "id": "225ec349",
   "metadata": {},
   "outputs": [],
   "source": [
    "def get_playlist_videos(playlist_url):\n",
    "    \"\"\"\n",
    "    Extract all video URLs from a YouTube playlist using the YouTube Data API.\n",
    "    \n",
    "    Args:\n",
    "        playlist_url (str): The YouTube playlist URL (e.g., https://www.youtube.com/playlist?list=PL86SiVwkw_odmp-RVzD8yef3wU7Z2uD5a)\n",
    "        api_key (str): Your YouTube Data API key\n",
    "    \n",
    "    Returns:\n",
    "        list: List of video URLs\n",
    "    \"\"\"\n",
    "    # Extract playlist ID from URL\n",
    "    playlist_id = playlist_url.split(\"list=\")[-1].split(\"&\")[0]\n",
    "    \n",
    "    # Initialize YouTube API client\n",
    "    youtube = build('youtube', 'v3', developerKey=api_key)\n",
    "    \n",
    "    video_urls = []\n",
    "    next_page_token = None\n",
    "    \n",
    "    try:\n",
    "        while True:\n",
    "            # Request playlist items\n",
    "            request = youtube.playlistItems().list(\n",
    "                part=\"contentDetails\",\n",
    "                playlistId=playlist_id,\n",
    "                maxResults=50,  # Max allowed per request\n",
    "                pageToken=next_page_token\n",
    "            )\n",
    "            response = request.execute()\n",
    "            \n",
    "            # Extract video IDs and create URLs\n",
    "            for item in response['items']:\n",
    "                video_id = item['contentDetails']['videoId']\n",
    "                video_url = f\"https://www.youtube.com/watch?v={video_id}\"\n",
    "                video_urls.append(video_url)\n",
    "            \n",
    "            # Check for next page\n",
    "            next_page_token = response.get('nextPageToken')\n",
    "            if not next_page_token:\n",
    "                break\n",
    "    \n",
    "    except HttpError as e:\n",
    "        print(f\"An error occurred: {e}\")\n",
    "        return []\n",
    "    \n",
    "    return video_urls"
   ]
  },
  {
   "cell_type": "code",
   "execution_count": 27,
   "id": "58289a05",
   "metadata": {},
   "outputs": [],
   "source": [
    "def download_youtube_video_yt_dlp(url):\n",
    "    # extract video ID from the URL\n",
    "    video_id = url.split(\"v=\")[-1]\n",
    "    if \"&\" in video_id:\n",
    "        video_id = video_id.split(\"&\")[0]\n",
    "\n",
    "    ydl_opts = {\n",
    "        \"outtmpl\": f\"{video_id}.%(ext)s\",  # Output path and filename\n",
    "        \"format\": \"best\",  # Select the best single file (video + audio)\n",
    "        \"merge_output_format\": None,  # Avoid merging, stick to single stream\n",
    "    }\n",
    "    try:\n",
    "        with yt_dlp.YoutubeDL(ydl_opts) as ydl:\n",
    "            ydl.download([url])\n",
    "        print(\"Download completed successfully!\")\n",
    "        return video_id\n",
    "    except Exception as e:\n",
    "        print(f\"An error occurred: {e}\")"
   ]
  },
  {
   "cell_type": "code",
   "execution_count": 28,
   "id": "fc7334ae",
   "metadata": {},
   "outputs": [],
   "source": [
    "def upload_to_s3(local_file):\n",
    "    if 'text' in local_file:\n",
    "        s3_folder = 'text'\n",
    "    elif 'video' in local_file:\n",
    "        s3_folder = 'video'\n",
    "    else:\n",
    "        s3_folder = 'data'\n",
    "    \n",
    "    s3_file = f\"{s3_folder}/{local_file}\"\n",
    "    \n",
    "    # Upload the file\n",
    "    s3_client.upload_file(local_file, bucket, s3_file)\n",
    "    print(f\"Upload Successful: {local_file} -> {s3_file}\")"
   ]
  },
  {
   "cell_type": "code",
   "execution_count": 29,
   "id": "1ef14e87",
   "metadata": {},
   "outputs": [],
   "source": [
    "def get_video_chunk_names(path):\n",
    "    # extract video ID from the filename\n",
    "    video_id = path.split('__')[0]\n",
    "    chunk_name = path.split('__')[2].split('.')[0]\n",
    "    return video_id, chunk_name"
   ]
  },
  {
   "cell_type": "code",
   "execution_count": 30,
   "id": "496cace7",
   "metadata": {},
   "outputs": [],
   "source": [
    "def split_audio_video(video_file):\n",
    "    try:\n",
    "        # extract video ID from the filename\n",
    "        video_id, chunk_name = get_video_chunk_names(video_file)\n",
    "        print(f\"Video ID: {video_id}, Chunk Name: {chunk_name}\")\n",
    "\n",
    "        # import video\n",
    "        video_chunk = VideoFileClip(video_file)\n",
    "\n",
    "        # Split audio and video\n",
    "        audio_path = os.path.join(f\"{video_id}__audio__{chunk_name}.mp3\")\n",
    "        video_path = os.path.join(f\"{video_id}__video__{chunk_name}.mp4\")\n",
    "        print(f\"Audio path: {audio_path}, Video path: {video_path}\")\n",
    "\n",
    "\n",
    "        # Write audio to file\n",
    "        video_chunk.audio.write_audiofile(audio_path)\n",
    "\n",
    "        # Write video to file\n",
    "        video_only = video_chunk.without_audio()\n",
    "        video_only.write_videofile(video_path, codec=\"libx264\", audio_codec=\"aac\")\n",
    "        upload_to_s3(video_path)\n",
    "\n",
    "        # Close the video clip\n",
    "        video_chunk.close()\n",
    "        video_only.close()\n",
    "\n",
    "        # delete chunk video file\n",
    "        os.remove(video_file)\n",
    "\n",
    "        print(\"Audio and video split successfully!\")\n",
    "        return audio_path, video_path\n",
    "    except Exception as e:\n",
    "        print(f\"An error occurred: {e}\")"
   ]
  },
  {
   "cell_type": "code",
   "execution_count": 31,
   "id": "f14024e6",
   "metadata": {},
   "outputs": [],
   "source": [
    "def clip_video_into_chunks(video_id):\n",
    "    global total_duration\n",
    "    input_file = video_id + '.mp4'\n",
    "    try:\n",
    "        video = VideoFileClip(input_file)\n",
    "        duration = int(video.duration) - 30  # Get the duration of the video in seconds\n",
    "        total_duration += duration\n",
    "\n",
    "        chunk_length = (duration // 10)+1  # Length of each chunk in seconds\n",
    "        chunks = []\n",
    "\n",
    "        for start in range(0, duration, chunk_length):\n",
    "            end = min(start + chunk_length, duration)\n",
    "            chunk = video.subclipped(start, end)\n",
    "            chunk_filename = f\"{video_id}__chunk__{start // chunk_length}.mp4\"\n",
    "            chunk.write_videofile(chunk_filename, codec=\"libx264\")\n",
    "            chunks.append(chunk_filename)\n",
    "\n",
    "        video.close()\n",
    "\n",
    "        # detele original video file\n",
    "        os.remove(input_file)\n",
    "\n",
    "        return chunks\n",
    "    except Exception as e:\n",
    "        print(f\"An error occurred while splitting the video: {e}\")\n",
    "        return []"
   ]
  },
  {
   "cell_type": "code",
   "execution_count": 32,
   "id": "28c30946",
   "metadata": {},
   "outputs": [],
   "source": [
    "def audio_to_text(audio_file):\n",
    "    result = pipe(f\"{os.getcwd()}/{audio_file}\")\n",
    "    text = result[\"text\"]\n",
    "    # extract video ID from the filename\n",
    "    video_id, chunk_name = get_video_chunk_names(audio_file)\n",
    "    # save text to JSON file\n",
    "    data = {\n",
    "        \n",
    "        \"video_id\": video_id,\n",
    "        \"chunk_name\": chunk_name,\n",
    "        \"text\": text\n",
    "    }\n",
    "\n",
    "    # Save the data to a JSON file\n",
    "    json_file = f\"{video_id}__text__{chunk_name}.json\"\n",
    "    with open(json_file, \"w\") as f:\n",
    "        json.dump(data, f, indent=4)\n",
    "\n",
    "    print(f\"Text saved to {json_file}\")\n",
    "    upload_to_s3(json_file)\n",
    "\n",
    "    # remove audio file\n",
    "    os.remove(audio_file)\n",
    "    os.remove(json_file)"
   ]
  },
  {
   "cell_type": "code",
   "execution_count": 33,
   "id": "0b4d86ba",
   "metadata": {},
   "outputs": [],
   "source": [
    "# get list of YT video urls\n",
    "playlist_urls = [\"https://www.youtube.com/playlist?list=PL86SiVwkw_odmp-RVzD8yef3wU7Z2uD5a\",\n",
    "                 \"https://www.youtube.com/playlist?list=PL86SiVwkw_ocn2nwGFoFWkBN8pFwgUshe\",\n",
    "                 \"https://www.youtube.com/playlist?list=PL86SiVwkw_oe-sPwrWqm0k7t8bOK8dFpB\",\n",
    "                 \"https://www.youtube.com/playlist?list=PL86SiVwkw_ofCWfjyBWs4PES8w-5AwPbx\",\n",
    "                 \"https://www.youtube.com/playlist?list=PL86SiVwkw_oeR6BsaVjOwHunDOyAmDYxc\",\n",
    "                 \"https://www.youtube.com/playlist?list=PL86SiVwkw_ocJPhcA3xiqszDcyIiGIt5y\",\n",
    "                 \"https://www.youtube.com/playlist?list=PL86SiVwkw_oeLwHETCekBrdfP7M93LOpU\",\n",
    "                 \"https://www.youtube.com/playlist?list=PL86SiVwkw_odq_rn2jUfdDAYgQfvijNtp\",\n",
    "                 \"https://www.youtube.com/playlist?list=PL86SiVwkw_ofqbtdqZzFgzd--kxXhdRB4\"]\n",
    "                 "
   ]
  },
  {
   "cell_type": "code",
   "execution_count": 34,
   "id": "652bedd7",
   "metadata": {},
   "outputs": [
    {
     "name": "stdout",
     "output_type": "stream",
     "text": [
      "Total videos: 1182\n"
     ]
    }
   ],
   "source": [
    "all_video_urls = []\n",
    "for playlist_url in playlist_urls:\n",
    "    video_urls = get_playlist_videos(playlist_url)\n",
    "    all_video_urls.extend(video_urls)\n",
    "print(f\"Total videos: {len(all_video_urls)}\")"
   ]
  },
  {
   "cell_type": "code",
   "execution_count": 38,
   "id": "fdd3f4b1",
   "metadata": {},
   "outputs": [
    {
     "name": "stdout",
     "output_type": "stream",
     "text": [
      "Total videos after removing duplicates: 1141\n"
     ]
    }
   ],
   "source": [
    "# remove duplicate video urls\n",
    "all_video_urls = list(set(all_video_urls))\n",
    "print(f\"Total videos after removing duplicates: {len(all_video_urls)}\")"
   ]
  },
  {
   "cell_type": "code",
   "execution_count": null,
   "id": "4a94eb6b",
   "metadata": {},
   "outputs": [
    {
     "name": "stdout",
     "output_type": "stream",
     "text": [
      "Skipping video 58/1141: https://www.youtube.com/watch?v=74M0hPAeFHs\n"
     ]
    }
   ],
   "source": [
    "last_video_num = 0\n",
    "for i, video_url in enumerate(all_video_urls):\n",
    "    if '74M0hPAeFHs' in video_url:\n",
    "        print(f\"Skipping video {i+1}/{len(all_video_urls)}: {video_url}\")\n",
    "        last_video_num = i\n",
    "        continue"
   ]
  },
  {
   "cell_type": "code",
   "execution_count": null,
   "id": "3976ba6c",
   "metadata": {},
   "outputs": [
    {
     "name": "stdout",
     "output_type": "stream",
     "text": [
      "*******************************************************Processing video 0 of 1182********************************************************\n",
      "[youtube] Extracting URL: https://www.youtube.com/watch?v=4Prc1UfuokY\n",
      "[youtube] 4Prc1UfuokY: Downloading webpage\n",
      "[youtube] 4Prc1UfuokY: Downloading tv client config\n",
      "[youtube] 4Prc1UfuokY: Downloading player fded239a-main\n",
      "[youtube] 4Prc1UfuokY: Downloading tv player API JSON\n",
      "[youtube] 4Prc1UfuokY: Downloading ios player API JSON\n",
      "[youtube] 4Prc1UfuokY: Downloading m3u8 information\n"
     ]
    },
    {
     "ename": "KeyboardInterrupt",
     "evalue": "",
     "output_type": "error",
     "traceback": [
      "\u001b[31m---------------------------------------------------------------------------\u001b[39m",
      "\u001b[31mKeyboardInterrupt\u001b[39m                         Traceback (most recent call last)",
      "\u001b[36mCell\u001b[39m\u001b[36m \u001b[39m\u001b[32mIn[36]\u001b[39m\u001b[32m, line 4\u001b[39m\n\u001b[32m      2\u001b[39m \u001b[38;5;28mprint\u001b[39m(\u001b[33mf\u001b[39m\u001b[33m\"\u001b[39m\u001b[33m*******************************************************Processing video \u001b[39m\u001b[38;5;132;01m{\u001b[39;00mi\u001b[38;5;132;01m}\u001b[39;00m\u001b[33m of \u001b[39m\u001b[38;5;132;01m{\u001b[39;00m\u001b[38;5;28mlen\u001b[39m(all_video_urls)\u001b[38;5;132;01m}\u001b[39;00m\u001b[33m********************************************************\u001b[39m\u001b[33m\"\u001b[39m)\n\u001b[32m      3\u001b[39m \u001b[38;5;28;01mtry\u001b[39;00m:\n\u001b[32m----> \u001b[39m\u001b[32m4\u001b[39m     video_name = \u001b[43mdownload_youtube_video_yt_dlp\u001b[49m\u001b[43m(\u001b[49m\u001b[43murl\u001b[49m\u001b[43m)\u001b[49m\n\u001b[32m      5\u001b[39m     video_chunks = clip_video_into_chunks(video_name)\n\u001b[32m      6\u001b[39m     \u001b[38;5;28;01mfor\u001b[39;00m chunk \u001b[38;5;129;01min\u001b[39;00m video_chunks:\n",
      "\u001b[36mCell\u001b[39m\u001b[36m \u001b[39m\u001b[32mIn[27]\u001b[39m\u001b[32m, line 14\u001b[39m, in \u001b[36mdownload_youtube_video_yt_dlp\u001b[39m\u001b[34m(url)\u001b[39m\n\u001b[32m     12\u001b[39m \u001b[38;5;28;01mtry\u001b[39;00m:\n\u001b[32m     13\u001b[39m     \u001b[38;5;28;01mwith\u001b[39;00m yt_dlp.YoutubeDL(ydl_opts) \u001b[38;5;28;01mas\u001b[39;00m ydl:\n\u001b[32m---> \u001b[39m\u001b[32m14\u001b[39m         \u001b[43mydl\u001b[49m\u001b[43m.\u001b[49m\u001b[43mdownload\u001b[49m\u001b[43m(\u001b[49m\u001b[43m[\u001b[49m\u001b[43murl\u001b[49m\u001b[43m]\u001b[49m\u001b[43m)\u001b[49m\n\u001b[32m     15\u001b[39m     \u001b[38;5;28mprint\u001b[39m(\u001b[33m\"\u001b[39m\u001b[33mDownload completed successfully!\u001b[39m\u001b[33m\"\u001b[39m)\n\u001b[32m     16\u001b[39m     \u001b[38;5;28;01mreturn\u001b[39;00m video_id\n",
      "\u001b[36mFile \u001b[39m\u001b[32m~/.local/share/virtualenvs/slip-ml-bXUTykFe/lib/python3.11/site-packages/yt_dlp/YoutubeDL.py:3634\u001b[39m, in \u001b[36mYoutubeDL.download\u001b[39m\u001b[34m(self, url_list)\u001b[39m\n\u001b[32m   3631\u001b[39m     \u001b[38;5;28;01mraise\u001b[39;00m SameFileError(outtmpl)\n\u001b[32m   3633\u001b[39m \u001b[38;5;28;01mfor\u001b[39;00m url \u001b[38;5;129;01min\u001b[39;00m url_list:\n\u001b[32m-> \u001b[39m\u001b[32m3634\u001b[39m     \u001b[38;5;28;43mself\u001b[39;49m\u001b[43m.\u001b[49m\u001b[43m__download_wrapper\u001b[49m\u001b[43m(\u001b[49m\u001b[38;5;28;43mself\u001b[39;49m\u001b[43m.\u001b[49m\u001b[43mextract_info\u001b[49m\u001b[43m)\u001b[49m\u001b[43m(\u001b[49m\n\u001b[32m   3635\u001b[39m \u001b[43m        \u001b[49m\u001b[43murl\u001b[49m\u001b[43m,\u001b[49m\u001b[43m \u001b[49m\u001b[43mforce_generic_extractor\u001b[49m\u001b[43m=\u001b[49m\u001b[38;5;28;43mself\u001b[39;49m\u001b[43m.\u001b[49m\u001b[43mparams\u001b[49m\u001b[43m.\u001b[49m\u001b[43mget\u001b[49m\u001b[43m(\u001b[49m\u001b[33;43m'\u001b[39;49m\u001b[33;43mforce_generic_extractor\u001b[39;49m\u001b[33;43m'\u001b[39;49m\u001b[43m,\u001b[49m\u001b[43m \u001b[49m\u001b[38;5;28;43;01mFalse\u001b[39;49;00m\u001b[43m)\u001b[49m\u001b[43m)\u001b[49m\n\u001b[32m   3637\u001b[39m \u001b[38;5;28;01mreturn\u001b[39;00m \u001b[38;5;28mself\u001b[39m._download_retcode\n",
      "\u001b[36mFile \u001b[39m\u001b[32m~/.local/share/virtualenvs/slip-ml-bXUTykFe/lib/python3.11/site-packages/yt_dlp/YoutubeDL.py:3607\u001b[39m, in \u001b[36mYoutubeDL.__download_wrapper.<locals>.wrapper\u001b[39m\u001b[34m(*args, **kwargs)\u001b[39m\n\u001b[32m   3604\u001b[39m \u001b[38;5;129m@functools\u001b[39m.wraps(func)\n\u001b[32m   3605\u001b[39m \u001b[38;5;28;01mdef\u001b[39;00m\u001b[38;5;250m \u001b[39m\u001b[34mwrapper\u001b[39m(*args, **kwargs):\n\u001b[32m   3606\u001b[39m     \u001b[38;5;28;01mtry\u001b[39;00m:\n\u001b[32m-> \u001b[39m\u001b[32m3607\u001b[39m         res = \u001b[43mfunc\u001b[49m\u001b[43m(\u001b[49m\u001b[43m*\u001b[49m\u001b[43margs\u001b[49m\u001b[43m,\u001b[49m\u001b[43m \u001b[49m\u001b[43m*\u001b[49m\u001b[43m*\u001b[49m\u001b[43mkwargs\u001b[49m\u001b[43m)\u001b[49m\n\u001b[32m   3608\u001b[39m     \u001b[38;5;28;01mexcept\u001b[39;00m CookieLoadError:\n\u001b[32m   3609\u001b[39m         \u001b[38;5;28;01mraise\u001b[39;00m\n",
      "\u001b[36mFile \u001b[39m\u001b[32m~/.local/share/virtualenvs/slip-ml-bXUTykFe/lib/python3.11/site-packages/yt_dlp/YoutubeDL.py:1642\u001b[39m, in \u001b[36mYoutubeDL.extract_info\u001b[39m\u001b[34m(self, url, download, ie_key, extra_info, process, force_generic_extractor)\u001b[39m\n\u001b[32m   1640\u001b[39m             \u001b[38;5;28;01mraise\u001b[39;00m ExistingVideoReached\n\u001b[32m   1641\u001b[39m         \u001b[38;5;28;01mbreak\u001b[39;00m\n\u001b[32m-> \u001b[39m\u001b[32m1642\u001b[39m     \u001b[38;5;28;01mreturn\u001b[39;00m \u001b[38;5;28;43mself\u001b[39;49m\u001b[43m.\u001b[49m\u001b[43m__extract_info\u001b[49m\u001b[43m(\u001b[49m\u001b[43murl\u001b[49m\u001b[43m,\u001b[49m\u001b[43m \u001b[49m\u001b[38;5;28;43mself\u001b[39;49m\u001b[43m.\u001b[49m\u001b[43mget_info_extractor\u001b[49m\u001b[43m(\u001b[49m\u001b[43mkey\u001b[49m\u001b[43m)\u001b[49m\u001b[43m,\u001b[49m\u001b[43m \u001b[49m\u001b[43mdownload\u001b[49m\u001b[43m,\u001b[49m\u001b[43m \u001b[49m\u001b[43mextra_info\u001b[49m\u001b[43m,\u001b[49m\u001b[43m \u001b[49m\u001b[43mprocess\u001b[49m\u001b[43m)\u001b[49m\n\u001b[32m   1643\u001b[39m \u001b[38;5;28;01melse\u001b[39;00m:\n\u001b[32m   1644\u001b[39m     extractors_restricted = \u001b[38;5;28mself\u001b[39m.params.get(\u001b[33m'\u001b[39m\u001b[33mallowed_extractors\u001b[39m\u001b[33m'\u001b[39m) \u001b[38;5;129;01mnot\u001b[39;00m \u001b[38;5;129;01min\u001b[39;00m (\u001b[38;5;28;01mNone\u001b[39;00m, [\u001b[33m'\u001b[39m\u001b[33mdefault\u001b[39m\u001b[33m'\u001b[39m])\n",
      "\u001b[36mFile \u001b[39m\u001b[32m~/.local/share/virtualenvs/slip-ml-bXUTykFe/lib/python3.11/site-packages/yt_dlp/YoutubeDL.py:1653\u001b[39m, in \u001b[36mYoutubeDL._handle_extraction_exceptions.<locals>.wrapper\u001b[39m\u001b[34m(self, *args, **kwargs)\u001b[39m\n\u001b[32m   1651\u001b[39m \u001b[38;5;28;01mwhile\u001b[39;00m \u001b[38;5;28;01mTrue\u001b[39;00m:\n\u001b[32m   1652\u001b[39m     \u001b[38;5;28;01mtry\u001b[39;00m:\n\u001b[32m-> \u001b[39m\u001b[32m1653\u001b[39m         \u001b[38;5;28;01mreturn\u001b[39;00m \u001b[43mfunc\u001b[49m\u001b[43m(\u001b[49m\u001b[38;5;28;43mself\u001b[39;49m\u001b[43m,\u001b[49m\u001b[43m \u001b[49m\u001b[43m*\u001b[49m\u001b[43margs\u001b[49m\u001b[43m,\u001b[49m\u001b[43m \u001b[49m\u001b[43m*\u001b[49m\u001b[43m*\u001b[49m\u001b[43mkwargs\u001b[49m\u001b[43m)\u001b[49m\n\u001b[32m   1654\u001b[39m     \u001b[38;5;28;01mexcept\u001b[39;00m (CookieLoadError, DownloadCancelled, LazyList.IndexError, PagedList.IndexError):\n\u001b[32m   1655\u001b[39m         \u001b[38;5;28;01mraise\u001b[39;00m\n",
      "\u001b[36mFile \u001b[39m\u001b[32m~/.local/share/virtualenvs/slip-ml-bXUTykFe/lib/python3.11/site-packages/yt_dlp/YoutubeDL.py:1788\u001b[39m, in \u001b[36mYoutubeDL.__extract_info\u001b[39m\u001b[34m(self, url, ie, download, extra_info, process)\u001b[39m\n\u001b[32m   1785\u001b[39m \u001b[38;5;28mself\u001b[39m._apply_header_cookies(url)\n\u001b[32m   1787\u001b[39m \u001b[38;5;28;01mtry\u001b[39;00m:\n\u001b[32m-> \u001b[39m\u001b[32m1788\u001b[39m     ie_result = \u001b[43mie\u001b[49m\u001b[43m.\u001b[49m\u001b[43mextract\u001b[49m\u001b[43m(\u001b[49m\u001b[43murl\u001b[49m\u001b[43m)\u001b[49m\n\u001b[32m   1789\u001b[39m \u001b[38;5;28;01mexcept\u001b[39;00m UserNotLive \u001b[38;5;28;01mas\u001b[39;00m e:\n\u001b[32m   1790\u001b[39m     \u001b[38;5;28;01mif\u001b[39;00m process:\n",
      "\u001b[36mFile \u001b[39m\u001b[32m~/.local/share/virtualenvs/slip-ml-bXUTykFe/lib/python3.11/site-packages/yt_dlp/extractor/common.py:748\u001b[39m, in \u001b[36mInfoExtractor.extract\u001b[39m\u001b[34m(self, url)\u001b[39m\n\u001b[32m    745\u001b[39m \u001b[38;5;28mself\u001b[39m.initialize()\n\u001b[32m    746\u001b[39m \u001b[38;5;28mself\u001b[39m.to_screen(\u001b[33m'\u001b[39m\u001b[33mExtracting URL: \u001b[39m\u001b[38;5;132;01m%s\u001b[39;00m\u001b[33m'\u001b[39m % (\n\u001b[32m    747\u001b[39m     url \u001b[38;5;28;01mif\u001b[39;00m \u001b[38;5;28mself\u001b[39m.get_param(\u001b[33m'\u001b[39m\u001b[33mverbose\u001b[39m\u001b[33m'\u001b[39m) \u001b[38;5;28;01melse\u001b[39;00m truncate_string(url, \u001b[32m100\u001b[39m, \u001b[32m20\u001b[39m)))\n\u001b[32m--> \u001b[39m\u001b[32m748\u001b[39m ie_result = \u001b[38;5;28;43mself\u001b[39;49m\u001b[43m.\u001b[49m\u001b[43m_real_extract\u001b[49m\u001b[43m(\u001b[49m\u001b[43murl\u001b[49m\u001b[43m)\u001b[49m\n\u001b[32m    749\u001b[39m \u001b[38;5;28;01mif\u001b[39;00m ie_result \u001b[38;5;129;01mis\u001b[39;00m \u001b[38;5;28;01mNone\u001b[39;00m:\n\u001b[32m    750\u001b[39m     \u001b[38;5;28;01mreturn\u001b[39;00m \u001b[38;5;28;01mNone\u001b[39;00m\n",
      "\u001b[36mFile \u001b[39m\u001b[32m~/.local/share/virtualenvs/slip-ml-bXUTykFe/lib/python3.11/site-packages/yt_dlp/extractor/youtube/_video.py:3749\u001b[39m, in \u001b[36mYoutubeIE._real_extract\u001b[39m\u001b[34m(self, url)\u001b[39m\n\u001b[32m   3726\u001b[39m formats.extend(\u001b[38;5;28mself\u001b[39m._extract_storyboard(player_responses, duration))\n\u001b[32m   3728\u001b[39m channel_handle = \u001b[38;5;28mself\u001b[39m.handle_from_url(owner_profile_url)\n\u001b[32m   3730\u001b[39m info = {\n\u001b[32m   3731\u001b[39m     \u001b[33m'\u001b[39m\u001b[33mid\u001b[39m\u001b[33m'\u001b[39m: video_id,\n\u001b[32m   3732\u001b[39m     \u001b[33m'\u001b[39m\u001b[33mtitle\u001b[39m\u001b[33m'\u001b[39m: video_title,\n\u001b[32m   3733\u001b[39m     \u001b[33m'\u001b[39m\u001b[33mformats\u001b[39m\u001b[33m'\u001b[39m: formats,\n\u001b[32m   3734\u001b[39m     \u001b[33m'\u001b[39m\u001b[33mthumbnails\u001b[39m\u001b[33m'\u001b[39m: thumbnails,\n\u001b[32m   3735\u001b[39m     \u001b[38;5;66;03m# The best thumbnail that we are sure exists. Prevents unnecessary\u001b[39;00m\n\u001b[32m   3736\u001b[39m     \u001b[38;5;66;03m# URL checking if user don't care about getting the best possible thumbnail\u001b[39;00m\n\u001b[32m   3737\u001b[39m     \u001b[33m'\u001b[39m\u001b[33mthumbnail\u001b[39m\u001b[33m'\u001b[39m: traverse_obj(original_thumbnails, (-\u001b[32m1\u001b[39m, \u001b[33m'\u001b[39m\u001b[33murl\u001b[39m\u001b[33m'\u001b[39m)),\n\u001b[32m   3738\u001b[39m     \u001b[33m'\u001b[39m\u001b[33mdescription\u001b[39m\u001b[33m'\u001b[39m: video_description,\n\u001b[32m   3739\u001b[39m     \u001b[33m'\u001b[39m\u001b[33mchannel_id\u001b[39m\u001b[33m'\u001b[39m: channel_id,\n\u001b[32m   3740\u001b[39m     \u001b[33m'\u001b[39m\u001b[33mchannel_url\u001b[39m\u001b[33m'\u001b[39m: format_field(channel_id, \u001b[38;5;28;01mNone\u001b[39;00m, \u001b[33m'\u001b[39m\u001b[33mhttps://www.youtube.com/channel/\u001b[39m\u001b[38;5;132;01m%s\u001b[39;00m\u001b[33m'\u001b[39m, default=\u001b[38;5;28;01mNone\u001b[39;00m),\n\u001b[32m   3741\u001b[39m     \u001b[33m'\u001b[39m\u001b[33mduration\u001b[39m\u001b[33m'\u001b[39m: duration,\n\u001b[32m   3742\u001b[39m     \u001b[33m'\u001b[39m\u001b[33mview_count\u001b[39m\u001b[33m'\u001b[39m: int_or_none(\n\u001b[32m   3743\u001b[39m         get_first((video_details, microformats), (..., \u001b[33m'\u001b[39m\u001b[33mviewCount\u001b[39m\u001b[33m'\u001b[39m))\n\u001b[32m   3744\u001b[39m         \u001b[38;5;129;01mor\u001b[39;00m search_meta(\u001b[33m'\u001b[39m\u001b[33minteractionCount\u001b[39m\u001b[33m'\u001b[39m)),\n\u001b[32m   3745\u001b[39m     \u001b[33m'\u001b[39m\u001b[33maverage_rating\u001b[39m\u001b[33m'\u001b[39m: float_or_none(get_first(video_details, \u001b[33m'\u001b[39m\u001b[33maverageRating\u001b[39m\u001b[33m'\u001b[39m)),\n\u001b[32m   3746\u001b[39m     \u001b[33m'\u001b[39m\u001b[33mage_limit\u001b[39m\u001b[33m'\u001b[39m: \u001b[32m18\u001b[39m \u001b[38;5;28;01mif\u001b[39;00m (\n\u001b[32m   3747\u001b[39m         get_first(microformats, \u001b[33m'\u001b[39m\u001b[33misFamilySafe\u001b[39m\u001b[33m'\u001b[39m) \u001b[38;5;129;01mis\u001b[39;00m \u001b[38;5;28;01mFalse\u001b[39;00m\n\u001b[32m   3748\u001b[39m         \u001b[38;5;129;01mor\u001b[39;00m search_meta(\u001b[33m'\u001b[39m\u001b[33misFamilyFriendly\u001b[39m\u001b[33m'\u001b[39m) == \u001b[33m'\u001b[39m\u001b[33mfalse\u001b[39m\u001b[33m'\u001b[39m\n\u001b[32m-> \u001b[39m\u001b[32m3749\u001b[39m         \u001b[38;5;129;01mor\u001b[39;00m \u001b[43msearch_meta\u001b[49m\u001b[43m(\u001b[49m\u001b[33;43m'\u001b[39;49m\u001b[33;43mog:restrictions:age\u001b[39;49m\u001b[33;43m'\u001b[39;49m\u001b[43m)\u001b[49m == \u001b[33m'\u001b[39m\u001b[33m18+\u001b[39m\u001b[33m'\u001b[39m) \u001b[38;5;28;01melse\u001b[39;00m \u001b[32m0\u001b[39m,\n\u001b[32m   3750\u001b[39m     \u001b[33m'\u001b[39m\u001b[33mwebpage_url\u001b[39m\u001b[33m'\u001b[39m: webpage_url,\n\u001b[32m   3751\u001b[39m     \u001b[33m'\u001b[39m\u001b[33mcategories\u001b[39m\u001b[33m'\u001b[39m: [category] \u001b[38;5;28;01mif\u001b[39;00m category \u001b[38;5;28;01melse\u001b[39;00m \u001b[38;5;28;01mNone\u001b[39;00m,\n\u001b[32m   3752\u001b[39m     \u001b[33m'\u001b[39m\u001b[33mtags\u001b[39m\u001b[33m'\u001b[39m: keywords,\n\u001b[32m   3753\u001b[39m     \u001b[33m'\u001b[39m\u001b[33mplayable_in_embed\u001b[39m\u001b[33m'\u001b[39m: get_first(playability_statuses, \u001b[33m'\u001b[39m\u001b[33mplayableInEmbed\u001b[39m\u001b[33m'\u001b[39m),\n\u001b[32m   3754\u001b[39m     \u001b[33m'\u001b[39m\u001b[33mlive_status\u001b[39m\u001b[33m'\u001b[39m: live_status,\n\u001b[32m   3755\u001b[39m     \u001b[33m'\u001b[39m\u001b[33mmedia_type\u001b[39m\u001b[33m'\u001b[39m: \u001b[33m'\u001b[39m\u001b[33mlivestream\u001b[39m\u001b[33m'\u001b[39m \u001b[38;5;28;01mif\u001b[39;00m get_first(video_details, \u001b[33m'\u001b[39m\u001b[33misLiveContent\u001b[39m\u001b[33m'\u001b[39m) \u001b[38;5;28;01melse\u001b[39;00m \u001b[38;5;28;01mNone\u001b[39;00m,\n\u001b[32m   3756\u001b[39m     \u001b[33m'\u001b[39m\u001b[33mrelease_timestamp\u001b[39m\u001b[33m'\u001b[39m: live_start_time,\n\u001b[32m   3757\u001b[39m     \u001b[33m'\u001b[39m\u001b[33m_format_sort_fields\u001b[39m\u001b[33m'\u001b[39m: (  \u001b[38;5;66;03m# source_preference is lower for potentially damaged formats\u001b[39;00m\n\u001b[32m   3758\u001b[39m         \u001b[33m'\u001b[39m\u001b[33mquality\u001b[39m\u001b[33m'\u001b[39m, \u001b[33m'\u001b[39m\u001b[33mres\u001b[39m\u001b[33m'\u001b[39m, \u001b[33m'\u001b[39m\u001b[33mfps\u001b[39m\u001b[33m'\u001b[39m, \u001b[33m'\u001b[39m\u001b[33mhdr:12\u001b[39m\u001b[33m'\u001b[39m, \u001b[33m'\u001b[39m\u001b[33msource\u001b[39m\u001b[33m'\u001b[39m, \u001b[33m'\u001b[39m\u001b[33mvcodec\u001b[39m\u001b[33m'\u001b[39m, \u001b[33m'\u001b[39m\u001b[33mchannels\u001b[39m\u001b[33m'\u001b[39m, \u001b[33m'\u001b[39m\u001b[33macodec\u001b[39m\u001b[33m'\u001b[39m, \u001b[33m'\u001b[39m\u001b[33mlang\u001b[39m\u001b[33m'\u001b[39m, \u001b[33m'\u001b[39m\u001b[33mproto\u001b[39m\u001b[33m'\u001b[39m),\n\u001b[32m   3759\u001b[39m }\n\u001b[32m   3761\u001b[39m subtitles = {}\n\u001b[32m   3762\u001b[39m pctr = traverse_obj(player_responses, (..., \u001b[33m'\u001b[39m\u001b[33mcaptions\u001b[39m\u001b[33m'\u001b[39m, \u001b[33m'\u001b[39m\u001b[33mplayerCaptionsTracklistRenderer\u001b[39m\u001b[33m'\u001b[39m), expected_type=\u001b[38;5;28mdict\u001b[39m)\n",
      "\u001b[36mFile \u001b[39m\u001b[32m~/.local/share/virtualenvs/slip-ml-bXUTykFe/lib/python3.11/site-packages/yt_dlp/extractor/youtube/_video.py:3556\u001b[39m, in \u001b[36mYoutubeIE._real_extract.<locals>.<lambda>\u001b[39m\u001b[34m(x)\u001b[39m\n\u001b[32m   3552\u001b[39m \u001b[38;5;28;01mif\u001b[39;00m trailer_video_id:\n\u001b[32m   3553\u001b[39m     \u001b[38;5;28;01mreturn\u001b[39;00m \u001b[38;5;28mself\u001b[39m.url_result(\n\u001b[32m   3554\u001b[39m         trailer_video_id, \u001b[38;5;28mself\u001b[39m.ie_key(), trailer_video_id)\n\u001b[32m-> \u001b[39m\u001b[32m3556\u001b[39m search_meta = ((\u001b[38;5;28;01mlambda\u001b[39;00m x: \u001b[38;5;28;43mself\u001b[39;49m\u001b[43m.\u001b[49m\u001b[43m_html_search_meta\u001b[49m\u001b[43m(\u001b[49m\u001b[43mx\u001b[49m\u001b[43m,\u001b[49m\u001b[43m \u001b[49m\u001b[43mwebpage\u001b[49m\u001b[43m,\u001b[49m\u001b[43m \u001b[49m\u001b[43mdefault\u001b[49m\u001b[43m=\u001b[49m\u001b[38;5;28;43;01mNone\u001b[39;49;00m\u001b[43m)\u001b[49m)\n\u001b[32m   3557\u001b[39m                \u001b[38;5;28;01mif\u001b[39;00m webpage \u001b[38;5;28;01melse\u001b[39;00m (\u001b[38;5;28;01mlambda\u001b[39;00m x: \u001b[38;5;28;01mNone\u001b[39;00m))\n\u001b[32m   3559\u001b[39m video_details = traverse_obj(player_responses, (..., \u001b[33m'\u001b[39m\u001b[33mvideoDetails\u001b[39m\u001b[33m'\u001b[39m), expected_type=\u001b[38;5;28mdict\u001b[39m)\n\u001b[32m   3560\u001b[39m microformats = traverse_obj(\n\u001b[32m   3561\u001b[39m     player_responses, (..., \u001b[33m'\u001b[39m\u001b[33mmicroformat\u001b[39m\u001b[33m'\u001b[39m, \u001b[33m'\u001b[39m\u001b[33mplayerMicroformatRenderer\u001b[39m\u001b[33m'\u001b[39m),\n\u001b[32m   3562\u001b[39m     expected_type=\u001b[38;5;28mdict\u001b[39m)\n",
      "\u001b[36mFile \u001b[39m\u001b[32m~/.local/share/virtualenvs/slip-ml-bXUTykFe/lib/python3.11/site-packages/yt_dlp/extractor/common.py:1504\u001b[39m, in \u001b[36mInfoExtractor._html_search_meta\u001b[39m\u001b[34m(self, name, html, display_name, fatal, **kwargs)\u001b[39m\n\u001b[32m   1502\u001b[39m \u001b[38;5;28;01mif\u001b[39;00m display_name \u001b[38;5;129;01mis\u001b[39;00m \u001b[38;5;28;01mNone\u001b[39;00m:\n\u001b[32m   1503\u001b[39m     display_name = name[\u001b[32m0\u001b[39m]\n\u001b[32m-> \u001b[39m\u001b[32m1504\u001b[39m \u001b[38;5;28;01mreturn\u001b[39;00m \u001b[38;5;28;43mself\u001b[39;49m\u001b[43m.\u001b[49m\u001b[43m_html_search_regex\u001b[49m\u001b[43m(\u001b[49m\n\u001b[32m   1505\u001b[39m \u001b[43m    \u001b[49m\u001b[43m[\u001b[49m\u001b[38;5;28;43mself\u001b[39;49m\u001b[43m.\u001b[49m\u001b[43m_meta_regex\u001b[49m\u001b[43m(\u001b[49m\u001b[43mn\u001b[49m\u001b[43m)\u001b[49m\u001b[43m \u001b[49m\u001b[38;5;28;43;01mfor\u001b[39;49;00m\u001b[43m \u001b[49m\u001b[43mn\u001b[49m\u001b[43m \u001b[49m\u001b[38;5;129;43;01min\u001b[39;49;00m\u001b[43m \u001b[49m\u001b[43mname\u001b[49m\u001b[43m]\u001b[49m\u001b[43m,\u001b[49m\n\u001b[32m   1506\u001b[39m \u001b[43m    \u001b[49m\u001b[43mhtml\u001b[49m\u001b[43m,\u001b[49m\u001b[43m \u001b[49m\u001b[43mdisplay_name\u001b[49m\u001b[43m,\u001b[49m\u001b[43m \u001b[49m\u001b[43mfatal\u001b[49m\u001b[43m=\u001b[49m\u001b[43mfatal\u001b[49m\u001b[43m,\u001b[49m\u001b[43m \u001b[49m\u001b[43mgroup\u001b[49m\u001b[43m=\u001b[49m\u001b[33;43m'\u001b[39;49m\u001b[33;43mcontent\u001b[39;49m\u001b[33;43m'\u001b[39;49m\u001b[43m,\u001b[49m\u001b[43m \u001b[49m\u001b[43m*\u001b[49m\u001b[43m*\u001b[49m\u001b[43mkwargs\u001b[49m\u001b[43m)\u001b[49m\n",
      "\u001b[36mFile \u001b[39m\u001b[32m~/.local/share/virtualenvs/slip-ml-bXUTykFe/lib/python3.11/site-packages/yt_dlp/extractor/common.py:1375\u001b[39m, in \u001b[36mInfoExtractor._html_search_regex\u001b[39m\u001b[34m(self, pattern, string, name, default, fatal, flags, group)\u001b[39m\n\u001b[32m   1371\u001b[39m \u001b[38;5;28;01mdef\u001b[39;00m\u001b[38;5;250m \u001b[39m\u001b[34m_html_search_regex\u001b[39m(\u001b[38;5;28mself\u001b[39m, pattern, string, name, default=NO_DEFAULT, fatal=\u001b[38;5;28;01mTrue\u001b[39;00m, flags=\u001b[32m0\u001b[39m, group=\u001b[38;5;28;01mNone\u001b[39;00m):\n\u001b[32m   1372\u001b[39m \u001b[38;5;250m    \u001b[39m\u001b[33;03m\"\"\"\u001b[39;00m\n\u001b[32m   1373\u001b[39m \u001b[33;03m    Like _search_regex, but strips HTML tags and unescapes entities.\u001b[39;00m\n\u001b[32m   1374\u001b[39m \u001b[33;03m    \"\"\"\u001b[39;00m\n\u001b[32m-> \u001b[39m\u001b[32m1375\u001b[39m     res = \u001b[38;5;28;43mself\u001b[39;49m\u001b[43m.\u001b[49m\u001b[43m_search_regex\u001b[49m\u001b[43m(\u001b[49m\u001b[43mpattern\u001b[49m\u001b[43m,\u001b[49m\u001b[43m \u001b[49m\u001b[43mstring\u001b[49m\u001b[43m,\u001b[49m\u001b[43m \u001b[49m\u001b[43mname\u001b[49m\u001b[43m,\u001b[49m\u001b[43m \u001b[49m\u001b[43mdefault\u001b[49m\u001b[43m,\u001b[49m\u001b[43m \u001b[49m\u001b[43mfatal\u001b[49m\u001b[43m,\u001b[49m\u001b[43m \u001b[49m\u001b[43mflags\u001b[49m\u001b[43m,\u001b[49m\u001b[43m \u001b[49m\u001b[43mgroup\u001b[49m\u001b[43m)\u001b[49m\n\u001b[32m   1376\u001b[39m     \u001b[38;5;28;01mif\u001b[39;00m \u001b[38;5;28misinstance\u001b[39m(res, \u001b[38;5;28mtuple\u001b[39m):\n\u001b[32m   1377\u001b[39m         \u001b[38;5;28;01mreturn\u001b[39;00m \u001b[38;5;28mtuple\u001b[39m(\u001b[38;5;28mmap\u001b[39m(clean_html, res))\n",
      "\u001b[36mFile \u001b[39m\u001b[32m~/.local/share/virtualenvs/slip-ml-bXUTykFe/lib/python3.11/site-packages/yt_dlp/extractor/common.py:1322\u001b[39m, in \u001b[36mInfoExtractor._search_regex\u001b[39m\u001b[34m(self, pattern, string, name, default, fatal, flags, group)\u001b[39m\n\u001b[32m   1320\u001b[39m \u001b[38;5;28;01melse\u001b[39;00m:\n\u001b[32m   1321\u001b[39m     \u001b[38;5;28;01mfor\u001b[39;00m p \u001b[38;5;129;01min\u001b[39;00m pattern:\n\u001b[32m-> \u001b[39m\u001b[32m1322\u001b[39m         mobj = \u001b[43mre\u001b[49m\u001b[43m.\u001b[49m\u001b[43msearch\u001b[49m\u001b[43m(\u001b[49m\u001b[43mp\u001b[49m\u001b[43m,\u001b[49m\u001b[43m \u001b[49m\u001b[43mstring\u001b[49m\u001b[43m,\u001b[49m\u001b[43m \u001b[49m\u001b[43mflags\u001b[49m\u001b[43m)\u001b[49m\n\u001b[32m   1323\u001b[39m         \u001b[38;5;28;01mif\u001b[39;00m mobj:\n\u001b[32m   1324\u001b[39m             \u001b[38;5;28;01mbreak\u001b[39;00m\n",
      "\u001b[36mFile \u001b[39m\u001b[32m/Library/Frameworks/Python.framework/Versions/3.11/lib/python3.11/re/__init__.py:176\u001b[39m, in \u001b[36msearch\u001b[39m\u001b[34m(pattern, string, flags)\u001b[39m\n\u001b[32m    173\u001b[39m \u001b[38;5;28;01mdef\u001b[39;00m\u001b[38;5;250m \u001b[39m\u001b[34msearch\u001b[39m(pattern, string, flags=\u001b[32m0\u001b[39m):\n\u001b[32m    174\u001b[39m \u001b[38;5;250m    \u001b[39m\u001b[33;03m\"\"\"Scan through string looking for a match to the pattern, returning\u001b[39;00m\n\u001b[32m    175\u001b[39m \u001b[33;03m    a Match object, or None if no match was found.\"\"\"\u001b[39;00m\n\u001b[32m--> \u001b[39m\u001b[32m176\u001b[39m     \u001b[38;5;28;01mreturn\u001b[39;00m \u001b[43m_compile\u001b[49m\u001b[43m(\u001b[49m\u001b[43mpattern\u001b[49m\u001b[43m,\u001b[49m\u001b[43m \u001b[49m\u001b[43mflags\u001b[49m\u001b[43m)\u001b[49m\u001b[43m.\u001b[49m\u001b[43msearch\u001b[49m\u001b[43m(\u001b[49m\u001b[43mstring\u001b[49m\u001b[43m)\u001b[49m\n",
      "\u001b[31mKeyboardInterrupt\u001b[39m: "
     ]
    }
   ],
   "source": [
    "for i, url in enumerate(all_video_urls[last_video_num:], start=last_video_num+1):\n",
    "    print(f\"*******************************************************Processing video {i} of {len(all_video_urls)}********************************************************\")\n",
    "    try:\n",
    "        video_name = download_youtube_video_yt_dlp(url)\n",
    "        video_chunks = clip_video_into_chunks(video_name)\n",
    "        for chunk in video_chunks:\n",
    "            audio_path, video_path = split_audio_video(chunk)\n",
    "            audio_to_text(audio_path)\n",
    "            os.remove(f\"{os.getcwd()}/{video_path}\")\n",
    "    except Exception as e:\n",
    "        print(f\"An error occurred: {e}\")\n",
    "        continue"
   ]
  },
  {
   "cell_type": "code",
   "execution_count": null,
   "id": "290c4967",
   "metadata": {},
   "outputs": [
    {
     "name": "stdout",
     "output_type": "stream",
     "text": [
      "Total duration: 5.056111111111111 hours\n"
     ]
    }
   ],
   "source": [
    "print(f\"Total duration: {total_duration/60/60} hours\")"
   ]
  },
  {
   "cell_type": "code",
   "execution_count": null,
   "id": "b6a535e3",
   "metadata": {},
   "outputs": [],
   "source": []
  }
 ],
 "metadata": {
  "kernelspec": {
   "display_name": "slip-ml-bXUTykFe",
   "language": "python",
   "name": "python3"
  },
  "language_info": {
   "codemirror_mode": {
    "name": "ipython",
    "version": 3
   },
   "file_extension": ".py",
   "mimetype": "text/x-python",
   "name": "python",
   "nbconvert_exporter": "python",
   "pygments_lexer": "ipython3",
   "version": "3.11.7"
  }
 },
 "nbformat": 4,
 "nbformat_minor": 5
}
