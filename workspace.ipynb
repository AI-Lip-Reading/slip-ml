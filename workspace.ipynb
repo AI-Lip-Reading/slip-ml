{
 "cells": [
  {
   "cell_type": "code",
   "execution_count": 53,
   "id": "4ee97b69",
   "metadata": {},
   "outputs": [],
   "source": [
    "import yt_dlp\n",
    "import os\n",
    "from moviepy.video.io.VideoFileClip import VideoFileClip\n",
    "import torch\n",
    "from transformers import AutoModelForSpeechSeq2Seq, AutoProcessor, pipeline\n",
    "import json"
   ]
  },
  {
   "cell_type": "code",
   "execution_count": 54,
   "id": "d26b4778",
   "metadata": {},
   "outputs": [
    {
     "name": "stdout",
     "output_type": "stream",
     "text": [
      "Using mps device\n"
     ]
    }
   ],
   "source": [
    "device = torch.device(\n",
    "    \"cuda\"\n",
    "    if torch.cuda.is_available()\n",
    "    else \"mps\"\n",
    "    if torch.backends.mps.is_available()\n",
    "    else \"cpu\"\n",
    ")\n",
    "print(f\"Using {device} device\")"
   ]
  },
  {
   "cell_type": "code",
   "execution_count": 55,
   "id": "32fa846f",
   "metadata": {},
   "outputs": [
    {
     "name": "stdout",
     "output_type": "stream",
     "text": [
      "Using torch.float32 dtype\n"
     ]
    }
   ],
   "source": [
    "torch_dtype = torch.float16 if torch.cuda.is_available() else torch.float32\n",
    "print(f\"Using {torch_dtype} dtype\")"
   ]
  },
  {
   "cell_type": "code",
   "execution_count": 56,
   "id": "2db5472c",
   "metadata": {},
   "outputs": [],
   "source": [
    "model_id = \"openai/whisper-large-v3-turbo\"\n",
    "model = AutoModelForSpeechSeq2Seq.from_pretrained(model_id, torch_dtype=torch_dtype, low_cpu_mem_usage=True, use_safetensors=True)\n",
    "model.to(device)\n",
    "processor = AutoProcessor.from_pretrained(model_id)"
   ]
  },
  {
   "cell_type": "code",
   "execution_count": 57,
   "id": "b3e67953",
   "metadata": {},
   "outputs": [
    {
     "name": "stderr",
     "output_type": "stream",
     "text": [
      "Device set to use mps\n"
     ]
    }
   ],
   "source": [
    "pipe = pipeline(\n",
    "    \"automatic-speech-recognition\",\n",
    "    model=model,\n",
    "    tokenizer=processor.tokenizer,\n",
    "    feature_extractor=processor.feature_extractor,\n",
    "    torch_dtype=torch_dtype,\n",
    "    device=device,\n",
    ")"
   ]
  },
  {
   "cell_type": "code",
   "execution_count": 58,
   "id": "58289a05",
   "metadata": {},
   "outputs": [],
   "source": [
    "def download_youtube_video_yt_dlp(url):\n",
    "    # extract video ID from the URL\n",
    "    video_id = url.split(\"v=\")[-1]\n",
    "    if \"&\" in video_id:\n",
    "        video_id = video_id.split(\"&\")[0]\n",
    "\n",
    "    ydl_opts = {\n",
    "        \"outtmpl\": f\"{video_id}.%(ext)s\",  # Output path and filename\n",
    "        \"format\": \"best\",  # Select the best single file (video + audio)\n",
    "        \"merge_output_format\": None,  # Avoid merging, stick to single stream\n",
    "    }\n",
    "    try:\n",
    "        with yt_dlp.YoutubeDL(ydl_opts) as ydl:\n",
    "            ydl.download([url])\n",
    "        print(\"Download completed successfully!\")\n",
    "        return video_id\n",
    "    except Exception as e:\n",
    "        print(f\"An error occurred: {e}\")"
   ]
  },
  {
   "cell_type": "code",
   "execution_count": 59,
   "id": "1ef14e87",
   "metadata": {},
   "outputs": [],
   "source": [
    "def get_video_chunk_names(path):\n",
    "    # extract video ID from the filename\n",
    "    video_id = path.split('__')[0]\n",
    "    chunk_name = path.split('__')[2].split('.')[0]\n",
    "    return video_id, chunk_name"
   ]
  },
  {
   "cell_type": "code",
   "execution_count": 60,
   "id": "496cace7",
   "metadata": {},
   "outputs": [],
   "source": [
    "def split_audio_video(video_file):\n",
    "    try:\n",
    "        # extract video ID from the filename\n",
    "        video_id, chunk_name = get_video_chunk_names(video_file)\n",
    "        print(f\"Video ID: {video_id}, Chunk Name: {chunk_name}\")\n",
    "\n",
    "        # import video\n",
    "        video_chunk = VideoFileClip(video_file)\n",
    "\n",
    "        # Split audio and video\n",
    "        audio_path = os.path.join(f\"{video_id}__audio__{chunk_name}.mp3\")\n",
    "        video_path = os.path.join(f\"{video_id}__video__{chunk_name}.mp4\")\n",
    "        print(f\"Audio path: {audio_path}, Video path: {video_path}\")\n",
    "\n",
    "        # Write audio to file\n",
    "        video_chunk.audio.write_audiofile(audio_path)\n",
    "\n",
    "        # Write video to file\n",
    "        video_only = video_chunk.without_audio()\n",
    "        video_only.write_videofile(f\"{os.getcwd()}/data/videos/{video_path}\", codec=\"libx264\", audio_codec=\"aac\")\n",
    "\n",
    "        # Close the video clip\n",
    "        video_chunk.close()\n",
    "        video_only.close()\n",
    "\n",
    "        # delete chunk video file\n",
    "        os.remove(video_file)\n",
    "\n",
    "        print(\"Audio and video split successfully!\")\n",
    "        return audio_path\n",
    "    except Exception as e:\n",
    "        print(f\"An error occurred: {e}\")"
   ]
  },
  {
   "cell_type": "code",
   "execution_count": 61,
   "id": "f14024e6",
   "metadata": {},
   "outputs": [],
   "source": [
    "def clip_video_into_chunks(video_id, chunk_length=10):\n",
    "    input_file = video_id + '.mp4'\n",
    "    try:\n",
    "        video = VideoFileClip(input_file)\n",
    "        duration = int(video.duration)\n",
    "        chunks = []\n",
    "\n",
    "        for start in range(0, duration, chunk_length):\n",
    "            end = min(start + chunk_length, duration)\n",
    "            chunk = video.subclipped(start, end)\n",
    "            chunk_filename = f\"{video_id}__chunk__{start // chunk_length}.mp4\"\n",
    "            chunk.write_videofile(chunk_filename, codec=\"libx264\")\n",
    "            chunks.append(chunk_filename)\n",
    "\n",
    "        video.close()\n",
    "\n",
    "        # detele original video file\n",
    "        os.remove(input_file)\n",
    "\n",
    "        return chunks\n",
    "    except Exception as e:\n",
    "        print(f\"An error occurred while splitting the video: {e}\")\n",
    "        return []"
   ]
  },
  {
   "cell_type": "code",
   "execution_count": 62,
   "id": "28c30946",
   "metadata": {},
   "outputs": [],
   "source": [
    "def audio_to_text(audio_file):\n",
    "    result = pipe(audio_file)\n",
    "    text = result[\"text\"]\n",
    "    # extract video ID from the filename\n",
    "    video_id, chunk_name = get_video_chunk_names(audio_file)\n",
    "    # save text to JSON file\n",
    "    data = {\n",
    "        \"video_id\": video_id,\n",
    "        \"chunk_name\": chunk_name,\n",
    "        \"text\": text\n",
    "    }\n",
    "\n",
    "    # Save the data to a JSON file\n",
    "    json_file = f\"{video_id}__text__{chunk_name}.json\"\n",
    "    with open(f\"{os.getcwd()}/data/labels/{json_file}\", \"w\") as f:\n",
    "        json.dump(data, f, indent=4)\n",
    "\n",
    "    print(f\"Text saved to {json_file}\")\n",
    "\n",
    "    # remove audio file\n",
    "    os.remove(audio_file)"
   ]
  },
  {
   "cell_type": "code",
   "execution_count": 63,
   "id": "0b4d86ba",
   "metadata": {},
   "outputs": [],
   "source": [
    "# get list of YT video urls\n",
    "videos = ['https://www.youtube.com/watch?v=KjB6r-HDDI0']"
   ]
  },
  {
   "cell_type": "code",
   "execution_count": 64,
   "id": "3976ba6c",
   "metadata": {},
   "outputs": [
    {
     "name": "stdout",
     "output_type": "stream",
     "text": [
      "[youtube] Extracting URL: https://www.youtube.com/watch?v=KjB6r-HDDI0\n",
      "[youtube] KjB6r-HDDI0: Downloading webpage\n",
      "[youtube] KjB6r-HDDI0: Downloading tv client config\n",
      "[youtube] KjB6r-HDDI0: Downloading player 22f02d3d-main\n",
      "[youtube] KjB6r-HDDI0: Downloading tv player API JSON\n",
      "[youtube] KjB6r-HDDI0: Downloading ios player API JSON\n",
      "[youtube] KjB6r-HDDI0: Downloading m3u8 information\n",
      "[info] KjB6r-HDDI0: Downloading 1 format(s): 18\n",
      "[download] Destination: KjB6r-HDDI0.mp4\n",
      "[download] 100% of    4.93MiB in 00:00:00 at 29.15MiB/s    \n",
      "Download completed successfully!\n",
      "{'video_found': True, 'audio_found': True, 'metadata': {'major_brand': 'mp42', 'minor_version': '0', 'compatible_brands': 'isommp42', 'encoder': 'Google'}, 'inputs': [{'streams': [{'input_number': 0, 'stream_number': 0, 'stream_type': 'video', 'language': None, 'default': True, 'size': [640, 360], 'bitrate': 316, 'fps': 23.976023976023978, 'codec_name': 'h264', 'profile': '(Main)', 'metadata': {'Metadata': '', 'handler_name': 'ISO Media file produced by Google Inc.', 'vendor_id': '[0][0][0][0]'}}, {'input_number': 0, 'stream_number': 1, 'stream_type': 'audio', 'language': 'eng', 'default': True, 'fps': 44100, 'bitrate': 96, 'metadata': {'Metadata': '', 'handler_name': 'ISO Media file produced by Google Inc.', 'vendor_id': '[0][0][0][0]'}}], 'input_number': 0}], 'duration': 99.68, 'bitrate': 414, 'start': 0.0, 'default_video_input_number': 0, 'default_video_stream_number': 0, 'video_codec_name': 'h264', 'video_profile': '(Main)', 'video_size': [640, 360], 'video_bitrate': 316, 'video_fps': 23.976023976023978, 'default_audio_input_number': 0, 'default_audio_stream_number': 1, 'audio_fps': 44100, 'audio_bitrate': 96, 'video_duration': 99.68, 'video_n_frames': 2389}\n",
      "/Users/emmettstorts/.local/share/virtualenvs/slip-ml-D1sQfDoh/lib/python3.11/site-packages/imageio_ffmpeg/binaries/ffmpeg-macos-aarch64-v7.1 -i KjB6r-HDDI0.mp4 -loglevel error -f image2pipe -vf scale=640:360 -sws_flags bicubic -pix_fmt rgb24 -vcodec rawvideo -\n",
      "MoviePy - Building video KjB6r-HDDI0__chunk__0.mp4.\n",
      "MoviePy - Writing audio in KjB6r-HDDI0__chunk__0TEMP_MPY_wvf_snd.mp3\n"
     ]
    },
    {
     "name": "stderr",
     "output_type": "stream",
     "text": [
      "                                                        \r"
     ]
    },
    {
     "name": "stdout",
     "output_type": "stream",
     "text": [
      "MoviePy - Done.\n",
      "MoviePy - Writing video KjB6r-HDDI0__chunk__0.mp4\n",
      "\n"
     ]
    },
    {
     "name": "stderr",
     "output_type": "stream",
     "text": [
      "                                                                         \r"
     ]
    },
    {
     "name": "stdout",
     "output_type": "stream",
     "text": [
      "MoviePy - Done !\n",
      "MoviePy - video ready KjB6r-HDDI0__chunk__0.mp4\n",
      "MoviePy - Building video KjB6r-HDDI0__chunk__1.mp4.\n",
      "MoviePy - Writing audio in KjB6r-HDDI0__chunk__1TEMP_MPY_wvf_snd.mp3\n"
     ]
    },
    {
     "name": "stderr",
     "output_type": "stream",
     "text": [
      "                                                        \r"
     ]
    },
    {
     "name": "stdout",
     "output_type": "stream",
     "text": [
      "MoviePy - Done.\n",
      "MoviePy - Writing video KjB6r-HDDI0__chunk__1.mp4\n",
      "\n"
     ]
    },
    {
     "name": "stderr",
     "output_type": "stream",
     "text": [
      "                                                                         \r"
     ]
    },
    {
     "name": "stdout",
     "output_type": "stream",
     "text": [
      "MoviePy - Done !\n",
      "MoviePy - video ready KjB6r-HDDI0__chunk__1.mp4\n",
      "MoviePy - Building video KjB6r-HDDI0__chunk__2.mp4.\n",
      "MoviePy - Writing audio in KjB6r-HDDI0__chunk__2TEMP_MPY_wvf_snd.mp3\n"
     ]
    },
    {
     "name": "stderr",
     "output_type": "stream",
     "text": [
      "                                                                    \r"
     ]
    },
    {
     "name": "stdout",
     "output_type": "stream",
     "text": [
      "MoviePy - Done.\n",
      "MoviePy - Writing video KjB6r-HDDI0__chunk__2.mp4\n",
      "\n"
     ]
    },
    {
     "name": "stderr",
     "output_type": "stream",
     "text": [
      "                                                                         \r"
     ]
    },
    {
     "name": "stdout",
     "output_type": "stream",
     "text": [
      "MoviePy - Done !\n",
      "MoviePy - video ready KjB6r-HDDI0__chunk__2.mp4\n",
      "MoviePy - Building video KjB6r-HDDI0__chunk__3.mp4.\n",
      "MoviePy - Writing audio in KjB6r-HDDI0__chunk__3TEMP_MPY_wvf_snd.mp3\n"
     ]
    },
    {
     "name": "stderr",
     "output_type": "stream",
     "text": [
      "                                                        \r"
     ]
    },
    {
     "name": "stdout",
     "output_type": "stream",
     "text": [
      "MoviePy - Done.\n",
      "MoviePy - Writing video KjB6r-HDDI0__chunk__3.mp4\n",
      "\n"
     ]
    },
    {
     "name": "stderr",
     "output_type": "stream",
     "text": [
      "                                                                         \r"
     ]
    },
    {
     "name": "stdout",
     "output_type": "stream",
     "text": [
      "MoviePy - Done !\n",
      "MoviePy - video ready KjB6r-HDDI0__chunk__3.mp4\n",
      "MoviePy - Building video KjB6r-HDDI0__chunk__4.mp4.\n",
      "MoviePy - Writing audio in KjB6r-HDDI0__chunk__4TEMP_MPY_wvf_snd.mp3\n"
     ]
    },
    {
     "name": "stderr",
     "output_type": "stream",
     "text": [
      "                                                        \r"
     ]
    },
    {
     "name": "stdout",
     "output_type": "stream",
     "text": [
      "MoviePy - Done.\n",
      "MoviePy - Writing video KjB6r-HDDI0__chunk__4.mp4\n",
      "\n"
     ]
    },
    {
     "name": "stderr",
     "output_type": "stream",
     "text": [
      "                                                                         \r"
     ]
    },
    {
     "name": "stdout",
     "output_type": "stream",
     "text": [
      "MoviePy - Done !\n",
      "MoviePy - video ready KjB6r-HDDI0__chunk__4.mp4\n",
      "MoviePy - Building video KjB6r-HDDI0__chunk__5.mp4.\n",
      "MoviePy - Writing audio in KjB6r-HDDI0__chunk__5TEMP_MPY_wvf_snd.mp3\n"
     ]
    },
    {
     "name": "stderr",
     "output_type": "stream",
     "text": [
      "                                                                    \r"
     ]
    },
    {
     "name": "stdout",
     "output_type": "stream",
     "text": [
      "MoviePy - Done.\n",
      "MoviePy - Writing video KjB6r-HDDI0__chunk__5.mp4\n",
      "\n"
     ]
    },
    {
     "name": "stderr",
     "output_type": "stream",
     "text": [
      "                                                                         \r"
     ]
    },
    {
     "name": "stdout",
     "output_type": "stream",
     "text": [
      "MoviePy - Done !\n",
      "MoviePy - video ready KjB6r-HDDI0__chunk__5.mp4\n",
      "MoviePy - Building video KjB6r-HDDI0__chunk__6.mp4.\n",
      "MoviePy - Writing audio in KjB6r-HDDI0__chunk__6TEMP_MPY_wvf_snd.mp3\n"
     ]
    },
    {
     "name": "stderr",
     "output_type": "stream",
     "text": [
      "                                                                    \r"
     ]
    },
    {
     "name": "stdout",
     "output_type": "stream",
     "text": [
      "MoviePy - Done.\n",
      "MoviePy - Writing video KjB6r-HDDI0__chunk__6.mp4\n",
      "\n"
     ]
    },
    {
     "name": "stderr",
     "output_type": "stream",
     "text": [
      "                                                                         \r"
     ]
    },
    {
     "name": "stdout",
     "output_type": "stream",
     "text": [
      "MoviePy - Done !\n",
      "MoviePy - video ready KjB6r-HDDI0__chunk__6.mp4\n",
      "MoviePy - Building video KjB6r-HDDI0__chunk__7.mp4.\n",
      "MoviePy - Writing audio in KjB6r-HDDI0__chunk__7TEMP_MPY_wvf_snd.mp3\n"
     ]
    },
    {
     "name": "stderr",
     "output_type": "stream",
     "text": [
      "                                                        \r"
     ]
    },
    {
     "name": "stdout",
     "output_type": "stream",
     "text": [
      "MoviePy - Done.\n",
      "MoviePy - Writing video KjB6r-HDDI0__chunk__7.mp4\n",
      "\n"
     ]
    },
    {
     "name": "stderr",
     "output_type": "stream",
     "text": [
      "                                                                         \r"
     ]
    },
    {
     "name": "stdout",
     "output_type": "stream",
     "text": [
      "MoviePy - Done !\n",
      "MoviePy - video ready KjB6r-HDDI0__chunk__7.mp4\n",
      "MoviePy - Building video KjB6r-HDDI0__chunk__8.mp4.\n",
      "MoviePy - Writing audio in KjB6r-HDDI0__chunk__8TEMP_MPY_wvf_snd.mp3\n"
     ]
    },
    {
     "name": "stderr",
     "output_type": "stream",
     "text": [
      "                                                        \r"
     ]
    },
    {
     "name": "stdout",
     "output_type": "stream",
     "text": [
      "MoviePy - Done.\n",
      "MoviePy - Writing video KjB6r-HDDI0__chunk__8.mp4\n",
      "\n"
     ]
    },
    {
     "name": "stderr",
     "output_type": "stream",
     "text": [
      "                                                                          \r"
     ]
    },
    {
     "name": "stdout",
     "output_type": "stream",
     "text": [
      "MoviePy - Done !\n",
      "MoviePy - video ready KjB6r-HDDI0__chunk__8.mp4\n",
      "MoviePy - Building video KjB6r-HDDI0__chunk__9.mp4.\n",
      "MoviePy - Writing audio in KjB6r-HDDI0__chunk__9TEMP_MPY_wvf_snd.mp3\n"
     ]
    },
    {
     "name": "stderr",
     "output_type": "stream",
     "text": [
      "                                                                    \r"
     ]
    },
    {
     "name": "stdout",
     "output_type": "stream",
     "text": [
      "MoviePy - Done.\n",
      "MoviePy - Writing video KjB6r-HDDI0__chunk__9.mp4\n",
      "\n"
     ]
    },
    {
     "name": "stderr",
     "output_type": "stream",
     "text": [
      "                                                                          \r"
     ]
    },
    {
     "name": "stdout",
     "output_type": "stream",
     "text": [
      "MoviePy - Done !\n",
      "MoviePy - video ready KjB6r-HDDI0__chunk__9.mp4\n",
      "Video ID: KjB6r-HDDI0, Chunk Name: 0\n",
      "{'video_found': True, 'audio_found': True, 'metadata': {'major_brand': 'isom', 'minor_version': '512', 'compatible_brands': 'isomiso2avc1mp41', 'encoder': 'Lavf61.7.100'}, 'inputs': [{'streams': [{'input_number': 0, 'stream_number': 0, 'stream_type': 'video', 'language': None, 'default': True, 'size': [640, 360], 'bitrate': 401, 'fps': 23.976023976023978, 'codec_name': 'h264', 'profile': '(High)', 'metadata': {'Metadata': '', 'handler_name': 'VideoHandler', 'vendor_id': '[0][0][0][0]', 'encoder': 'Lavc61.19.100 libx264'}}, {'input_number': 0, 'stream_number': 1, 'stream_type': 'audio', 'language': None, 'default': True, 'fps': 44100, 'bitrate': 127, 'metadata': {'Metadata': '', 'handler_name': 'SoundHandler', 'vendor_id': '[0][0][0][0]'}}], 'input_number': 0}], 'duration': 10.01, 'bitrate': 536, 'start': 0.0, 'default_video_input_number': 0, 'default_video_stream_number': 0, 'video_codec_name': 'h264', 'video_profile': '(High)', 'video_size': [640, 360], 'video_bitrate': 401, 'video_fps': 23.976023976023978, 'default_audio_input_number': 0, 'default_audio_stream_number': 1, 'audio_fps': 44100, 'audio_bitrate': 127, 'video_duration': 10.01, 'video_n_frames': 240}\n",
      "/Users/emmettstorts/.local/share/virtualenvs/slip-ml-D1sQfDoh/lib/python3.11/site-packages/imageio_ffmpeg/binaries/ffmpeg-macos-aarch64-v7.1 -i KjB6r-HDDI0__chunk__0.mp4 -loglevel error -f image2pipe -vf scale=640:360 -sws_flags bicubic -pix_fmt rgb24 -vcodec rawvideo -\n",
      "Audio path: KjB6r-HDDI0__audio__0.mp3, Video path: KjB6r-HDDI0__video__0.mp4\n",
      "MoviePy - Writing audio in KjB6r-HDDI0__audio__0.mp3\n"
     ]
    },
    {
     "name": "stderr",
     "output_type": "stream",
     "text": [
      "                                                        \r"
     ]
    },
    {
     "name": "stdout",
     "output_type": "stream",
     "text": [
      "MoviePy - Done.\n",
      "MoviePy - Building video /Users/emmettstorts/Documents/slip-ml/data/videos/KjB6r-HDDI0__video__0.mp4.\n",
      "MoviePy - Writing video /Users/emmettstorts/Documents/slip-ml/data/videos/KjB6r-HDDI0__video__0.mp4\n",
      "\n"
     ]
    },
    {
     "name": "stderr",
     "output_type": "stream",
     "text": [
      "frame_index:  92%|█████████▎| 222/240 [00:00<00:00, 642.25it/s, now=None]/Users/emmettstorts/.local/share/virtualenvs/slip-ml-D1sQfDoh/lib/python3.11/site-packages/moviepy/video/io/ffmpeg_reader.py:178: UserWarning: In file KjB6r-HDDI0__chunk__0.mp4, 691200 bytes wanted but 0 bytes read at frame index 239 (out of a total 240 frames), at time 9.97/10.01 sec. Using the last valid frame instead.\n",
      "  warnings.warn(\n",
      "                                                                         \r"
     ]
    },
    {
     "name": "stdout",
     "output_type": "stream",
     "text": [
      "MoviePy - Done !\n",
      "MoviePy - video ready /Users/emmettstorts/Documents/slip-ml/data/videos/KjB6r-HDDI0__video__0.mp4\n",
      "Audio and video split successfully!\n"
     ]
    },
    {
     "name": "stderr",
     "output_type": "stream",
     "text": [
      "/Users/emmettstorts/.local/share/virtualenvs/slip-ml-D1sQfDoh/lib/python3.11/site-packages/transformers/models/whisper/generation_whisper.py:573: FutureWarning: The input name `inputs` is deprecated. Please make sure to use `input_features` instead.\n",
      "  warnings.warn(\n"
     ]
    },
    {
     "name": "stdout",
     "output_type": "stream",
     "text": [
      "Text saved to KjB6r-HDDI0__text__0.json\n",
      "Video ID: KjB6r-HDDI0, Chunk Name: 1\n",
      "{'video_found': True, 'audio_found': True, 'metadata': {'major_brand': 'isom', 'minor_version': '512', 'compatible_brands': 'isomiso2avc1mp41', 'encoder': 'Lavf61.7.100'}, 'inputs': [{'streams': [{'input_number': 0, 'stream_number': 0, 'stream_type': 'video', 'language': None, 'default': True, 'size': [640, 360], 'bitrate': 268, 'fps': 23.976023976023978, 'codec_name': 'h264', 'profile': '(High)', 'metadata': {'Metadata': '', 'handler_name': 'VideoHandler', 'vendor_id': '[0][0][0][0]', 'encoder': 'Lavc61.19.100 libx264'}}, {'input_number': 0, 'stream_number': 1, 'stream_type': 'audio', 'language': None, 'default': True, 'fps': 44100, 'bitrate': 127, 'metadata': {'Metadata': '', 'handler_name': 'SoundHandler', 'vendor_id': '[0][0][0][0]'}}], 'input_number': 0}], 'duration': 10.01, 'bitrate': 404, 'start': 0.0, 'default_video_input_number': 0, 'default_video_stream_number': 0, 'video_codec_name': 'h264', 'video_profile': '(High)', 'video_size': [640, 360], 'video_bitrate': 268, 'video_fps': 23.976023976023978, 'default_audio_input_number': 0, 'default_audio_stream_number': 1, 'audio_fps': 44100, 'audio_bitrate': 127, 'video_duration': 10.01, 'video_n_frames': 240}\n",
      "/Users/emmettstorts/.local/share/virtualenvs/slip-ml-D1sQfDoh/lib/python3.11/site-packages/imageio_ffmpeg/binaries/ffmpeg-macos-aarch64-v7.1 -i KjB6r-HDDI0__chunk__1.mp4 -loglevel error -f image2pipe -vf scale=640:360 -sws_flags bicubic -pix_fmt rgb24 -vcodec rawvideo -\n",
      "Audio path: KjB6r-HDDI0__audio__1.mp3, Video path: KjB6r-HDDI0__video__1.mp4\n",
      "MoviePy - Writing audio in KjB6r-HDDI0__audio__1.mp3\n"
     ]
    },
    {
     "name": "stderr",
     "output_type": "stream",
     "text": [
      "                                                                    \r"
     ]
    },
    {
     "name": "stdout",
     "output_type": "stream",
     "text": [
      "MoviePy - Done.\n",
      "MoviePy - Building video /Users/emmettstorts/Documents/slip-ml/data/videos/KjB6r-HDDI0__video__1.mp4.\n",
      "MoviePy - Writing video /Users/emmettstorts/Documents/slip-ml/data/videos/KjB6r-HDDI0__video__1.mp4\n",
      "\n"
     ]
    },
    {
     "name": "stderr",
     "output_type": "stream",
     "text": [
      "frame_index:  72%|███████▏  | 172/240 [00:00<00:00, 764.38it/s, now=None]/Users/emmettstorts/.local/share/virtualenvs/slip-ml-D1sQfDoh/lib/python3.11/site-packages/moviepy/video/io/ffmpeg_reader.py:178: UserWarning: In file KjB6r-HDDI0__chunk__1.mp4, 691200 bytes wanted but 0 bytes read at frame index 239 (out of a total 240 frames), at time 9.97/10.01 sec. Using the last valid frame instead.\n",
      "  warnings.warn(\n",
      "/Users/emmettstorts/.local/share/virtualenvs/slip-ml-D1sQfDoh/lib/python3.11/site-packages/transformers/models/whisper/generation_whisper.py:573: FutureWarning: The input name `inputs` is deprecated. Please make sure to use `input_features` instead.\n",
      "  warnings.warn(\n"
     ]
    },
    {
     "name": "stdout",
     "output_type": "stream",
     "text": [
      "MoviePy - Done !\n",
      "MoviePy - video ready /Users/emmettstorts/Documents/slip-ml/data/videos/KjB6r-HDDI0__video__1.mp4\n",
      "Audio and video split successfully!\n",
      "Text saved to KjB6r-HDDI0__text__1.json\n",
      "Video ID: KjB6r-HDDI0, Chunk Name: 2\n",
      "{'video_found': True, 'audio_found': True, 'metadata': {'major_brand': 'isom', 'minor_version': '512', 'compatible_brands': 'isomiso2avc1mp41', 'encoder': 'Lavf61.7.100'}, 'inputs': [{'streams': [{'input_number': 0, 'stream_number': 0, 'stream_type': 'video', 'language': None, 'default': True, 'size': [640, 360], 'bitrate': 369, 'fps': 23.976023976023978, 'codec_name': 'h264', 'profile': '(High)', 'metadata': {'Metadata': '', 'handler_name': 'VideoHandler', 'vendor_id': '[0][0][0][0]', 'encoder': 'Lavc61.19.100 libx264'}}, {'input_number': 0, 'stream_number': 1, 'stream_type': 'audio', 'language': None, 'default': True, 'fps': 44100, 'bitrate': 127, 'metadata': {'Metadata': '', 'handler_name': 'SoundHandler', 'vendor_id': '[0][0][0][0]'}}], 'input_number': 0}], 'duration': 10.01, 'bitrate': 504, 'start': 0.0, 'default_video_input_number': 0, 'default_video_stream_number': 0, 'video_codec_name': 'h264', 'video_profile': '(High)', 'video_size': [640, 360], 'video_bitrate': 369, 'video_fps': 23.976023976023978, 'default_audio_input_number': 0, 'default_audio_stream_number': 1, 'audio_fps': 44100, 'audio_bitrate': 127, 'video_duration': 10.01, 'video_n_frames': 240}\n",
      "/Users/emmettstorts/.local/share/virtualenvs/slip-ml-D1sQfDoh/lib/python3.11/site-packages/imageio_ffmpeg/binaries/ffmpeg-macos-aarch64-v7.1 -i KjB6r-HDDI0__chunk__2.mp4 -loglevel error -f image2pipe -vf scale=640:360 -sws_flags bicubic -pix_fmt rgb24 -vcodec rawvideo -\n",
      "Audio path: KjB6r-HDDI0__audio__2.mp3, Video path: KjB6r-HDDI0__video__2.mp4\n",
      "MoviePy - Writing audio in KjB6r-HDDI0__audio__2.mp3\n"
     ]
    },
    {
     "name": "stderr",
     "output_type": "stream",
     "text": [
      "                                                                    \r"
     ]
    },
    {
     "name": "stdout",
     "output_type": "stream",
     "text": [
      "MoviePy - Done.\n",
      "MoviePy - Building video /Users/emmettstorts/Documents/slip-ml/data/videos/KjB6r-HDDI0__video__2.mp4.\n",
      "MoviePy - Writing video /Users/emmettstorts/Documents/slip-ml/data/videos/KjB6r-HDDI0__video__2.mp4\n",
      "\n"
     ]
    },
    {
     "name": "stderr",
     "output_type": "stream",
     "text": [
      "frame_index:  69%|██████▉   | 166/240 [00:00<00:00, 747.90it/s, now=None]/Users/emmettstorts/.local/share/virtualenvs/slip-ml-D1sQfDoh/lib/python3.11/site-packages/moviepy/video/io/ffmpeg_reader.py:178: UserWarning: In file KjB6r-HDDI0__chunk__2.mp4, 691200 bytes wanted but 0 bytes read at frame index 239 (out of a total 240 frames), at time 9.97/10.01 sec. Using the last valid frame instead.\n",
      "  warnings.warn(\n",
      "/Users/emmettstorts/.local/share/virtualenvs/slip-ml-D1sQfDoh/lib/python3.11/site-packages/transformers/models/whisper/generation_whisper.py:573: FutureWarning: The input name `inputs` is deprecated. Please make sure to use `input_features` instead.\n",
      "  warnings.warn(\n"
     ]
    },
    {
     "name": "stdout",
     "output_type": "stream",
     "text": [
      "MoviePy - Done !\n",
      "MoviePy - video ready /Users/emmettstorts/Documents/slip-ml/data/videos/KjB6r-HDDI0__video__2.mp4\n",
      "Audio and video split successfully!\n",
      "Text saved to KjB6r-HDDI0__text__2.json\n",
      "Video ID: KjB6r-HDDI0, Chunk Name: 3\n",
      "{'video_found': True, 'audio_found': True, 'metadata': {'major_brand': 'isom', 'minor_version': '512', 'compatible_brands': 'isomiso2avc1mp41', 'encoder': 'Lavf61.7.100'}, 'inputs': [{'streams': [{'input_number': 0, 'stream_number': 0, 'stream_type': 'video', 'language': None, 'default': True, 'size': [640, 360], 'bitrate': 361, 'fps': 23.976023976023978, 'codec_name': 'h264', 'profile': '(High)', 'metadata': {'Metadata': '', 'handler_name': 'VideoHandler', 'vendor_id': '[0][0][0][0]', 'encoder': 'Lavc61.19.100 libx264'}}, {'input_number': 0, 'stream_number': 1, 'stream_type': 'audio', 'language': None, 'default': True, 'fps': 44100, 'bitrate': 127, 'metadata': {'Metadata': '', 'handler_name': 'SoundHandler', 'vendor_id': '[0][0][0][0]'}}], 'input_number': 0}], 'duration': 10.01, 'bitrate': 495, 'start': 0.0, 'default_video_input_number': 0, 'default_video_stream_number': 0, 'video_codec_name': 'h264', 'video_profile': '(High)', 'video_size': [640, 360], 'video_bitrate': 361, 'video_fps': 23.976023976023978, 'default_audio_input_number': 0, 'default_audio_stream_number': 1, 'audio_fps': 44100, 'audio_bitrate': 127, 'video_duration': 10.01, 'video_n_frames': 240}\n",
      "/Users/emmettstorts/.local/share/virtualenvs/slip-ml-D1sQfDoh/lib/python3.11/site-packages/imageio_ffmpeg/binaries/ffmpeg-macos-aarch64-v7.1 -i KjB6r-HDDI0__chunk__3.mp4 -loglevel error -f image2pipe -vf scale=640:360 -sws_flags bicubic -pix_fmt rgb24 -vcodec rawvideo -\n",
      "Audio path: KjB6r-HDDI0__audio__3.mp3, Video path: KjB6r-HDDI0__video__3.mp4\n",
      "MoviePy - Writing audio in KjB6r-HDDI0__audio__3.mp3\n"
     ]
    },
    {
     "name": "stderr",
     "output_type": "stream",
     "text": [
      "                                                                    \r"
     ]
    },
    {
     "name": "stdout",
     "output_type": "stream",
     "text": [
      "MoviePy - Done.\n",
      "MoviePy - Building video /Users/emmettstorts/Documents/slip-ml/data/videos/KjB6r-HDDI0__video__3.mp4.\n",
      "MoviePy - Writing video /Users/emmettstorts/Documents/slip-ml/data/videos/KjB6r-HDDI0__video__3.mp4\n",
      "\n"
     ]
    },
    {
     "name": "stderr",
     "output_type": "stream",
     "text": [
      "frame_index:  97%|█████████▋| 232/240 [00:00<00:00, 721.90it/s, now=None]/Users/emmettstorts/.local/share/virtualenvs/slip-ml-D1sQfDoh/lib/python3.11/site-packages/moviepy/video/io/ffmpeg_reader.py:178: UserWarning: In file KjB6r-HDDI0__chunk__3.mp4, 691200 bytes wanted but 0 bytes read at frame index 239 (out of a total 240 frames), at time 9.97/10.01 sec. Using the last valid frame instead.\n",
      "  warnings.warn(\n",
      "                                                                         \r"
     ]
    },
    {
     "name": "stdout",
     "output_type": "stream",
     "text": [
      "MoviePy - Done !\n",
      "MoviePy - video ready /Users/emmettstorts/Documents/slip-ml/data/videos/KjB6r-HDDI0__video__3.mp4\n",
      "Audio and video split successfully!\n"
     ]
    },
    {
     "name": "stderr",
     "output_type": "stream",
     "text": [
      "/Users/emmettstorts/.local/share/virtualenvs/slip-ml-D1sQfDoh/lib/python3.11/site-packages/transformers/models/whisper/generation_whisper.py:573: FutureWarning: The input name `inputs` is deprecated. Please make sure to use `input_features` instead.\n",
      "  warnings.warn(\n"
     ]
    },
    {
     "name": "stdout",
     "output_type": "stream",
     "text": [
      "Text saved to KjB6r-HDDI0__text__3.json\n",
      "Video ID: KjB6r-HDDI0, Chunk Name: 4\n",
      "{'video_found': True, 'audio_found': True, 'metadata': {'major_brand': 'isom', 'minor_version': '512', 'compatible_brands': 'isomiso2avc1mp41', 'encoder': 'Lavf61.7.100'}, 'inputs': [{'streams': [{'input_number': 0, 'stream_number': 0, 'stream_type': 'video', 'language': None, 'default': True, 'size': [640, 360], 'bitrate': 407, 'fps': 23.976023976023978, 'codec_name': 'h264', 'profile': '(High)', 'metadata': {'Metadata': '', 'handler_name': 'VideoHandler', 'vendor_id': '[0][0][0][0]', 'encoder': 'Lavc61.19.100 libx264'}}, {'input_number': 0, 'stream_number': 1, 'stream_type': 'audio', 'language': None, 'default': True, 'fps': 44100, 'bitrate': 127, 'metadata': {'Metadata': '', 'handler_name': 'SoundHandler', 'vendor_id': '[0][0][0][0]'}}], 'input_number': 0}], 'duration': 10.01, 'bitrate': 541, 'start': 0.0, 'default_video_input_number': 0, 'default_video_stream_number': 0, 'video_codec_name': 'h264', 'video_profile': '(High)', 'video_size': [640, 360], 'video_bitrate': 407, 'video_fps': 23.976023976023978, 'default_audio_input_number': 0, 'default_audio_stream_number': 1, 'audio_fps': 44100, 'audio_bitrate': 127, 'video_duration': 10.01, 'video_n_frames': 240}\n",
      "/Users/emmettstorts/.local/share/virtualenvs/slip-ml-D1sQfDoh/lib/python3.11/site-packages/imageio_ffmpeg/binaries/ffmpeg-macos-aarch64-v7.1 -i KjB6r-HDDI0__chunk__4.mp4 -loglevel error -f image2pipe -vf scale=640:360 -sws_flags bicubic -pix_fmt rgb24 -vcodec rawvideo -\n",
      "Audio path: KjB6r-HDDI0__audio__4.mp3, Video path: KjB6r-HDDI0__video__4.mp4\n",
      "MoviePy - Writing audio in KjB6r-HDDI0__audio__4.mp3\n"
     ]
    },
    {
     "name": "stderr",
     "output_type": "stream",
     "text": [
      "                                                        \r"
     ]
    },
    {
     "name": "stdout",
     "output_type": "stream",
     "text": [
      "MoviePy - Done.\n",
      "MoviePy - Building video /Users/emmettstorts/Documents/slip-ml/data/videos/KjB6r-HDDI0__video__4.mp4.\n",
      "MoviePy - Writing video /Users/emmettstorts/Documents/slip-ml/data/videos/KjB6r-HDDI0__video__4.mp4\n",
      "\n"
     ]
    },
    {
     "name": "stderr",
     "output_type": "stream",
     "text": [
      "frame_index:  98%|█████████▊| 235/240 [00:00<00:00, 667.11it/s, now=None]/Users/emmettstorts/.local/share/virtualenvs/slip-ml-D1sQfDoh/lib/python3.11/site-packages/moviepy/video/io/ffmpeg_reader.py:178: UserWarning: In file KjB6r-HDDI0__chunk__4.mp4, 691200 bytes wanted but 0 bytes read at frame index 239 (out of a total 240 frames), at time 9.97/10.01 sec. Using the last valid frame instead.\n",
      "  warnings.warn(\n",
      "/Users/emmettstorts/.local/share/virtualenvs/slip-ml-D1sQfDoh/lib/python3.11/site-packages/transformers/models/whisper/generation_whisper.py:573: FutureWarning: The input name `inputs` is deprecated. Please make sure to use `input_features` instead.\n",
      "  warnings.warn(\n"
     ]
    },
    {
     "name": "stdout",
     "output_type": "stream",
     "text": [
      "MoviePy - Done !\n",
      "MoviePy - video ready /Users/emmettstorts/Documents/slip-ml/data/videos/KjB6r-HDDI0__video__4.mp4\n",
      "Audio and video split successfully!\n",
      "Text saved to KjB6r-HDDI0__text__4.json\n",
      "Video ID: KjB6r-HDDI0, Chunk Name: 5\n",
      "{'video_found': True, 'audio_found': True, 'metadata': {'major_brand': 'isom', 'minor_version': '512', 'compatible_brands': 'isomiso2avc1mp41', 'encoder': 'Lavf61.7.100'}, 'inputs': [{'streams': [{'input_number': 0, 'stream_number': 0, 'stream_type': 'video', 'language': None, 'default': True, 'size': [640, 360], 'bitrate': 338, 'fps': 23.976023976023978, 'codec_name': 'h264', 'profile': '(High)', 'metadata': {'Metadata': '', 'handler_name': 'VideoHandler', 'vendor_id': '[0][0][0][0]', 'encoder': 'Lavc61.19.100 libx264'}}, {'input_number': 0, 'stream_number': 1, 'stream_type': 'audio', 'language': None, 'default': True, 'fps': 44100, 'bitrate': 127, 'metadata': {'Metadata': '', 'handler_name': 'SoundHandler', 'vendor_id': '[0][0][0][0]'}}], 'input_number': 0}], 'duration': 10.01, 'bitrate': 473, 'start': 0.0, 'default_video_input_number': 0, 'default_video_stream_number': 0, 'video_codec_name': 'h264', 'video_profile': '(High)', 'video_size': [640, 360], 'video_bitrate': 338, 'video_fps': 23.976023976023978, 'default_audio_input_number': 0, 'default_audio_stream_number': 1, 'audio_fps': 44100, 'audio_bitrate': 127, 'video_duration': 10.01, 'video_n_frames': 240}\n",
      "/Users/emmettstorts/.local/share/virtualenvs/slip-ml-D1sQfDoh/lib/python3.11/site-packages/imageio_ffmpeg/binaries/ffmpeg-macos-aarch64-v7.1 -i KjB6r-HDDI0__chunk__5.mp4 -loglevel error -f image2pipe -vf scale=640:360 -sws_flags bicubic -pix_fmt rgb24 -vcodec rawvideo -\n",
      "Audio path: KjB6r-HDDI0__audio__5.mp3, Video path: KjB6r-HDDI0__video__5.mp4\n",
      "MoviePy - Writing audio in KjB6r-HDDI0__audio__5.mp3\n"
     ]
    },
    {
     "name": "stderr",
     "output_type": "stream",
     "text": [
      "                                                                    \r"
     ]
    },
    {
     "name": "stdout",
     "output_type": "stream",
     "text": [
      "MoviePy - Done.\n",
      "MoviePy - Building video /Users/emmettstorts/Documents/slip-ml/data/videos/KjB6r-HDDI0__video__5.mp4.\n",
      "MoviePy - Writing video /Users/emmettstorts/Documents/slip-ml/data/videos/KjB6r-HDDI0__video__5.mp4\n",
      "\n"
     ]
    },
    {
     "name": "stderr",
     "output_type": "stream",
     "text": [
      "frame_index:  92%|█████████▏| 220/240 [00:00<00:00, 431.86it/s, now=None]/Users/emmettstorts/.local/share/virtualenvs/slip-ml-D1sQfDoh/lib/python3.11/site-packages/moviepy/video/io/ffmpeg_reader.py:178: UserWarning: In file KjB6r-HDDI0__chunk__5.mp4, 691200 bytes wanted but 0 bytes read at frame index 239 (out of a total 240 frames), at time 9.97/10.01 sec. Using the last valid frame instead.\n",
      "  warnings.warn(\n",
      "/Users/emmettstorts/.local/share/virtualenvs/slip-ml-D1sQfDoh/lib/python3.11/site-packages/transformers/models/whisper/generation_whisper.py:573: FutureWarning: The input name `inputs` is deprecated. Please make sure to use `input_features` instead.\n",
      "  warnings.warn(\n"
     ]
    },
    {
     "name": "stdout",
     "output_type": "stream",
     "text": [
      "MoviePy - Done !\n",
      "MoviePy - video ready /Users/emmettstorts/Documents/slip-ml/data/videos/KjB6r-HDDI0__video__5.mp4\n",
      "Audio and video split successfully!\n",
      "Text saved to KjB6r-HDDI0__text__5.json\n",
      "Video ID: KjB6r-HDDI0, Chunk Name: 6\n",
      "{'video_found': True, 'audio_found': True, 'metadata': {'major_brand': 'isom', 'minor_version': '512', 'compatible_brands': 'isomiso2avc1mp41', 'encoder': 'Lavf61.7.100'}, 'inputs': [{'streams': [{'input_number': 0, 'stream_number': 0, 'stream_type': 'video', 'language': None, 'default': True, 'size': [640, 360], 'bitrate': 441, 'fps': 23.976023976023978, 'codec_name': 'h264', 'profile': '(High)', 'metadata': {'Metadata': '', 'handler_name': 'VideoHandler', 'vendor_id': '[0][0][0][0]', 'encoder': 'Lavc61.19.100 libx264'}}, {'input_number': 0, 'stream_number': 1, 'stream_type': 'audio', 'language': None, 'default': True, 'fps': 44100, 'bitrate': 127, 'metadata': {'Metadata': '', 'handler_name': 'SoundHandler', 'vendor_id': '[0][0][0][0]'}}], 'input_number': 0}], 'duration': 10.01, 'bitrate': 575, 'start': 0.0, 'default_video_input_number': 0, 'default_video_stream_number': 0, 'video_codec_name': 'h264', 'video_profile': '(High)', 'video_size': [640, 360], 'video_bitrate': 441, 'video_fps': 23.976023976023978, 'default_audio_input_number': 0, 'default_audio_stream_number': 1, 'audio_fps': 44100, 'audio_bitrate': 127, 'video_duration': 10.01, 'video_n_frames': 240}\n",
      "/Users/emmettstorts/.local/share/virtualenvs/slip-ml-D1sQfDoh/lib/python3.11/site-packages/imageio_ffmpeg/binaries/ffmpeg-macos-aarch64-v7.1 -i KjB6r-HDDI0__chunk__6.mp4 -loglevel error -f image2pipe -vf scale=640:360 -sws_flags bicubic -pix_fmt rgb24 -vcodec rawvideo -\n",
      "Audio path: KjB6r-HDDI0__audio__6.mp3, Video path: KjB6r-HDDI0__video__6.mp4\n",
      "MoviePy - Writing audio in KjB6r-HDDI0__audio__6.mp3\n"
     ]
    },
    {
     "name": "stderr",
     "output_type": "stream",
     "text": [
      "                                                        \r"
     ]
    },
    {
     "name": "stdout",
     "output_type": "stream",
     "text": [
      "MoviePy - Done.\n",
      "MoviePy - Building video /Users/emmettstorts/Documents/slip-ml/data/videos/KjB6r-HDDI0__video__6.mp4.\n",
      "MoviePy - Writing video /Users/emmettstorts/Documents/slip-ml/data/videos/KjB6r-HDDI0__video__6.mp4\n",
      "\n"
     ]
    },
    {
     "name": "stderr",
     "output_type": "stream",
     "text": [
      "frame_index:  68%|██████▊   | 162/240 [00:00<00:00, 799.87it/s, now=None]/Users/emmettstorts/.local/share/virtualenvs/slip-ml-D1sQfDoh/lib/python3.11/site-packages/moviepy/video/io/ffmpeg_reader.py:178: UserWarning: In file KjB6r-HDDI0__chunk__6.mp4, 691200 bytes wanted but 0 bytes read at frame index 239 (out of a total 240 frames), at time 9.97/10.01 sec. Using the last valid frame instead.\n",
      "  warnings.warn(\n",
      "                                                                         \r"
     ]
    },
    {
     "name": "stdout",
     "output_type": "stream",
     "text": [
      "MoviePy - Done !\n",
      "MoviePy - video ready /Users/emmettstorts/Documents/slip-ml/data/videos/KjB6r-HDDI0__video__6.mp4\n",
      "Audio and video split successfully!\n"
     ]
    },
    {
     "name": "stderr",
     "output_type": "stream",
     "text": [
      "/Users/emmettstorts/.local/share/virtualenvs/slip-ml-D1sQfDoh/lib/python3.11/site-packages/transformers/models/whisper/generation_whisper.py:573: FutureWarning: The input name `inputs` is deprecated. Please make sure to use `input_features` instead.\n",
      "  warnings.warn(\n"
     ]
    },
    {
     "name": "stdout",
     "output_type": "stream",
     "text": [
      "Text saved to KjB6r-HDDI0__text__6.json\n",
      "Video ID: KjB6r-HDDI0, Chunk Name: 7\n",
      "{'video_found': True, 'audio_found': True, 'metadata': {'major_brand': 'isom', 'minor_version': '512', 'compatible_brands': 'isomiso2avc1mp41', 'encoder': 'Lavf61.7.100'}, 'inputs': [{'streams': [{'input_number': 0, 'stream_number': 0, 'stream_type': 'video', 'language': None, 'default': True, 'size': [640, 360], 'bitrate': 275, 'fps': 23.976023976023978, 'codec_name': 'h264', 'profile': '(High)', 'metadata': {'Metadata': '', 'handler_name': 'VideoHandler', 'vendor_id': '[0][0][0][0]', 'encoder': 'Lavc61.19.100 libx264'}}, {'input_number': 0, 'stream_number': 1, 'stream_type': 'audio', 'language': None, 'default': True, 'fps': 44100, 'bitrate': 127, 'metadata': {'Metadata': '', 'handler_name': 'SoundHandler', 'vendor_id': '[0][0][0][0]'}}], 'input_number': 0}], 'duration': 10.01, 'bitrate': 410, 'start': 0.0, 'default_video_input_number': 0, 'default_video_stream_number': 0, 'video_codec_name': 'h264', 'video_profile': '(High)', 'video_size': [640, 360], 'video_bitrate': 275, 'video_fps': 23.976023976023978, 'default_audio_input_number': 0, 'default_audio_stream_number': 1, 'audio_fps': 44100, 'audio_bitrate': 127, 'video_duration': 10.01, 'video_n_frames': 240}\n",
      "/Users/emmettstorts/.local/share/virtualenvs/slip-ml-D1sQfDoh/lib/python3.11/site-packages/imageio_ffmpeg/binaries/ffmpeg-macos-aarch64-v7.1 -i KjB6r-HDDI0__chunk__7.mp4 -loglevel error -f image2pipe -vf scale=640:360 -sws_flags bicubic -pix_fmt rgb24 -vcodec rawvideo -\n",
      "Audio path: KjB6r-HDDI0__audio__7.mp3, Video path: KjB6r-HDDI0__video__7.mp4\n",
      "MoviePy - Writing audio in KjB6r-HDDI0__audio__7.mp3\n"
     ]
    },
    {
     "name": "stderr",
     "output_type": "stream",
     "text": [
      "                                                        \r"
     ]
    },
    {
     "name": "stdout",
     "output_type": "stream",
     "text": [
      "MoviePy - Done.\n",
      "MoviePy - Building video /Users/emmettstorts/Documents/slip-ml/data/videos/KjB6r-HDDI0__video__7.mp4.\n",
      "MoviePy - Writing video /Users/emmettstorts/Documents/slip-ml/data/videos/KjB6r-HDDI0__video__7.mp4\n",
      "\n"
     ]
    },
    {
     "name": "stderr",
     "output_type": "stream",
     "text": [
      "frame_index:  69%|██████▉   | 166/240 [00:00<00:00, 787.37it/s, now=None]/Users/emmettstorts/.local/share/virtualenvs/slip-ml-D1sQfDoh/lib/python3.11/site-packages/moviepy/video/io/ffmpeg_reader.py:178: UserWarning: In file KjB6r-HDDI0__chunk__7.mp4, 691200 bytes wanted but 0 bytes read at frame index 239 (out of a total 240 frames), at time 9.97/10.01 sec. Using the last valid frame instead.\n",
      "  warnings.warn(\n",
      "/Users/emmettstorts/.local/share/virtualenvs/slip-ml-D1sQfDoh/lib/python3.11/site-packages/transformers/models/whisper/generation_whisper.py:573: FutureWarning: The input name `inputs` is deprecated. Please make sure to use `input_features` instead.\n",
      "  warnings.warn(\n"
     ]
    },
    {
     "name": "stdout",
     "output_type": "stream",
     "text": [
      "MoviePy - Done !\n",
      "MoviePy - video ready /Users/emmettstorts/Documents/slip-ml/data/videos/KjB6r-HDDI0__video__7.mp4\n",
      "Audio and video split successfully!\n",
      "Text saved to KjB6r-HDDI0__text__7.json\n",
      "Video ID: KjB6r-HDDI0, Chunk Name: 8\n",
      "{'video_found': True, 'audio_found': True, 'metadata': {'major_brand': 'isom', 'minor_version': '512', 'compatible_brands': 'isomiso2avc1mp41', 'encoder': 'Lavf61.7.100'}, 'inputs': [{'streams': [{'input_number': 0, 'stream_number': 0, 'stream_type': 'video', 'language': None, 'default': True, 'size': [640, 360], 'bitrate': 199, 'fps': 23.976023976023978, 'codec_name': 'h264', 'profile': '(High)', 'metadata': {'Metadata': '', 'handler_name': 'VideoHandler', 'vendor_id': '[0][0][0][0]', 'encoder': 'Lavc61.19.100 libx264'}}, {'input_number': 0, 'stream_number': 1, 'stream_type': 'audio', 'language': None, 'default': True, 'fps': 44100, 'bitrate': 127, 'metadata': {'Metadata': '', 'handler_name': 'SoundHandler', 'vendor_id': '[0][0][0][0]'}}], 'input_number': 0}], 'duration': 10.01, 'bitrate': 334, 'start': 0.0, 'default_video_input_number': 0, 'default_video_stream_number': 0, 'video_codec_name': 'h264', 'video_profile': '(High)', 'video_size': [640, 360], 'video_bitrate': 199, 'video_fps': 23.976023976023978, 'default_audio_input_number': 0, 'default_audio_stream_number': 1, 'audio_fps': 44100, 'audio_bitrate': 127, 'video_duration': 10.01, 'video_n_frames': 240}\n",
      "/Users/emmettstorts/.local/share/virtualenvs/slip-ml-D1sQfDoh/lib/python3.11/site-packages/imageio_ffmpeg/binaries/ffmpeg-macos-aarch64-v7.1 -i KjB6r-HDDI0__chunk__8.mp4 -loglevel error -f image2pipe -vf scale=640:360 -sws_flags bicubic -pix_fmt rgb24 -vcodec rawvideo -\n",
      "Audio path: KjB6r-HDDI0__audio__8.mp3, Video path: KjB6r-HDDI0__video__8.mp4\n",
      "MoviePy - Writing audio in KjB6r-HDDI0__audio__8.mp3\n"
     ]
    },
    {
     "name": "stderr",
     "output_type": "stream",
     "text": [
      "                                                        \r"
     ]
    },
    {
     "name": "stdout",
     "output_type": "stream",
     "text": [
      "MoviePy - Done.\n",
      "MoviePy - Building video /Users/emmettstorts/Documents/slip-ml/data/videos/KjB6r-HDDI0__video__8.mp4.\n",
      "MoviePy - Writing video /Users/emmettstorts/Documents/slip-ml/data/videos/KjB6r-HDDI0__video__8.mp4\n",
      "\n"
     ]
    },
    {
     "name": "stderr",
     "output_type": "stream",
     "text": [
      "frame_index:  85%|████████▍ | 203/240 [00:00<00:00, 1009.44it/s, now=None]/Users/emmettstorts/.local/share/virtualenvs/slip-ml-D1sQfDoh/lib/python3.11/site-packages/moviepy/video/io/ffmpeg_reader.py:178: UserWarning: In file KjB6r-HDDI0__chunk__8.mp4, 691200 bytes wanted but 0 bytes read at frame index 239 (out of a total 240 frames), at time 9.97/10.01 sec. Using the last valid frame instead.\n",
      "  warnings.warn(\n",
      "/Users/emmettstorts/.local/share/virtualenvs/slip-ml-D1sQfDoh/lib/python3.11/site-packages/transformers/models/whisper/generation_whisper.py:573: FutureWarning: The input name `inputs` is deprecated. Please make sure to use `input_features` instead.\n",
      "  warnings.warn(\n"
     ]
    },
    {
     "name": "stdout",
     "output_type": "stream",
     "text": [
      "MoviePy - Done !\n",
      "MoviePy - video ready /Users/emmettstorts/Documents/slip-ml/data/videos/KjB6r-HDDI0__video__8.mp4\n",
      "Audio and video split successfully!\n",
      "Text saved to KjB6r-HDDI0__text__8.json\n",
      "Video ID: KjB6r-HDDI0, Chunk Name: 9\n",
      "{'video_found': True, 'audio_found': True, 'metadata': {'major_brand': 'isom', 'minor_version': '512', 'compatible_brands': 'isomiso2avc1mp41', 'encoder': 'Lavf61.7.100'}, 'inputs': [{'streams': [{'input_number': 0, 'stream_number': 0, 'stream_type': 'video', 'language': None, 'default': True, 'size': [640, 360], 'bitrate': 133, 'fps': 23.976023976023978, 'codec_name': 'h264', 'profile': '(High)', 'metadata': {'Metadata': '', 'handler_name': 'VideoHandler', 'vendor_id': '[0][0][0][0]', 'encoder': 'Lavc61.19.100 libx264'}}, {'input_number': 0, 'stream_number': 1, 'stream_type': 'audio', 'language': None, 'default': True, 'fps': 44100, 'bitrate': 127, 'metadata': {'Metadata': '', 'handler_name': 'SoundHandler', 'vendor_id': '[0][0][0][0]'}}], 'input_number': 0}], 'duration': 9.01, 'bitrate': 268, 'start': 0.0, 'default_video_input_number': 0, 'default_video_stream_number': 0, 'video_codec_name': 'h264', 'video_profile': '(High)', 'video_size': [640, 360], 'video_bitrate': 133, 'video_fps': 23.976023976023978, 'default_audio_input_number': 0, 'default_audio_stream_number': 1, 'audio_fps': 44100, 'audio_bitrate': 127, 'video_duration': 9.01, 'video_n_frames': 216}\n",
      "/Users/emmettstorts/.local/share/virtualenvs/slip-ml-D1sQfDoh/lib/python3.11/site-packages/imageio_ffmpeg/binaries/ffmpeg-macos-aarch64-v7.1 -i KjB6r-HDDI0__chunk__9.mp4 -loglevel error -f image2pipe -vf scale=640:360 -sws_flags bicubic -pix_fmt rgb24 -vcodec rawvideo -\n",
      "Audio path: KjB6r-HDDI0__audio__9.mp3, Video path: KjB6r-HDDI0__video__9.mp4\n",
      "MoviePy - Writing audio in KjB6r-HDDI0__audio__9.mp3\n"
     ]
    },
    {
     "name": "stderr",
     "output_type": "stream",
     "text": [
      "                                                        \r"
     ]
    },
    {
     "name": "stdout",
     "output_type": "stream",
     "text": [
      "MoviePy - Done.\n",
      "MoviePy - Building video /Users/emmettstorts/Documents/slip-ml/data/videos/KjB6r-HDDI0__video__9.mp4.\n",
      "MoviePy - Writing video /Users/emmettstorts/Documents/slip-ml/data/videos/KjB6r-HDDI0__video__9.mp4\n",
      "\n"
     ]
    },
    {
     "name": "stderr",
     "output_type": "stream",
     "text": [
      "frame_index:  99%|█████████▊| 213/216 [00:00<00:00, 1088.91it/s, now=None]/Users/emmettstorts/.local/share/virtualenvs/slip-ml-D1sQfDoh/lib/python3.11/site-packages/moviepy/video/io/ffmpeg_reader.py:178: UserWarning: In file KjB6r-HDDI0__chunk__9.mp4, 691200 bytes wanted but 0 bytes read at frame index 215 (out of a total 216 frames), at time 8.97/9.01 sec. Using the last valid frame instead.\n",
      "  warnings.warn(\n",
      "/Users/emmettstorts/.local/share/virtualenvs/slip-ml-D1sQfDoh/lib/python3.11/site-packages/transformers/models/whisper/generation_whisper.py:573: FutureWarning: The input name `inputs` is deprecated. Please make sure to use `input_features` instead.\n",
      "  warnings.warn(\n"
     ]
    },
    {
     "name": "stdout",
     "output_type": "stream",
     "text": [
      "MoviePy - Done !\n",
      "MoviePy - video ready /Users/emmettstorts/Documents/slip-ml/data/videos/KjB6r-HDDI0__video__9.mp4\n",
      "Audio and video split successfully!\n",
      "Text saved to KjB6r-HDDI0__text__9.json\n"
     ]
    }
   ],
   "source": [
    "for url in videos:\n",
    "    video_name = download_youtube_video_yt_dlp(url)\n",
    "    video_chunks = clip_video_into_chunks(video_name, chunk_length=10)\n",
    "    for chunk in video_chunks:\n",
    "        audio_path = split_audio_video(chunk)\n",
    "        audio_to_text(audio_path)"
   ]
  },
  {
   "cell_type": "code",
   "execution_count": null,
   "id": "290c4967",
   "metadata": {},
   "outputs": [],
   "source": []
  }
 ],
 "metadata": {
  "kernelspec": {
   "display_name": "slip-ml-D1sQfDoh",
   "language": "python",
   "name": "python3"
  },
  "language_info": {
   "codemirror_mode": {
    "name": "ipython",
    "version": 3
   },
   "file_extension": ".py",
   "mimetype": "text/x-python",
   "name": "python",
   "nbconvert_exporter": "python",
   "pygments_lexer": "ipython3",
   "version": "3.11.6"
  }
 },
 "nbformat": 4,
 "nbformat_minor": 5
}
