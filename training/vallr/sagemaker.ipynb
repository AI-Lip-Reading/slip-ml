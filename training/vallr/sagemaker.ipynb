{
 "cells": [
  {
   "cell_type": "code",
   "execution_count": null,
   "id": "deba117c",
   "metadata": {},
   "outputs": [],
   "source": [
    "import sagemaker\n",
    "from sagemaker.pytorch import PyTorch\n",
    "import boto3\n",
    "import json"
   ]
  },
  {
   "cell_type": "code",
   "execution_count": null,
   "id": "3a2ae21e",
   "metadata": {},
   "outputs": [],
   "source": [
    "sagemaker_session = sagemaker.Session()\n",
    "bucket = 'slip-ml'\n",
    "role = 'arn:aws:iam::438465160412:role/Sagemaker'\n",
    "project_name = 'vid-embed-image-transformer'"
   ]
  },
  {
   "cell_type": "code",
   "execution_count": null,
   "id": "7221599d",
   "metadata": {},
   "outputs": [],
   "source": [
    "secret_name = \"huggingface\"\n",
    "region_name = \"us-east-1\"\n",
    "session = boto3.session.Session()\n",
    "secretsmanager = session.client(service_name='secretsmanager', region_name=region_name)\n",
    "get_secret_value_response = secretsmanager.get_secret_value(SecretId=secret_name)\n",
    "secret = get_secret_value_response['SecretString']\n",
    "api_key = json.loads(secret)[\"API_KEY\"]"
   ]
  },
  {
   "cell_type": "code",
   "execution_count": null,
   "id": "3f3f6977",
   "metadata": {},
   "outputs": [],
   "source": [
    "training_instances_gpus = {\n",
    "    \"ml.g5.2xlarge\": 1,\n",
    "    \"ml.g5.12xlarge\": 4,\n",
    "    \"ml.p4d.24xlarge\": 8,\n",
    "    \"ml.p5.48xlarge\": 8\n",
    "}\n",
    "instance_type = 'ml.p4d.24xlarge'"
   ]
  },
  {
   "cell_type": "code",
   "execution_count": null,
   "id": "347e25c7",
   "metadata": {},
   "outputs": [],
   "source": [
    "image_uri = sagemaker.image_uris.retrieve(framework='pytorch',\n",
    "                             region=sagemaker_session.boto_region_name,\n",
    "                             instance_type=instance_type,\n",
    "                             image_scope='training')\n",
    "print(image_uri)"
   ]
  },
  {
   "cell_type": "code",
   "execution_count": null,
   "id": "329bf6b9",
   "metadata": {},
   "outputs": [],
   "source": [
    "estimator = PyTorch(\n",
    "    entry_point=\"vallr.py\",\n",
    "    role=role,\n",
    "    base_job_name=project_name,\n",
    "    instance_count=1,\n",
    "    instance_type=instance_type,\n",
    "    image_uri=image_uri,\n",
    "    py_version=\"py310\",\n",
    "    source_dir=\"source\",\n",
    "    hyperparameters={\n",
    "        \"batch-size\": 2,\n",
    "        \"epochs\": 7,\n",
    "        \"lr\": 3e-4,\n",
    "        \"project-name\": f\"{project_name}\",\n",
    "    },\n",
    "    sagemaker_session=sagemaker_session,\n",
    "    volume_size=50,\n",
    "    environment={\"HF_TOKEN\": \"\" + api_key},\n",
    "    output_path=f's3://{bucket}/models/{project_name}',\n",
    "    code_location=f's3://{bucket}/model-building/{project_name}',\n",
    ")"
   ]
  },
  {
   "cell_type": "code",
   "execution_count": null,
   "id": "628ec546",
   "metadata": {},
   "outputs": [],
   "source": [
    "estimator.fit({'training': f's3://{bucket}/data/vallr/train/',\n",
    "               'test': f's3://{bucket}/data/vallr/test/'})"
   ]
  },
  {
   "cell_type": "code",
   "execution_count": null,
   "id": "79cda495",
   "metadata": {},
   "outputs": [],
   "source": [
    "from transformers import ViTModel, ViTConfig        \n",
    "vit = ViTModel.from_pretrained(\"google/vit-base-patch16-224\")\n",
    "vit_config = ViTConfig.from_pretrained(\"google/vit-base-patch16-224\")"
   ]
  },
  {
   "cell_type": "code",
   "execution_count": null,
   "id": "cd27ce37",
   "metadata": {},
   "outputs": [],
   "source": []
  }
 ],
 "metadata": {
  "kernelspec": {
   "display_name": "slip-ml-bXUTykFe",
   "language": "python",
   "name": "python3"
  },
  "language_info": {
   "codemirror_mode": {
    "name": "ipython",
    "version": 3
   },
   "file_extension": ".py",
   "mimetype": "text/x-python",
   "name": "python",
   "nbconvert_exporter": "python",
   "pygments_lexer": "ipython3",
   "version": "3.11.7"
  }
 },
 "nbformat": 4,
 "nbformat_minor": 5
}
